{
  "cells": [
    {
      "cell_type": "markdown",
      "metadata": {},
      "source": [
        "<h2>IS453 Financial Analytics</h2><h2>Week 5 - Returns Distribution and Portfolio Analysis</h2>"
      ]
    },
    {
      "cell_type": "code",
      "execution_count": 21,
      "metadata": {
        "execution": {
          "iopub.execute_input": "2023-11-18T09:10:21.867Z",
          "iopub.status.busy": "2023-11-18T09:10:21.835Z",
          "iopub.status.idle": "2023-11-18T09:10:23.276Z",
          "shell.execute_reply": "2023-11-18T09:10:23.302Z"
        }
      },
      "outputs": [],
      "source": [
        "import matplotlib.pyplot as plt\n",
        "import pandas as pd\n",
        "import numpy as np\n",
        "from matplotlib.ticker import FuncFormatter\n",
        "import yfinance as yf\n",
        "import statsmodels.api as sm\n",
        "\n",
        "from scipy.stats import norm\n",
        "\n",
        "#if compatibity problems force versions\n",
        "#!pip install scipy==1.7.3\n",
        "#!pip install numpy==1.22.4"
      ]
    },
    {
      "cell_type": "markdown",
      "metadata": {},
      "source": [
        "## 1. Distribution of returns\n",
        "\n",
        "### Generate a histograms with normal distribution plot \n",
        "Calculate daily returns for 2021 for 'AAPL', 'SPY', and 'TLT' and generate \n",
        "histograms with normal distribution plots to help answer the questions that follow.\n",
        "\n",
        "Histograms can be generated using the plt.hist() method. <BR>\n",
        "A normal distribution curve can be generated using the numpy.linspace() method."
      ]
    },
    {
      "cell_type": "markdown",
      "metadata": {},
      "source": [
        "**Get the price data and calculate percent returns**"
      ]
    },
    {
      "cell_type": "code",
      "execution_count": 22,
      "metadata": {},
      "outputs": [],
      "source": [
        "# define function to get last trading day of year\n",
        "def last_trading_day(year):\n",
        "    return (pd.Timestamp(f'{year}-12-31') if pd.Timestamp(f'{year}-12-31').isoweekday() < 6 \\\n",
        "            else pd.Timestamp(f'{year}-12-31') - pd.offsets.BDay(1)).strftime('%Y-%m-%d')"
      ]
    },
    {
      "cell_type": "code",
      "execution_count": 23,
      "metadata": {
        "execution": {
          "iopub.execute_input": "2023-11-18T09:10:30.128Z",
          "iopub.status.busy": "2023-11-18T09:10:30.091Z",
          "iopub.status.idle": "2023-11-18T09:10:30.364Z",
          "shell.execute_reply": "2023-11-18T09:10:30.401Z"
        }
      },
      "outputs": [
        {
          "name": "stdout",
          "output_type": "stream",
          "text": [
            "[*********************100%%**********************]  3 of 3 completed\n"
          ]
        },
        {
          "data": {
            "text/html": [
              "<div>\n",
              "<style scoped>\n",
              "    .dataframe tbody tr th:only-of-type {\n",
              "        vertical-align: middle;\n",
              "    }\n",
              "\n",
              "    .dataframe tbody tr th {\n",
              "        vertical-align: top;\n",
              "    }\n",
              "\n",
              "    .dataframe thead th {\n",
              "        text-align: right;\n",
              "    }\n",
              "</style>\n",
              "<table border=\"1\" class=\"dataframe\">\n",
              "  <thead>\n",
              "    <tr style=\"text-align: right;\">\n",
              "      <th></th>\n",
              "      <th>AAPL</th>\n",
              "      <th>SPY</th>\n",
              "      <th>TLT</th>\n",
              "    </tr>\n",
              "    <tr>\n",
              "      <th>Date</th>\n",
              "      <th></th>\n",
              "      <th></th>\n",
              "      <th></th>\n",
              "    </tr>\n",
              "  </thead>\n",
              "  <tbody>\n",
              "    <tr>\n",
              "      <th>2021-01-04</th>\n",
              "      <td>-0.024719</td>\n",
              "      <td>-0.013614</td>\n",
              "      <td>-0.001205</td>\n",
              "    </tr>\n",
              "    <tr>\n",
              "      <th>2021-01-05</th>\n",
              "      <td>0.012364</td>\n",
              "      <td>0.006887</td>\n",
              "      <td>-0.007426</td>\n",
              "    </tr>\n",
              "    <tr>\n",
              "      <th>2021-01-06</th>\n",
              "      <td>-0.033661</td>\n",
              "      <td>0.005979</td>\n",
              "      <td>-0.020529</td>\n",
              "    </tr>\n",
              "    <tr>\n",
              "      <th>2021-01-07</th>\n",
              "      <td>0.034123</td>\n",
              "      <td>0.014857</td>\n",
              "      <td>-0.008814</td>\n",
              "    </tr>\n",
              "    <tr>\n",
              "      <th>2021-01-08</th>\n",
              "      <td>0.008631</td>\n",
              "      <td>0.005698</td>\n",
              "      <td>-0.003228</td>\n",
              "    </tr>\n",
              "    <tr>\n",
              "      <th>...</th>\n",
              "      <td>...</td>\n",
              "      <td>...</td>\n",
              "      <td>...</td>\n",
              "    </tr>\n",
              "    <tr>\n",
              "      <th>2021-12-27</th>\n",
              "      <td>0.022975</td>\n",
              "      <td>0.014152</td>\n",
              "      <td>0.002424</td>\n",
              "    </tr>\n",
              "    <tr>\n",
              "      <th>2021-12-28</th>\n",
              "      <td>-0.005767</td>\n",
              "      <td>-0.000817</td>\n",
              "      <td>-0.003962</td>\n",
              "    </tr>\n",
              "    <tr>\n",
              "      <th>2021-12-29</th>\n",
              "      <td>0.000502</td>\n",
              "      <td>0.001279</td>\n",
              "      <td>-0.010925</td>\n",
              "    </tr>\n",
              "    <tr>\n",
              "      <th>2021-12-30</th>\n",
              "      <td>-0.006578</td>\n",
              "      <td>-0.002764</td>\n",
              "      <td>0.008386</td>\n",
              "    </tr>\n",
              "    <tr>\n",
              "      <th>2021-12-31</th>\n",
              "      <td>-0.003535</td>\n",
              "      <td>-0.002520</td>\n",
              "      <td>0.001961</td>\n",
              "    </tr>\n",
              "  </tbody>\n",
              "</table>\n",
              "<p>252 rows × 3 columns</p>\n",
              "</div>"
            ],
            "text/plain": [
              "                AAPL       SPY       TLT\n",
              "Date                                    \n",
              "2021-01-04 -0.024719 -0.013614 -0.001205\n",
              "2021-01-05  0.012364  0.006887 -0.007426\n",
              "2021-01-06 -0.033661  0.005979 -0.020529\n",
              "2021-01-07  0.034123  0.014857 -0.008814\n",
              "2021-01-08  0.008631  0.005698 -0.003228\n",
              "...              ...       ...       ...\n",
              "2021-12-27  0.022975  0.014152  0.002424\n",
              "2021-12-28 -0.005767 -0.000817 -0.003962\n",
              "2021-12-29  0.000502  0.001279 -0.010925\n",
              "2021-12-30 -0.006578 -0.002764  0.008386\n",
              "2021-12-31 -0.003535 -0.002520  0.001961\n",
              "\n",
              "[252 rows x 3 columns]"
            ]
          },
          "execution_count": 23,
          "metadata": {},
          "output_type": "execute_result"
        }
      ],
      "source": [
        "# sample code\n",
        "tickers = ['AAPL','SPY','TLT']\n",
        "\n",
        "start_date = last_trading_day(2020)\n",
        "end_date = '2022-01-01'\n",
        "\n",
        "data1 = yf.download(tickers, start= start_date, end= end_date)\n",
        "\n",
        "stock_prices = data1[['Adj Close']]\n",
        "stocks_pct_chg = stock_prices['Adj Close'].pct_change().dropna()\n",
        "\n",
        "stocks_pct_chg"
      ]
    },
    {
      "cell_type": "markdown",
      "metadata": {
        "nteract": {
          "transient": {
            "deleting": false
          }
        }
      },
      "source": [
        "**Generate a histogram of stock returns distribution**"
      ]
    },
    {
      "cell_type": "code",
      "execution_count": 24,
      "metadata": {
        "collapsed": true,
        "execution": {
          "iopub.execute_input": "2023-11-18T11:59:17.576Z",
          "iopub.status.busy": "2023-11-18T11:59:17.557Z",
          "iopub.status.idle": "2023-11-18T11:59:17.614Z",
          "shell.execute_reply": "2023-11-18T11:59:17.638Z"
        },
        "jupyter": {
          "outputs_hidden": false,
          "source_hidden": false
        },
        "nteract": {
          "transient": {
            "deleting": false
          }
        }
      },
      "outputs": [
        {
          "data": {
            "image/png": "[encoded data removed]",
            "text/plain": [
              "<Figure size 1000x500 with 1 Axes>"
            ]
          },
          "metadata": {},
          "output_type": "display_data"
        }
      ],
      "source": [
        "# sample code \n",
        "# generate AAPL histogram\n",
        "\n",
        "bins = 30\n",
        "\n",
        "# create histogram plot\n",
        "fig = plt.figure(figsize=(10,5))\n",
        "ax = fig.add_subplot()\n",
        "ax.hist(stocks_pct_chg['AAPL'], bins=bins, edgecolor='black', label='histogram')\n",
        "ax.set_xlabel('daily return')\n",
        "ax.set_ylabel('frequency')\n",
        "\n",
        "plt.show()"
      ]
    },
    {
      "cell_type": "markdown",
      "metadata": {},
      "source": [
        "**Plot the histogram with a normal distribution curve overlay**"
      ]
    },
    {
      "cell_type": "code",
      "execution_count": 25,
      "metadata": {
        "execution": {
          "iopub.execute_input": "2023-11-18T12:08:02.940Z",
          "iopub.status.busy": "2023-11-18T12:08:02.930Z",
          "iopub.status.idle": "2023-11-18T12:08:02.995Z",
          "shell.execute_reply": "2023-11-18T12:08:03.028Z"
        }
      },
      "outputs": [
        {
          "data": {
            "image/png": "[encoded data removed]",
            "text/plain": [
              "<Figure size 1000x500 with 1 Axes>"
            ]
          },
          "metadata": {},
          "output_type": "display_data"
        }
      ],
      "source": [
        "# sample code \n",
        "\n",
        "bins = 30\n",
        "\n",
        "# create histogram plot\n",
        "fig = plt.figure(figsize=(10,5))\n",
        "plt.hist(stocks_pct_chg['AAPL'], bins=bins, edgecolor='black', label='histogram', density=True)\n",
        "plt.xlabel('daily return AAPL')\n",
        "plt.ylabel('frequency')\n",
        "\n",
        "# calculate the normal PDF\n",
        "mu, std = norm.fit(stocks_pct_chg['AAPL'])  \n",
        "xmin, xmax = plt.xlim() \n",
        "x = np.linspace(xmin, xmax, 100) \n",
        "p = norm.pdf(x, mu, std) \n",
        "\n",
        "# plot normal curve\n",
        "plt.plot(x, p, color=\"r\", label='normal')\n",
        "plt.show()"
      ]
    },
    {
      "cell_type": "markdown",
      "metadata": {},
      "source": [
        "**Follow the same steps to plot the distributions for SPY and TLT together with the fitted normal PDF**"
      ]
    },
    {
      "cell_type": "code",
      "execution_count": 26,
      "metadata": {
        "collapsed": true,
        "execution": {
          "iopub.execute_input": "2023-02-15T11:23:53.841Z",
          "iopub.status.busy": "2023-02-15T11:23:53.818Z",
          "iopub.status.idle": "2023-02-15T11:23:53.883Z",
          "shell.execute_reply": "2023-02-15T11:23:54.035Z"
        },
        "jupyter": {
          "outputs_hidden": false,
          "source_hidden": false
        },
        "nteract": {
          "transient": {
            "deleting": false
          }
        }
      },
      "outputs": [
        {
          "data": {
            "image/png": "[encoded data removed]",
            "text/plain": [
              "<Figure size 1000x500 with 1 Axes>"
            ]
          },
          "metadata": {},
          "output_type": "display_data"
        }
      ],
      "source": [
        "# your code here\n",
        "# sample code \n",
        "\n",
        "bins = 30\n",
        "\n",
        "# create histogram plot\n",
        "fig = plt.figure(figsize=(10,5))\n",
        "plt.hist(stocks_pct_chg['SPY'], bins=bins, edgecolor='black', label='histogram', density=True)\n",
        "plt.xlabel('daily return SPY')\n",
        "plt.ylabel('frequency')\n",
        "\n",
        "# calculate the normal PDF\n",
        "mu, std = norm.fit(stocks_pct_chg['SPY'])  \n",
        "xmin, xmax = plt.xlim() \n",
        "x = np.linspace(xmin, xmax, 100) \n",
        "p = norm.pdf(x, mu, std) \n",
        "\n",
        "# plot normal curve\n",
        "plt.plot(x, p, color=\"r\", label='normal')\n",
        "plt.show()"
      ]
    },
    {
      "cell_type": "code",
      "execution_count": 27,
      "metadata": {},
      "outputs": [
        {
          "data": {
            "image/png": "[encoded data removed]",
            "text/plain": [
              "<Figure size 1000x500 with 1 Axes>"
            ]
          },
          "metadata": {},
          "output_type": "display_data"
        }
      ],
      "source": [
        "# sample code \n",
        "\n",
        "bins = 30\n",
        "\n",
        "# create histogram plot\n",
        "fig = plt.figure(figsize=(10,5))\n",
        "plt.hist(stocks_pct_chg['TLT'], bins=bins, edgecolor='black', label='histogram', density=True)\n",
        "plt.xlabel('daily return TLT')\n",
        "plt.ylabel('frequency')\n",
        "\n",
        "# calculate the normal PDF\n",
        "mu, std = norm.fit(stocks_pct_chg['TLT'])  \n",
        "xmin, xmax = plt.xlim() \n",
        "x = np.linspace(xmin, xmax, 100) \n",
        "p = norm.pdf(x, mu, std) \n",
        "\n",
        "# plot normal curve\n",
        "plt.plot(x, p, color=\"r\", label='normal')\n",
        "plt.show()"
      ]
    },
    {
      "cell_type": "markdown",
      "metadata": {
        "nteract": {
          "transient": {
            "deleting": false
          }
        }
      },
      "source": [
        "**Exercise Q1**\n",
        "\n",
        "Based on visual inspection of the graphs, are the distributions: \n",
        "\n",
        "- Leptokurtic - with higher, sharper central peaks, and longer tails; or <br>\n",
        "- Platokurtic - with lower central peaks, short tails?\n",
        "- Or is it too difficult to tell?"
      ]
    },
    {
      "cell_type": "markdown",
      "metadata": {
        "nteract": {
          "transient": {
            "deleting": false
          }
        }
      },
      "source": [
        "Your answer here\n",
        "- AAPL - leptokurtic\n",
        "- SPY - leptokurtic\n",
        "- TLT - leptokurtic\n",
        "\n",
        "it is too difficult to tell"
      ]
    },
    {
      "cell_type": "markdown",
      "metadata": {},
      "source": [
        "## 2. Kurtosis\n",
        "\n",
        "Calculate the skew and kurtosis for the returns.\n",
        "\n",
        "*Hint: use df.kurt(), note that the kurt() method returns 0 for a normal distribution.*"
      ]
    },
    {
      "cell_type": "code",
      "execution_count": 28,
      "metadata": {
        "execution": {
          "iopub.execute_input": "2023-02-15T11:23:56.952Z",
          "iopub.status.busy": "2023-02-15T11:23:56.930Z",
          "iopub.status.idle": "2023-02-15T11:23:56.983Z",
          "shell.execute_reply": "2023-02-15T11:23:57.494Z"
        },
        "jupyter": {
          "outputs_hidden": false,
          "source_hidden": false
        },
        "nteract": {
          "transient": {
            "deleting": false
          }
        }
      },
      "outputs": [
        {
          "data": {
            "text/plain": [
              "AAPL    0.366160\n",
              "SPY     0.668615\n",
              "TLT     0.420267\n",
              "dtype: float64"
            ]
          },
          "execution_count": 28,
          "metadata": {},
          "output_type": "execute_result"
        }
      ],
      "source": [
        "# your code here\n",
        "stocks_pct_chg.kurt()\n"
      ]
    },
    {
      "cell_type": "markdown",
      "metadata": {
        "nteract": {
          "transient": {
            "deleting": false
          }
        }
      },
      "source": [
        "**Exercise Qn 2**\n",
        "\n",
        "Based on the calculated values\n",
        "\n",
        "a. Are the distributions normal Gaussian, leptokurtic or platykurtic?<BR>\n",
        "*Hint: refer to slides 6 and 7 in Module 5.1*\n",
        "  \n",
        "b. Which instrument has the greatest kurtosis? Which has the least?\n",
        "  \n",
        "c. If you analysed the same instruments' data for a longer period of time do you think the kurtois would increase, decrease, or stay the same? Why?\n",
        "\n"
      ]
    },
    {
      "cell_type": "markdown",
      "metadata": {
        "nteract": {
          "transient": {
            "deleting": false
          }
        }
      },
      "source": [
        "Your answer here\n",
        "\n",
        "(a)\n",
        "- AAPL - leptokurtic\n",
        "- SPY - leptokurtic\n",
        "- TLT - leptokurtic\n",
        "\n",
        "(b) SPY has the greatest kurtosis of 0.668619\n",
        "  \n",
        "(c) Longer data period affect on kurtosis: increase, this might be due to an increased probability of extreme outliers being spotted "
      ]
    },
    {
      "cell_type": "markdown",
      "metadata": {},
      "source": [
        "**Let's compare the kurtosis for AAPL for 5 years versus the previous 1 year calculation.**"
      ]
    },
    {
      "cell_type": "code",
      "execution_count": 29,
      "metadata": {},
      "outputs": [
        {
          "name": "stdout",
          "output_type": "stream",
          "text": [
            "[*********************100%%**********************]  1 of 1 completed\n",
            "5-year kurtosis: 6.66\n"
          ]
        }
      ],
      "source": [
        "# sample code\n",
        "\n",
        "tickers = ['AAPL']\n",
        "\n",
        "start_date = last_trading_day(2016)\n",
        "end_date = '2022-01-01'\n",
        "\n",
        "data5y = yf.download(tickers, start= start_date, end= end_date)\n",
        "\n",
        "stock_prices5y = data5y[['Adj Close']]\n",
        "stocks_pct_chg5y = stock_prices5y['Adj Close'].pct_change().dropna()\n",
        "\n",
        "print(f\"5-year kurtosis: {stocks_pct_chg5y.kurt():.3}\")"
      ]
    },
    {
      "cell_type": "markdown",
      "metadata": {},
      "source": [
        "## 3. Normal Q-Q Plot\n",
        "\n",
        "To check if distribution is normal\n",
        "\n",
        "Q-Q plot from statsmodels.api -<br>\n",
        "https://www.statsmodels.org/stable/generated/statsmodels.graphics.gofplots.qqplot.html"
      ]
    },
    {
      "cell_type": "code",
      "execution_count": 30,
      "metadata": {},
      "outputs": [
        {
          "data": {
            "image/png": "[encoded data removed]",
            "text/plain": [
              "<Figure size 640x480 with 1 Axes>"
            ]
          },
          "metadata": {},
          "output_type": "display_data"
        }
      ],
      "source": [
        "# sample code\n",
        "\n",
        "sm.qqplot(stocks_pct_chg['AAPL'], line = 's')\n",
        "plt.title('Normal Q-Q Plot AAPL')\n",
        "plt.show()"
      ]
    },
    {
      "cell_type": "markdown",
      "metadata": {},
      "source": [
        "Follow the same steps to plot the normal QQ plots for SPY and TLT."
      ]
    },
    {
      "cell_type": "code",
      "execution_count": 31,
      "metadata": {},
      "outputs": [
        {
          "data": {
            "image/png": "[encoded data removed]",
            "text/plain": [
              "<Figure size 640x480 with 1 Axes>"
            ]
          },
          "metadata": {},
          "output_type": "display_data"
        }
      ],
      "source": [
        "# your code here\n",
        "sm.qqplot(stocks_pct_chg['SPY'], line = 's')\n",
        "plt.title('Normal Q-Q Plot SPY')\n",
        "plt.show()"
      ]
    },
    {
      "cell_type": "code",
      "execution_count": 32,
      "metadata": {},
      "outputs": [
        {
          "data": {
            "image/png": "[encoded data removed]",
            "text/plain": [
              "<Figure size 640x480 with 1 Axes>"
            ]
          },
          "metadata": {},
          "output_type": "display_data"
        }
      ],
      "source": [
        "sm.qqplot(stocks_pct_chg['TLT'], line = 's')\n",
        "plt.title('Normal Q-Q Plot TLT')\n",
        "plt.show()"
      ]
    },
    {
      "cell_type": "markdown",
      "metadata": {},
      "source": [
        "**Exercise Q3**\n",
        "\n",
        "a) Do the normal QQ-plots show that the instruments distributions are normal, platokurtic, or leptokurtic?\n",
        "\n",
        "*Hint: refer to slide 12 in Module 5.1*\n",
        "\n",
        "b) For the ETFs' returns, do the outliers that vary from the normal distribution relate to gains or losses?"
      ]
    },
    {
      "cell_type": "markdown",
      "metadata": {},
      "source": [
        "Your answer here\n",
        "- SPY - losses (leptokurtic)\n",
        "- TLT - gains (leptokurtic or normal... ig it seems more like leptokurtic due to the values deviating above the line at the right end)"
      ]
    },
    {
      "cell_type": "markdown",
      "metadata": {
        "nteract": {
          "transient": {
            "deleting": false
          }
        }
      },
      "source": [
        "# DYI"
      ]
    },
    {
      "cell_type": "markdown",
      "metadata": {},
      "source": [
        "## 4. Diversification\n",
        "Get the Adj Close prices for SPY, TLT, and EFA for 2-year period the last trading day before the start of Jan 2020 through Dec 2021.\n",
        "\n",
        "Calculate the correlation for each fund against the rest."
      ]
    },
    {
      "cell_type": "code",
      "execution_count": 33,
      "metadata": {
        "execution": {
          "iopub.execute_input": "2023-09-12T10:03:30.472Z",
          "iopub.status.busy": "2023-09-12T10:03:30.462Z",
          "iopub.status.idle": "2023-09-12T10:03:30.590Z",
          "shell.execute_reply": "2023-09-12T10:03:30.609Z"
        }
      },
      "outputs": [
        {
          "name": "stdout",
          "output_type": "stream",
          "text": [
            "[*********************100%%**********************]  3 of 3 completed\n",
            "       EFA    SPY    TLT\n",
            "EFA  1.000  0.908 -0.386\n",
            "SPY  0.908  1.000 -0.402\n",
            "TLT -0.386 -0.402  1.000\n"
          ]
        }
      ],
      "source": [
        "# sample code\n",
        "\n",
        "tickers = ['SPY','TLT', 'EFA']\n",
        "start_date = last_trading_day(2019)\n",
        "end_date = '2022-01-01'\n",
        "\n",
        "data2 = yf.download(tickers, start= start_date, end= end_date)\n",
        "\n",
        "stock_prices2 = data2[['Adj Close']]\n",
        "stock_prices2 = stock_prices2['Adj Close']\n",
        "pct_returns = stock_prices2.pct_change().dropna()\n",
        "\n",
        "correlation = pct_returns.corr()\n",
        "print(correlation.round(3))\n"
      ]
    },
    {
      "cell_type": "markdown",
      "metadata": {
        "nteract": {
          "transient": {
            "deleting": false
          }
        }
      },
      "source": [
        "**DYI Q1: Measure correlations**\n",
        "- Which funds have the highest correlation?\n",
        "- Which funds are negatively correlated?"
      ]
    },
    {
      "cell_type": "markdown",
      "metadata": {
        "nteract": {
          "transient": {
            "deleting": false
          }
        }
      },
      "source": [
        "Your answer here"
      ]
    },
    {
      "cell_type": "markdown",
      "metadata": {},
      "source": [
        "highest correlation - SPY and EFA at corr of 0.908\n",
        "\n",
        "negatively correlated - TLT and SPY (-0.402), TLT and EFA (-0.386)"
      ]
    },
    {
      "cell_type": "markdown",
      "metadata": {},
      "source": [
        "### Calculate metrics for each individual fund EFA, SPY, and TLT\n",
        "  \n",
        "Assume daily risk free rate of 0.0001\n",
        "\n",
        "Calculate the following metrics\n",
        "- annualized return\n",
        "- annualized volatility\n",
        "- annualized Sharpe ratio\n",
        "- kurtosis\n",
        "\n",
        "Use the standard devivation (sqrt of the variance) of the daily percentage returns to calculate the annualized volatility.\n",
        "\n",
        "*Hint: Refer to formulas from class notes or previous labs*"
      ]
    },
    {
      "cell_type": "code",
      "execution_count": 34,
      "metadata": {},
      "outputs": [
        {
          "data": {
            "text/html": [
              "<div>\n",
              "<style scoped>\n",
              "    .dataframe tbody tr th:only-of-type {\n",
              "        vertical-align: middle;\n",
              "    }\n",
              "\n",
              "    .dataframe tbody tr th {\n",
              "        vertical-align: top;\n",
              "    }\n",
              "\n",
              "    .dataframe thead th {\n",
              "        text-align: right;\n",
              "    }\n",
              "</style>\n",
              "<table border=\"1\" class=\"dataframe\">\n",
              "  <thead>\n",
              "    <tr style=\"text-align: right;\">\n",
              "      <th></th>\n",
              "      <th>EFA</th>\n",
              "      <th>SPY</th>\n",
              "      <th>TLT</th>\n",
              "    </tr>\n",
              "    <tr>\n",
              "      <th>Date</th>\n",
              "      <th></th>\n",
              "      <th></th>\n",
              "      <th></th>\n",
              "    </tr>\n",
              "  </thead>\n",
              "  <tbody>\n",
              "    <tr>\n",
              "      <th>2019-12-31</th>\n",
              "      <td>60.127384</td>\n",
              "      <td>298.404266</td>\n",
              "      <td>118.811127</td>\n",
              "    </tr>\n",
              "    <tr>\n",
              "      <th>2020-01-02</th>\n",
              "      <td>60.733509</td>\n",
              "      <td>301.194916</td>\n",
              "      <td>120.152916</td>\n",
              "    </tr>\n",
              "    <tr>\n",
              "      <th>2020-01-03</th>\n",
              "      <td>59.980179</td>\n",
              "      <td>298.914185</td>\n",
              "      <td>122.003319</td>\n",
              "    </tr>\n",
              "    <tr>\n",
              "      <th>2020-01-06</th>\n",
              "      <td>60.213982</td>\n",
              "      <td>300.054504</td>\n",
              "      <td>121.310524</td>\n",
              "    </tr>\n",
              "    <tr>\n",
              "      <th>2020-01-07</th>\n",
              "      <td>60.049458</td>\n",
              "      <td>299.210907</td>\n",
              "      <td>120.714180</td>\n",
              "    </tr>\n",
              "    <tr>\n",
              "      <th>...</th>\n",
              "      <td>...</td>\n",
              "      <td>...</td>\n",
              "      <td>...</td>\n",
              "    </tr>\n",
              "    <tr>\n",
              "      <th>2021-12-27</th>\n",
              "      <td>72.352753</td>\n",
              "      <td>456.750977</td>\n",
              "      <td>134.545441</td>\n",
              "    </tr>\n",
              "    <tr>\n",
              "      <th>2021-12-28</th>\n",
              "      <td>72.380188</td>\n",
              "      <td>456.377747</td>\n",
              "      <td>134.012207</td>\n",
              "    </tr>\n",
              "    <tr>\n",
              "      <th>2021-12-29</th>\n",
              "      <td>72.352753</td>\n",
              "      <td>456.961517</td>\n",
              "      <td>132.548248</td>\n",
              "    </tr>\n",
              "    <tr>\n",
              "      <th>2021-12-30</th>\n",
              "      <td>72.163071</td>\n",
              "      <td>455.698273</td>\n",
              "      <td>133.659805</td>\n",
              "    </tr>\n",
              "    <tr>\n",
              "      <th>2021-12-31</th>\n",
              "      <td>72.098930</td>\n",
              "      <td>454.549713</td>\n",
              "      <td>133.921860</td>\n",
              "    </tr>\n",
              "  </tbody>\n",
              "</table>\n",
              "<p>506 rows × 3 columns</p>\n",
              "</div>"
            ],
            "text/plain": [
              "                  EFA         SPY         TLT\n",
              "Date                                         \n",
              "2019-12-31  60.127384  298.404266  118.811127\n",
              "2020-01-02  60.733509  301.194916  120.152916\n",
              "2020-01-03  59.980179  298.914185  122.003319\n",
              "2020-01-06  60.213982  300.054504  121.310524\n",
              "2020-01-07  60.049458  299.210907  120.714180\n",
              "...               ...         ...         ...\n",
              "2021-12-27  72.352753  456.750977  134.545441\n",
              "2021-12-28  72.380188  456.377747  134.012207\n",
              "2021-12-29  72.352753  456.961517  132.548248\n",
              "2021-12-30  72.163071  455.698273  133.659805\n",
              "2021-12-31  72.098930  454.549713  133.921860\n",
              "\n",
              "[506 rows x 3 columns]"
            ]
          },
          "execution_count": 34,
          "metadata": {},
          "output_type": "execute_result"
        }
      ],
      "source": [
        "stock_prices2 "
      ]
    },
    {
      "cell_type": "code",
      "execution_count": 61,
      "metadata": {
        "execution": {
          "iopub.execute_input": "2023-02-15T11:23:58.374Z",
          "iopub.status.busy": "2023-02-15T11:23:58.347Z",
          "iopub.status.idle": "2023-02-15T11:23:58.422Z",
          "shell.execute_reply": "2023-02-15T11:23:58.620Z"
        },
        "scrolled": true
      },
      "outputs": [
        {
          "name": "stdout",
          "output_type": "stream",
          "text": [
            "Annualised returns for the 3 stocks:\n",
            "EFA     9.50%\n",
            "SPY    23.42%\n",
            "TLT     6.17%\n",
            "dtype: object\n",
            "Annualised volatilities for the 3 stocks:\n",
            "EFA    24.09%\n",
            "SPY    25.50%\n",
            "TLT    18.09%\n",
            "dtype: object\n",
            "                 EFA       SPY       TLT  RiskFree_Rate  Excess_ret_SPY  \\\n",
            "Date                                                                      \n",
            "2020-01-02  0.010081  0.009352  0.011293         0.0001        0.009252   \n",
            "2020-01-03 -0.012404 -0.007572  0.015400         0.0001       -0.007672   \n",
            "2020-01-06  0.003898  0.003815 -0.005678         0.0001        0.003715   \n",
            "2020-01-07 -0.002732 -0.002811 -0.004916         0.0001       -0.002911   \n",
            "2020-01-08  0.002884  0.005329 -0.006611         0.0001        0.005229   \n",
            "...              ...       ...       ...            ...             ...   \n",
            "2021-12-27  0.007770  0.014152  0.002424         0.0001        0.014052   \n",
            "2021-12-28  0.000379 -0.000817 -0.003963         0.0001       -0.000917   \n",
            "2021-12-29 -0.000379  0.001279 -0.010924         0.0001        0.001179   \n",
            "2021-12-30 -0.002622 -0.002764  0.008386         0.0001       -0.002864   \n",
            "2021-12-31 -0.000889 -0.002520  0.001961         0.0001       -0.002620   \n",
            "\n",
            "            Excess_ret_TLT  Excess_ret_EFA  \n",
            "Date                                        \n",
            "2020-01-02        0.011193        0.009981  \n",
            "2020-01-03        0.015300       -0.012504  \n",
            "2020-01-06       -0.005778        0.003798  \n",
            "2020-01-07       -0.005016       -0.002832  \n",
            "2020-01-08       -0.006711        0.002784  \n",
            "...                    ...             ...  \n",
            "2021-12-27        0.002324        0.007670  \n",
            "2021-12-28       -0.004063        0.000279  \n",
            "2021-12-29       -0.011024       -0.000479  \n",
            "2021-12-30        0.008286       -0.002722  \n",
            "2021-12-31        0.001861       -0.000989  \n",
            "\n",
            "[505 rows x 7 columns]\n",
            "Annualised Sharpe Ratio SPY = 0.857\n",
            "Annualised Sharpe Ratio TLT = 0.281\n",
            "Annualised Sharpe Ratio EFA = 0.395\n"
          ]
        }
      ],
      "source": [
        "# your code here\n",
        "daily_risk_free_rate = 0.0001\n",
        "\n",
        "# period return = (ending price - starting price)/starting price\n",
        "# ARR = (1+period return)^(1/N) - 1) where N = number of years\n",
        "\n",
        "period_ret = (stock_prices2.iloc[-1] - stock_prices2.iloc[0]) / stock_prices2.iloc[0]\n",
        "\n",
        "annualized_returns = (1 + period_ret)**(1/2) -1\n",
        "print(\"Annualised returns for the 3 stocks:\")\n",
        "print(annualized_returns.map(lambda x: f\"{x:.2%}\"))\n",
        "# this also works since the last value of the row in cum return series is the period return \n",
        "# cum_ret_series = (1 + pct_returns).cumprod() - 1\n",
        "# annualized_returns = (1 + cum_ret_series.iloc[-1])**(1/2) -1\n",
        "# annualized_returns\n",
        "\n",
        "\n",
        "hv = np.log(stock_prices2/stock_prices2.shift(1)).std()\n",
        "ann_volatilities = hv * np.sqrt(252)\n",
        "print(\"Annualised volatilities for the 3 stocks:\")\n",
        "print(ann_volatilities.map(lambda x: f\"{x:.2%}\"))\n",
        "\n",
        "\n",
        "avg_daily_ret = pct_returns.mean()\n",
        "stocks_df_RAR = pd.DataFrame(pct_returns)\n",
        "stocks_df_RAR['RiskFree_Rate'] = daily_risk_free_rate\n",
        "avg_rf_ret = stocks_df_RAR['RiskFree_Rate'].mean()\n",
        "stocks_df_RAR['Excess_ret_SPY'] = stocks_df_RAR[\"SPY\"] - stocks_df_RAR['RiskFree_Rate']\n",
        "stocks_df_RAR['Excess_ret_TLT'] = stocks_df_RAR[\"TLT\"] - stocks_df_RAR['RiskFree_Rate']\n",
        "stocks_df_RAR['Excess_ret_EFA'] = stocks_df_RAR[\"EFA\"] - stocks_df_RAR['RiskFree_Rate']\n",
        "\n",
        "# the constructed df for RAR calculations\n",
        "print(stocks_df_RAR)\n",
        "# calculate sharpe ratio for SPY\n",
        "sharpe_SPY = (avg_daily_ret['SPY'] - avg_rf_ret)/stocks_df_RAR['Excess_ret_SPY'].std()\n",
        "ann_sharpe_SPY = sharpe_SPY * np.sqrt(252)\n",
        "print(f'Annualised Sharpe Ratio SPY = {ann_sharpe_SPY:.3f}')\n",
        "# calculate sharpe ratio for TLT\n",
        "sharpe_TLT = (avg_daily_ret['TLT'] - avg_rf_ret)/stocks_df_RAR['Excess_ret_TLT'].std()\n",
        "ann_sharpe_TLT = sharpe_TLT * np.sqrt(252)\n",
        "print(f'Annualised Sharpe Ratio TLT = {ann_sharpe_TLT:.3f}')\n",
        "# calculate sharpe ratio for EFA\n",
        "EFA = (avg_daily_ret['EFA'] - avg_rf_ret)/stocks_df_RAR['Excess_ret_EFA'].std()\n",
        "ann_EFA = EFA * np.sqrt(252)\n",
        "print(f'Annualised Sharpe Ratio EFA = {ann_EFA:.3f}')\n",
        "\n"
      ]
    },
    {
      "cell_type": "code",
      "execution_count": 36,
      "metadata": {},
      "outputs": [
        {
          "name": "stdout",
          "output_type": "stream",
          "text": [
            "kurtosis results:\n",
            "EFA    14.373652\n",
            "SPY    12.587228\n",
            "TLT     9.843011\n",
            "dtype: float64\n"
          ]
        }
      ],
      "source": [
        "kurtosis = stock_prices2.pct_change().dropna().kurt()\n",
        "print(\"kurtosis results:\")\n",
        "print(kurtosis)"
      ]
    },
    {
      "cell_type": "markdown",
      "metadata": {
        "nteract": {
          "transient": {
            "deleting": false
          }
        }
      },
      "source": [
        "**DIY Q2:**<br>\n",
        "- Which fund has the highest return?\n",
        "- Which fund has the lowest return?\n",
        "- Which fund has the highest volatility?\n",
        "- Which fund has the lowest volatility?\n",
        "- Which fund has the highest Sharpe ratio? \n",
        "- Which fund has the lowest Sharpe ratio? "
      ]
    },
    {
      "cell_type": "markdown",
      "metadata": {
        "nteract": {
          "transient": {
            "deleting": false
          }
        }
      },
      "source": [
        "Your answer"
      ]
    },
    {
      "cell_type": "markdown",
      "metadata": {},
      "source": [
        "- highest returns - SPY\n",
        "- lowest returns - TLT\n",
        "- highest volatility - SPY\n",
        "- lowest volatility - TLT\n",
        "- highest Sharpe ratio - SPY\n",
        "- lowest Sharpe ratio - TLT"
      ]
    },
    {
      "cell_type": "markdown",
      "metadata": {},
      "source": [
        "### Calculate portfolio returns\n",
        "Portfolio 1: 50% SPY and 50% TLT <br>\n",
        "\n",
        "Create a combined portfolio of 50/50 mix."
      ]
    },
    {
      "cell_type": "code",
      "execution_count": 53,
      "metadata": {},
      "outputs": [
        {
          "data": {
            "text/plain": [
              "Index(['EFA', 'SPY', 'TLT'], dtype='object')"
            ]
          },
          "execution_count": 53,
          "metadata": {},
          "output_type": "execute_result"
        }
      ],
      "source": [
        "# sample code\n",
        "\n",
        "# start with percent returns series\n",
        "pct_returns = stock_prices2.pct_change().dropna()\n",
        "\n",
        "#  check the order of the columns\n",
        "pct_returns.columns"
      ]
    },
    {
      "cell_type": "code",
      "execution_count": 54,
      "metadata": {},
      "outputs": [
        {
          "data": {
            "text/html": [
              "<div>\n",
              "<style scoped>\n",
              "    .dataframe tbody tr th:only-of-type {\n",
              "        vertical-align: middle;\n",
              "    }\n",
              "\n",
              "    .dataframe tbody tr th {\n",
              "        vertical-align: top;\n",
              "    }\n",
              "\n",
              "    .dataframe thead th {\n",
              "        text-align: right;\n",
              "    }\n",
              "</style>\n",
              "<table border=\"1\" class=\"dataframe\">\n",
              "  <thead>\n",
              "    <tr style=\"text-align: right;\">\n",
              "      <th></th>\n",
              "      <th>Portfolio</th>\n",
              "    </tr>\n",
              "    <tr>\n",
              "      <th>Date</th>\n",
              "      <th></th>\n",
              "    </tr>\n",
              "  </thead>\n",
              "  <tbody>\n",
              "    <tr>\n",
              "      <th>2020-01-02</th>\n",
              "      <td>0.010323</td>\n",
              "    </tr>\n",
              "    <tr>\n",
              "      <th>2020-01-03</th>\n",
              "      <td>0.003914</td>\n",
              "    </tr>\n",
              "    <tr>\n",
              "      <th>2020-01-06</th>\n",
              "      <td>-0.000932</td>\n",
              "    </tr>\n",
              "    <tr>\n",
              "      <th>2020-01-07</th>\n",
              "      <td>-0.003864</td>\n",
              "    </tr>\n",
              "    <tr>\n",
              "      <th>2020-01-08</th>\n",
              "      <td>-0.000641</td>\n",
              "    </tr>\n",
              "    <tr>\n",
              "      <th>...</th>\n",
              "      <td>...</td>\n",
              "    </tr>\n",
              "    <tr>\n",
              "      <th>2021-12-27</th>\n",
              "      <td>0.008288</td>\n",
              "    </tr>\n",
              "    <tr>\n",
              "      <th>2021-12-28</th>\n",
              "      <td>-0.002390</td>\n",
              "    </tr>\n",
              "    <tr>\n",
              "      <th>2021-12-29</th>\n",
              "      <td>-0.004822</td>\n",
              "    </tr>\n",
              "    <tr>\n",
              "      <th>2021-12-30</th>\n",
              "      <td>0.002811</td>\n",
              "    </tr>\n",
              "    <tr>\n",
              "      <th>2021-12-31</th>\n",
              "      <td>-0.000280</td>\n",
              "    </tr>\n",
              "  </tbody>\n",
              "</table>\n",
              "<p>505 rows × 1 columns</p>\n",
              "</div>"
            ],
            "text/plain": [
              "            Portfolio\n",
              "Date                 \n",
              "2020-01-02   0.010323\n",
              "2020-01-03   0.003914\n",
              "2020-01-06  -0.000932\n",
              "2020-01-07  -0.003864\n",
              "2020-01-08  -0.000641\n",
              "...               ...\n",
              "2021-12-27   0.008288\n",
              "2021-12-28  -0.002390\n",
              "2021-12-29  -0.004822\n",
              "2021-12-30   0.002811\n",
              "2021-12-31  -0.000280\n",
              "\n",
              "[505 rows x 1 columns]"
            ]
          },
          "execution_count": 54,
          "metadata": {},
          "output_type": "execute_result"
        }
      ],
      "source": [
        "# sample code\n",
        "\n",
        "# define portfolio weights\n",
        "# this corresponds to order of the columns in the returns df\n",
        "# 'EFA', 'SPY', 'TLT'\n",
        "portfolio_weights = [0, 0.5, 0.5] \n",
        "\n",
        "# apply the weights to returns\n",
        "wt_portfolio_ret = pct_returns * portfolio_weights\n",
        "\n",
        "# add up the 50/50 column returns into single column\n",
        "portfolio_returns1 = pd.DataFrame(wt_portfolio_ret.sum(axis = 1))\n",
        "portfolio_returns1.rename(columns={portfolio_returns1.columns[0]:'Portfolio'}, inplace= 'True')\n",
        "portfolio_returns1"
      ]
    },
    {
      "cell_type": "markdown",
      "metadata": {},
      "source": [
        "### Calculate metrics for Portfolio 1: 50% SPY and 50% TLT\n",
        "  Assume daily risk free rate of 0.0001\n",
        "  \n",
        "  Calculate the following metrics for the 50/50 SPY/TLT portfolio\n",
        "  - annualized return\n",
        "  - annualized volatility\n",
        "  - Sharpe ratio\n",
        "  - kurtosis"
      ]
    },
    {
      "cell_type": "code",
      "execution_count": 55,
      "metadata": {},
      "outputs": [
        {
          "name": "stdout",
          "output_type": "stream",
          "text": [
            "annualised returns\n",
            "Portfolio    16.41%\n",
            "Name: 2021-12-31 00:00:00, dtype: object\n",
            "annualised volatility\n",
            "Portfolio    12.26%\n",
            "dtype: object\n",
            "sharpe ratio\n",
            "Portfolio    1.132752\n",
            "dtype: float64\n",
            "kurtosis\n",
            "Portfolio    10.544834\n",
            "dtype: float64\n"
          ]
        }
      ],
      "source": [
        "# your code here\n",
        "\n",
        "#hint: generate the cumlative return to determine the period return\n",
        "cum_ret_series = (1 + portfolio_returns1).cumprod() - 1\n",
        "annualized_returns = (1 + cum_ret_series.iloc[-1])**(1/2) -1\n",
        "print(\"annualised returns\")\n",
        "print(annualized_returns.map(lambda x: f\"{x:.2%}\"))\n",
        "\n",
        "ann_volatility = portfolio_returns1.std() * np.sqrt(252) # cuz this is working with the percentage returns alr \n",
        "print(\"annualised volatility\")\n",
        "print(ann_volatility.map(lambda x: f\"{x:.2%}\"))\n",
        "\n",
        "rf_daily = 0.0001\n",
        "sharpe_ratio = (annualized_returns - rf_daily * 252) / ann_volatility\n",
        "print(\"sharpe ratio\")\n",
        "print(sharpe_ratio)\n",
        "\n",
        "# Calculate kurtosis\n",
        "kurtosis = portfolio_returns1.kurtosis()\n",
        "print(\"kurtosis\")\n",
        "print(kurtosis)\n",
        "\n"
      ]
    },
    {
      "cell_type": "markdown",
      "metadata": {
        "nteract": {
          "transient": {
            "deleting": false
          }
        }
      },
      "source": [
        "**DIY Q3:**<br>\n",
        "  How do the metrics compare between the portfolio and its component funds?"
      ]
    },
    {
      "cell_type": "markdown",
      "metadata": {
        "nteract": {
          "transient": {
            "deleting": false
          }
        }
      },
      "source": [
        "Your answer"
      ]
    },
    {
      "cell_type": "markdown",
      "metadata": {},
      "source": [
        "for the individual stocks: \n",
        "Annualised returns for the 3 stocks:\n",
        "EFA     9.50%\n",
        "SPY    23.42%\n",
        "TLT     6.17%\n",
        "Annualised volatilities for the 3 stocks:\n",
        "EFA    24.09%\n",
        "SPY    25.50%\n",
        "TLT    18.09%\n",
        "Annualised Sharpe Ratio SPY = 0.857\n",
        "Annualised Sharpe Ratio TLT = 0.281\n",
        "Annualised Sharpe Ratio EFA = 0.395\n",
        "kurtosis results:\n",
        "EFA    14.373652\n",
        "SPY    12.587228\n",
        "TLT     9.843011\n",
        "\n",
        "The portfolio annualised returns are kind of averaged out and the volatility is much lesser as compared to each individual ones. \n",
        "\n",
        "The Sharpe ratio has also improved and broke out of 1\n",
        "\n",
        "The kurtosis is also averaged out at 10.5."
      ]
    },
    {
      "cell_type": "markdown",
      "metadata": {},
      "source": [
        "### Calculate metrics for Portfolio 2: 50% SPY and 50% EFA\n",
        "  Assume daily risk free rate of 0.0001\n",
        "  \n",
        "  Calculate the following metrics for the 50/50 SPY/EFA portfolio\n",
        "  - annualized return\n",
        "  - annualized volatility\n",
        "  - annualized Sharpe ratio\n",
        "  - kurtosis"
      ]
    },
    {
      "cell_type": "code",
      "execution_count": 56,
      "metadata": {},
      "outputs": [
        {
          "data": {
            "text/html": [
              "<div>\n",
              "<style scoped>\n",
              "    .dataframe tbody tr th:only-of-type {\n",
              "        vertical-align: middle;\n",
              "    }\n",
              "\n",
              "    .dataframe tbody tr th {\n",
              "        vertical-align: top;\n",
              "    }\n",
              "\n",
              "    .dataframe thead th {\n",
              "        text-align: right;\n",
              "    }\n",
              "</style>\n",
              "<table border=\"1\" class=\"dataframe\">\n",
              "  <thead>\n",
              "    <tr style=\"text-align: right;\">\n",
              "      <th></th>\n",
              "      <th>Portfolio 2</th>\n",
              "    </tr>\n",
              "    <tr>\n",
              "      <th>Date</th>\n",
              "      <th></th>\n",
              "    </tr>\n",
              "  </thead>\n",
              "  <tbody>\n",
              "    <tr>\n",
              "      <th>2020-01-02</th>\n",
              "      <td>0.009716</td>\n",
              "    </tr>\n",
              "    <tr>\n",
              "      <th>2020-01-03</th>\n",
              "      <td>-0.009988</td>\n",
              "    </tr>\n",
              "    <tr>\n",
              "      <th>2020-01-06</th>\n",
              "      <td>0.003856</td>\n",
              "    </tr>\n",
              "    <tr>\n",
              "      <th>2020-01-07</th>\n",
              "      <td>-0.002772</td>\n",
              "    </tr>\n",
              "    <tr>\n",
              "      <th>2020-01-08</th>\n",
              "      <td>0.004107</td>\n",
              "    </tr>\n",
              "    <tr>\n",
              "      <th>...</th>\n",
              "      <td>...</td>\n",
              "    </tr>\n",
              "    <tr>\n",
              "      <th>2021-12-27</th>\n",
              "      <td>0.010961</td>\n",
              "    </tr>\n",
              "    <tr>\n",
              "      <th>2021-12-28</th>\n",
              "      <td>-0.000219</td>\n",
              "    </tr>\n",
              "    <tr>\n",
              "      <th>2021-12-29</th>\n",
              "      <td>0.000450</td>\n",
              "    </tr>\n",
              "    <tr>\n",
              "      <th>2021-12-30</th>\n",
              "      <td>-0.002693</td>\n",
              "    </tr>\n",
              "    <tr>\n",
              "      <th>2021-12-31</th>\n",
              "      <td>-0.001705</td>\n",
              "    </tr>\n",
              "  </tbody>\n",
              "</table>\n",
              "<p>505 rows × 1 columns</p>\n",
              "</div>"
            ],
            "text/plain": [
              "            Portfolio 2\n",
              "Date                   \n",
              "2020-01-02     0.009716\n",
              "2020-01-03    -0.009988\n",
              "2020-01-06     0.003856\n",
              "2020-01-07    -0.002772\n",
              "2020-01-08     0.004107\n",
              "...                 ...\n",
              "2021-12-27     0.010961\n",
              "2021-12-28    -0.000219\n",
              "2021-12-29     0.000450\n",
              "2021-12-30    -0.002693\n",
              "2021-12-31    -0.001705\n",
              "\n",
              "[505 rows x 1 columns]"
            ]
          },
          "execution_count": 56,
          "metadata": {},
          "output_type": "execute_result"
        }
      ],
      "source": [
        "# sample code\n",
        "\n",
        "# start with percent returns series\n",
        "pct_returns = stock_prices2.pct_change().dropna()\n",
        "\n",
        "#  check the order of the columns\n",
        "pct_returns.columns\n",
        "\n",
        "# sample code\n",
        "\n",
        "# define portfolio weights\n",
        "# this corresponds to order of the columns in the returns df\n",
        "# 'EFA', 'SPY', 'TLT'\n",
        "portfolio_weights = [0.5, 0.5, 0] \n",
        "\n",
        "# apply the weights to returns\n",
        "wt_portfolio_ret = pct_returns * portfolio_weights\n",
        "\n",
        "# add up the 50/50 column returns into single column\n",
        "portfolio_returns2 = pd.DataFrame(wt_portfolio_ret.sum(axis = 1))\n",
        "portfolio_returns2.rename(columns={portfolio_returns2.columns[0]:'Portfolio 2'}, inplace= 'True')\n",
        "portfolio_returns2"
      ]
    },
    {
      "cell_type": "code",
      "execution_count": 57,
      "metadata": {},
      "outputs": [
        {
          "name": "stdout",
          "output_type": "stream",
          "text": [
            "annualised returns\n",
            "Portfolio 2    16.42%\n",
            "Name: 2021-12-31 00:00:00, dtype: object\n",
            "annualised volatility\n",
            "Portfolio 2    24.00%\n",
            "dtype: object\n",
            "sharpe ratio\n",
            "Portfolio 2    0.579148\n",
            "dtype: float64\n",
            "kurtosis\n",
            "Portfolio 2    14.342643\n",
            "dtype: float64\n"
          ]
        }
      ],
      "source": [
        "# your code here\n",
        "\n",
        "#hint: generate the cumlative return to determine the period return\n",
        "cum_ret_series = (1 + portfolio_returns2).cumprod() - 1\n",
        "annualized_returns = (1 + cum_ret_series.iloc[-1])**(1/2) -1\n",
        "print(\"annualised returns\")\n",
        "print(annualized_returns.map(lambda x: f\"{x:.2%}\"))\n",
        "\n",
        "ann_volatility = portfolio_returns2.std() * np.sqrt(252) # cuz this is working with the percentage returns alr \n",
        "print(\"annualised volatility\")\n",
        "print(ann_volatility.map(lambda x: f\"{x:.2%}\"))\n",
        "\n",
        "rf_daily = 0.0001\n",
        "sharpe_ratio = (annualized_returns - rf_daily * 252) / ann_volatility\n",
        "print(\"sharpe ratio\")\n",
        "print(sharpe_ratio)\n",
        "\n",
        "# Calculate kurtosis\n",
        "kurtosis = portfolio_returns2.kurtosis()\n",
        "print(\"kurtosis\")\n",
        "print(kurtosis)"
      ]
    },
    {
      "cell_type": "markdown",
      "metadata": {},
      "source": [
        "### Calculate metrics for Portfolio 3: 1/3 in SPY, 1/3 in TLT, 1/3 in EFA\n",
        "  Assume daily risk free rate of 0.0001\n",
        "\n",
        "  Calculate the following metrics for the portfolio\n",
        "  - annualized return\n",
        "  - annualized volatility\n",
        "  - annualized Sharpe ratio\n",
        "  - kurtosis\n"
      ]
    },
    {
      "cell_type": "code",
      "execution_count": 58,
      "metadata": {},
      "outputs": [
        {
          "data": {
            "text/html": [
              "<div>\n",
              "<style scoped>\n",
              "    .dataframe tbody tr th:only-of-type {\n",
              "        vertical-align: middle;\n",
              "    }\n",
              "\n",
              "    .dataframe tbody tr th {\n",
              "        vertical-align: top;\n",
              "    }\n",
              "\n",
              "    .dataframe thead th {\n",
              "        text-align: right;\n",
              "    }\n",
              "</style>\n",
              "<table border=\"1\" class=\"dataframe\">\n",
              "  <thead>\n",
              "    <tr style=\"text-align: right;\">\n",
              "      <th></th>\n",
              "      <th>Portfolio 3</th>\n",
              "    </tr>\n",
              "    <tr>\n",
              "      <th>Date</th>\n",
              "      <th></th>\n",
              "    </tr>\n",
              "  </thead>\n",
              "  <tbody>\n",
              "    <tr>\n",
              "      <th>2020-01-02</th>\n",
              "      <td>0.010242</td>\n",
              "    </tr>\n",
              "    <tr>\n",
              "      <th>2020-01-03</th>\n",
              "      <td>-0.001525</td>\n",
              "    </tr>\n",
              "    <tr>\n",
              "      <th>2020-01-06</th>\n",
              "      <td>0.000678</td>\n",
              "    </tr>\n",
              "    <tr>\n",
              "      <th>2020-01-07</th>\n",
              "      <td>-0.003487</td>\n",
              "    </tr>\n",
              "    <tr>\n",
              "      <th>2020-01-08</th>\n",
              "      <td>0.000534</td>\n",
              "    </tr>\n",
              "    <tr>\n",
              "      <th>...</th>\n",
              "      <td>...</td>\n",
              "    </tr>\n",
              "    <tr>\n",
              "      <th>2021-12-27</th>\n",
              "      <td>0.008115</td>\n",
              "    </tr>\n",
              "    <tr>\n",
              "      <th>2021-12-28</th>\n",
              "      <td>-0.001467</td>\n",
              "    </tr>\n",
              "    <tr>\n",
              "      <th>2021-12-29</th>\n",
              "      <td>-0.003341</td>\n",
              "    </tr>\n",
              "    <tr>\n",
              "      <th>2021-12-30</th>\n",
              "      <td>0.001000</td>\n",
              "    </tr>\n",
              "    <tr>\n",
              "      <th>2021-12-31</th>\n",
              "      <td>-0.000483</td>\n",
              "    </tr>\n",
              "  </tbody>\n",
              "</table>\n",
              "<p>505 rows × 1 columns</p>\n",
              "</div>"
            ],
            "text/plain": [
              "            Portfolio 3\n",
              "Date                   \n",
              "2020-01-02     0.010242\n",
              "2020-01-03    -0.001525\n",
              "2020-01-06     0.000678\n",
              "2020-01-07    -0.003487\n",
              "2020-01-08     0.000534\n",
              "...                 ...\n",
              "2021-12-27     0.008115\n",
              "2021-12-28    -0.001467\n",
              "2021-12-29    -0.003341\n",
              "2021-12-30     0.001000\n",
              "2021-12-31    -0.000483\n",
              "\n",
              "[505 rows x 1 columns]"
            ]
          },
          "execution_count": 58,
          "metadata": {},
          "output_type": "execute_result"
        }
      ],
      "source": [
        "# sample code\n",
        "\n",
        "# start with percent returns series\n",
        "pct_returns = stock_prices2.pct_change().dropna()\n",
        "\n",
        "#  check the order of the columns\n",
        "pct_returns.columns\n",
        "\n",
        "# sample code\n",
        "\n",
        "# define portfolio weights\n",
        "# this corresponds to order of the columns in the returns df\n",
        "# 'EFA', 'SPY', 'TLT'\n",
        "portfolio_weights = [1/3, 1/3, 1/3] \n",
        "\n",
        "# apply the weights to returns\n",
        "wt_portfolio_ret = pct_returns * portfolio_weights\n",
        "\n",
        "# add up the 50/50 column returns into single column\n",
        "portfolio_returns3 = pd.DataFrame(wt_portfolio_ret.sum(axis = 1))\n",
        "portfolio_returns3.rename(columns={portfolio_returns3.columns[0]:'Portfolio 3'}, inplace= 'True')\n",
        "portfolio_returns3"
      ]
    },
    {
      "cell_type": "code",
      "execution_count": 59,
      "metadata": {},
      "outputs": [
        {
          "name": "stdout",
          "output_type": "stream",
          "text": [
            "annualised returns\n",
            "Portfolio 3    14.50%\n",
            "Name: 2021-12-31 00:00:00, dtype: object\n",
            "annualised volatility\n",
            "Portfolio 3    14.65%\n",
            "dtype: object\n",
            "sharpe ratio\n",
            "Portfolio 3    0.817744\n",
            "dtype: float64\n",
            "kurtosis\n",
            "Portfolio 3    14.166177\n",
            "dtype: float64\n"
          ]
        }
      ],
      "source": [
        "# your code here\n",
        "\n",
        "#hint: generate the cumlative return to determine the period return\n",
        "cum_ret_series = (1 + portfolio_returns3).cumprod() - 1\n",
        "annualized_returns = (1 + cum_ret_series.iloc[-1])**(1/2) -1\n",
        "print(\"annualised returns\")\n",
        "print(annualized_returns.map(lambda x: f\"{x:.2%}\"))\n",
        "\n",
        "ann_volatility = portfolio_returns3.std() * np.sqrt(252) # cuz this is working with the percentage returns alr \n",
        "print(\"annualised volatility\")\n",
        "print(ann_volatility.map(lambda x: f\"{x:.2%}\"))\n",
        "\n",
        "rf_daily = 0.0001\n",
        "sharpe_ratio = (annualized_returns - rf_daily * 252) / ann_volatility\n",
        "print(\"sharpe ratio\")\n",
        "print(sharpe_ratio)\n",
        "\n",
        "# Calculate kurtosis\n",
        "kurtosis = portfolio_returns3.kurtosis()\n",
        "print(\"kurtosis\")\n",
        "print(kurtosis)"
      ]
    },
    {
      "cell_type": "markdown",
      "metadata": {
        "nteract": {
          "transient": {
            "deleting": false
          }
        }
      },
      "source": [
        "**DIY Q4:**<br>\n",
        "- Which portfolio has the highest return?\n",
        "- Which portfolio has the lowest volatility?\n",
        "- Which portfolio has the highest Sharpe ratio?  "
      ]
    },
    {
      "cell_type": "markdown",
      "metadata": {
        "nteract": {
          "transient": {
            "deleting": false
          }
        }
      },
      "source": [
        "Your answer"
      ]
    },
    {
      "cell_type": "markdown",
      "metadata": {},
      "source": [
        "- highest return : 50% SPY, 50% EFA at 16.42%\n",
        "- lowest volatility :  50% SPY, 50% TLT at 12.26%\n",
        "- highest Sharpe ratio : 50% SPY, 50% TLT at 1.132752"
      ]
    },
    {
      "cell_type": "markdown",
      "metadata": {
        "nteract": {
          "transient": {
            "deleting": false
          }
        }
      },
      "source": [
        "### Create a better portfolio\n",
        "Come up with different weighting that has a higher Sharpe ratio than all the other portfolios.\n",
        "\n",
        "Assume daily risk free rate of 0.0001\n"
      ]
    },
    {
      "cell_type": "code",
      "execution_count": 47,
      "metadata": {
        "collapsed": true,
        "execution": {
          "iopub.execute_input": "2023-02-16T07:27:28.122Z",
          "iopub.status.busy": "2023-02-16T07:27:28.071Z",
          "iopub.status.idle": "2023-02-16T07:27:28.187Z",
          "shell.execute_reply": "2023-02-16T07:27:28.222Z"
        },
        "jupyter": {
          "outputs_hidden": false,
          "source_hidden": false
        },
        "nteract": {
          "transient": {
            "deleting": false
          }
        }
      },
      "outputs": [
        {
          "name": "stdout",
          "output_type": "stream",
          "text": [
            "Optimized Portfolio Weights: [0, 0.7, 0.3]\n",
            "Annualized Return: Portfolio    19.65%\n",
            "Name: 2021-12-31 00:00:00, dtype: object\n",
            "Annualized Volatility: Portfolio    16.33%\n",
            "dtype: object\n",
            "Sharpe Ratio: Portfolio    1.049368\n",
            "dtype: float64\n"
          ]
        }
      ],
      "source": [
        "#your code here\n",
        "# Define optimized portfolio weights\n",
        "optimized_weights = [0, 0.7, 0.3]  # 70% TLT, 30% SPY (EFA removed for higher Sharpe ratio)\n",
        "\n",
        "# Apply the optimized weights to the returns\n",
        "wt_optimized_portfolio_ret = pct_returns * optimized_weights\n",
        "\n",
        "# Sum up weighted returns into a single column\n",
        "optimized_portfolio_returns = pd.DataFrame(wt_optimized_portfolio_ret.sum(axis=1), columns=['Portfolio'])\n",
        "\n",
        "# Generate cumulative return series\n",
        "cum_ret_series_optimized = (1 + optimized_portfolio_returns).cumprod()\n",
        "\n",
        "# Annualized return\n",
        "period_return_optimized = cum_ret_series_optimized.iloc[-1] - 1  # Total return over 2 years\n",
        "annualized_returns_optimized = (1 + period_return_optimized) ** (1/2) - 1  # Since it's a 2-year period\n",
        "\n",
        "# Annualized volatility\n",
        "ann_volatility_optimized = optimized_portfolio_returns.std() * np.sqrt(252)\n",
        "\n",
        "# Sharpe ratio (assuming risk-free rate = 0.0001 daily)\n",
        "rf_daily = 0.0001\n",
        "sharpe_ratio_optimized = (annualized_returns_optimized - rf_daily * 252) / ann_volatility_optimized\n",
        "\n",
        "# Print optimized results\n",
        "print(\"Optimized Portfolio Weights:\", optimized_weights)\n",
        "print(\"Annualized Return:\", annualized_returns_optimized.map(lambda x: f\"{x:.2%}\"))\n",
        "print(\"Annualized Volatility:\", ann_volatility_optimized.map(lambda x: f\"{x:.2%}\"))\n",
        "print(\"Sharpe Ratio:\", sharpe_ratio_optimized)\n"
      ]
    },
    {
      "cell_type": "markdown",
      "metadata": {
        "nteract": {
          "transient": {
            "deleting": false
          }
        }
      },
      "source": [
        "**DIY Q5:**<br>\n",
        "- What is the mix you chose and the corresponding Sharpe ratio?\n",
        "- How did you decide which funds to increase or reduce the weightings?\n",
        "- Why is adding EFA be poor choice for improving the the RAR of the SPY/TLT portfolio? "
      ]
    },
    {
      "cell_type": "markdown",
      "metadata": {
        "nteract": {
          "transient": {
            "deleting": false
          }
        }
      },
      "source": [
        "Your answer"
      ]
    },
    {
      "cell_type": "markdown",
      "metadata": {},
      "source": [
        "1. Choosing the Mix for the Highest Sharpe Ratio:\n",
        "SPY and TLT are likely to provide higher returns than EFA, which has historically been more volatile and less stable.\n",
        "TLT (long-term treasuries) tends to have a negative correlation with SPY (stocks), making it a good hedging asset. Adding more TLT could reduce portfolio volatility while maintaining returns.\n",
        "EFA is an international stock index and can introduce higher volatility, especially when global markets are unstable. It might not significantly improve returns in a portfolio already containing SPY.\n",
        "2. How to Decide the Mix:\n",
        "Sharpe Ratio Maximization: A higher Sharpe ratio comes from a mix that maximizes returns while minimizing risk. TLT's lower volatility can help balance SPY's higher volatility, so you might increase the weight in TLT to reduce the overall portfolio risk.\n",
        "By adjusting weights, we want to find the combination where the increase in return outweighs the increase in risk, leading to a higher Sharpe ratio.\n",
        "3. Reason for Poor Choice of Adding EFA:\n",
        "EFA (International Stocks) introduces additional volatility due to factors like currency risk, geopolitical risk, and economic instability in international markets.\n",
        "If your portfolio is already dominated by SPY and TLT, adding EFA could increase the volatility without significantly improving the return. This reduces the risk-adjusted return (RAR) of the portfolio.\n",
        "SPY already captures a broad equity exposure (U.S. stocks), and adding EFA could introduce diversification that is not highly beneficial in terms of improving the risk-return profile, especially if the weights of SPY and TLT are optimized."
      ]
    }
  ],
  "metadata": {
    "kernelspec": {
      "display_name": "base",
      "language": "python",
      "name": "python3"
    },
    "language_info": {
      "codemirror_mode": {
        "name": "ipython",
        "version": 3
      },
      "file_extension": ".py",
      "mimetype": "text/x-python",
      "name": "python",
      "nbconvert_exporter": "python",
      "pygments_lexer": "ipython3",
      "version": "3.11.5"
    },
    "nteract": {
      "version": "0.28.0"
    }
  },
  "nbformat": 4,
  "nbformat_minor": 4
}
