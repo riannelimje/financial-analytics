{
  "cells": [
    {
      "cell_type": "markdown",
      "metadata": {},
      "source": [
        "<h2>IS453 Financial Analytics</h2><h2>Lab 4 - Volatility, RAR, and Beta"
      ]
    },
    {
      "cell_type": "code",
      "execution_count": 1,
      "metadata": {
        "execution": {
          "iopub.execute_input": "2024-09-12T06:33:57.888Z",
          "iopub.status.busy": "2024-09-12T06:33:57.868Z",
          "iopub.status.idle": "2024-09-12T06:33:59.303Z",
          "shell.execute_reply": "2024-09-12T06:33:59.365Z"
        }
      },
      "outputs": [],
      "source": [
        "import pandas as pd\n",
        "import numpy as np\n",
        "import yfinance as yf"
      ]
    },
    {
      "cell_type": "markdown",
      "metadata": {},
      "source": [
        "**Documentation for new Pandas functions used**<br>\n",
        "https://pandas.pydata.org/docs/reference/api/pandas.DataFrame.shift.html<br>\n",
        "https://numpy.org/doc/stable/reference/generated/numpy.reshape.html<br>\n",
        "https://pandas.pydata.org/docs/reference/api/pandas.DataFrame.cov.html\n"
      ]
    },
    {
      "cell_type": "markdown",
      "metadata": {},
      "source": [
        "## 1. Calculate annualized volatility\n",
        "\n",
        "Read 5 years of data for SPY between 2017-2021. Extract the adjusted close prices.\n",
        "\n"
      ]
    },
    {
      "cell_type": "code",
      "execution_count": 2,
      "metadata": {
        "execution": {
          "iopub.execute_input": "2024-09-12T06:33:59.346Z",
          "iopub.status.busy": "2024-09-12T06:33:59.330Z",
          "iopub.status.idle": "2024-09-12T06:33:59.921Z",
          "shell.execute_reply": "2024-09-12T06:34:01.048Z"
        }
      },
      "outputs": [
        {
          "name": "stdout",
          "output_type": "stream",
          "text": [
            "[*********************100%%**********************]  1 of 1 completed\n"
          ]
        },
        {
          "data": {
            "text/html": [
              "<div>\n",
              "<style scoped>\n",
              "    .dataframe tbody tr th:only-of-type {\n",
              "        vertical-align: middle;\n",
              "    }\n",
              "\n",
              "    .dataframe tbody tr th {\n",
              "        vertical-align: top;\n",
              "    }\n",
              "\n",
              "    .dataframe thead th {\n",
              "        text-align: right;\n",
              "    }\n",
              "</style>\n",
              "<table border=\"1\" class=\"dataframe\">\n",
              "  <thead>\n",
              "    <tr style=\"text-align: right;\">\n",
              "      <th></th>\n",
              "      <th>Adj Close</th>\n",
              "    </tr>\n",
              "    <tr>\n",
              "      <th>Date</th>\n",
              "      <th></th>\n",
              "    </tr>\n",
              "  </thead>\n",
              "  <tbody>\n",
              "    <tr>\n",
              "      <th>2016-12-30</th>\n",
              "      <td>195.791092</td>\n",
              "    </tr>\n",
              "    <tr>\n",
              "      <th>2017-01-03</th>\n",
              "      <td>197.288849</td>\n",
              "    </tr>\n",
              "    <tr>\n",
              "      <th>2017-01-04</th>\n",
              "      <td>198.462601</td>\n",
              "    </tr>\n",
              "    <tr>\n",
              "      <th>2017-01-05</th>\n",
              "      <td>198.304886</td>\n",
              "    </tr>\n",
              "    <tr>\n",
              "      <th>2017-01-06</th>\n",
              "      <td>199.014404</td>\n",
              "    </tr>\n",
              "    <tr>\n",
              "      <th>...</th>\n",
              "      <td>...</td>\n",
              "    </tr>\n",
              "    <tr>\n",
              "      <th>2021-12-27</th>\n",
              "      <td>456.750946</td>\n",
              "    </tr>\n",
              "    <tr>\n",
              "      <th>2021-12-28</th>\n",
              "      <td>456.377655</td>\n",
              "    </tr>\n",
              "    <tr>\n",
              "      <th>2021-12-29</th>\n",
              "      <td>456.961517</td>\n",
              "    </tr>\n",
              "    <tr>\n",
              "      <th>2021-12-30</th>\n",
              "      <td>455.698181</td>\n",
              "    </tr>\n",
              "    <tr>\n",
              "      <th>2021-12-31</th>\n",
              "      <td>454.549744</td>\n",
              "    </tr>\n",
              "  </tbody>\n",
              "</table>\n",
              "<p>1260 rows × 1 columns</p>\n",
              "</div>"
            ],
            "text/plain": [
              "             Adj Close\n",
              "Date                  \n",
              "2016-12-30  195.791092\n",
              "2017-01-03  197.288849\n",
              "2017-01-04  198.462601\n",
              "2017-01-05  198.304886\n",
              "2017-01-06  199.014404\n",
              "...                ...\n",
              "2021-12-27  456.750946\n",
              "2021-12-28  456.377655\n",
              "2021-12-29  456.961517\n",
              "2021-12-30  455.698181\n",
              "2021-12-31  454.549744\n",
              "\n",
              "[1260 rows x 1 columns]"
            ]
          },
          "execution_count": 2,
          "metadata": {},
          "output_type": "execute_result"
        }
      ],
      "source": [
        "# sample code\n",
        "tickers = ['SPY']\n",
        "\n",
        "start_date = '2016-12-30'\n",
        "end_date = '2022-01-01' \n",
        "\n",
        "data1 = yf.download(tickers, start= start_date, end= end_date)\n",
        "\n",
        "stock_price_5y = data1[['Adj Close']]\n",
        "stock_price_5y"
      ]
    },
    {
      "cell_type": "markdown",
      "metadata": {},
      "source": [
        "**Example showing how the pandas df.shift() method works**"
      ]
    },
    {
      "cell_type": "code",
      "execution_count": 3,
      "metadata": {
        "execution": {
          "iopub.execute_input": "2024-09-12T06:33:59.962Z",
          "iopub.status.busy": "2024-09-12T06:33:59.952Z",
          "iopub.status.idle": "2024-09-12T06:33:59.992Z",
          "shell.execute_reply": "2024-09-12T06:34:01.059Z"
        }
      },
      "outputs": [
        {
          "data": {
            "text/html": [
              "<div>\n",
              "<style scoped>\n",
              "    .dataframe tbody tr th:only-of-type {\n",
              "        vertical-align: middle;\n",
              "    }\n",
              "\n",
              "    .dataframe tbody tr th {\n",
              "        vertical-align: top;\n",
              "    }\n",
              "\n",
              "    .dataframe thead th {\n",
              "        text-align: right;\n",
              "    }\n",
              "</style>\n",
              "<table border=\"1\" class=\"dataframe\">\n",
              "  <thead>\n",
              "    <tr style=\"text-align: right;\">\n",
              "      <th></th>\n",
              "      <th>Adj Close</th>\n",
              "      <th>shifted</th>\n",
              "    </tr>\n",
              "    <tr>\n",
              "      <th>Date</th>\n",
              "      <th></th>\n",
              "      <th></th>\n",
              "    </tr>\n",
              "  </thead>\n",
              "  <tbody>\n",
              "    <tr>\n",
              "      <th>2016-12-30</th>\n",
              "      <td>195.791092</td>\n",
              "      <td>NaN</td>\n",
              "    </tr>\n",
              "    <tr>\n",
              "      <th>2017-01-03</th>\n",
              "      <td>197.288849</td>\n",
              "      <td>195.791092</td>\n",
              "    </tr>\n",
              "    <tr>\n",
              "      <th>2017-01-04</th>\n",
              "      <td>198.462601</td>\n",
              "      <td>197.288849</td>\n",
              "    </tr>\n",
              "    <tr>\n",
              "      <th>2017-01-05</th>\n",
              "      <td>198.304886</td>\n",
              "      <td>198.462601</td>\n",
              "    </tr>\n",
              "    <tr>\n",
              "      <th>2017-01-06</th>\n",
              "      <td>199.014404</td>\n",
              "      <td>198.304886</td>\n",
              "    </tr>\n",
              "    <tr>\n",
              "      <th>...</th>\n",
              "      <td>...</td>\n",
              "      <td>...</td>\n",
              "    </tr>\n",
              "    <tr>\n",
              "      <th>2021-12-27</th>\n",
              "      <td>456.750946</td>\n",
              "      <td>450.377136</td>\n",
              "    </tr>\n",
              "    <tr>\n",
              "      <th>2021-12-28</th>\n",
              "      <td>456.377655</td>\n",
              "      <td>456.750946</td>\n",
              "    </tr>\n",
              "    <tr>\n",
              "      <th>2021-12-29</th>\n",
              "      <td>456.961517</td>\n",
              "      <td>456.377655</td>\n",
              "    </tr>\n",
              "    <tr>\n",
              "      <th>2021-12-30</th>\n",
              "      <td>455.698181</td>\n",
              "      <td>456.961517</td>\n",
              "    </tr>\n",
              "    <tr>\n",
              "      <th>2021-12-31</th>\n",
              "      <td>454.549744</td>\n",
              "      <td>455.698181</td>\n",
              "    </tr>\n",
              "  </tbody>\n",
              "</table>\n",
              "<p>1260 rows × 2 columns</p>\n",
              "</div>"
            ],
            "text/plain": [
              "             Adj Close     shifted\n",
              "Date                              \n",
              "2016-12-30  195.791092         NaN\n",
              "2017-01-03  197.288849  195.791092\n",
              "2017-01-04  198.462601  197.288849\n",
              "2017-01-05  198.304886  198.462601\n",
              "2017-01-06  199.014404  198.304886\n",
              "...                ...         ...\n",
              "2021-12-27  456.750946  450.377136\n",
              "2021-12-28  456.377655  456.750946\n",
              "2021-12-29  456.961517  456.377655\n",
              "2021-12-30  455.698181  456.961517\n",
              "2021-12-31  454.549744  455.698181\n",
              "\n",
              "[1260 rows x 2 columns]"
            ]
          },
          "execution_count": 3,
          "metadata": {},
          "output_type": "execute_result"
        }
      ],
      "source": [
        "# sample code\n",
        "# the output gets shifted by forward by 1 unit of date period (index)\n",
        "test_data = stock_price_5y[['Adj Close']]\n",
        "test_data['shifted']= test_data.shift(1)\n",
        "test_data"
      ]
    },
    {
      "cell_type": "code",
      "execution_count": 4,
      "metadata": {
        "execution": {
          "iopub.execute_input": "2024-09-12T06:34:00.050Z",
          "iopub.status.busy": "2024-09-12T06:34:00.028Z",
          "iopub.status.idle": "2024-09-12T06:34:00.101Z",
          "shell.execute_reply": "2024-09-12T06:34:01.068Z"
        }
      },
      "outputs": [
        {
          "data": {
            "text/html": [
              "<div>\n",
              "<style scoped>\n",
              "    .dataframe tbody tr th:only-of-type {\n",
              "        vertical-align: middle;\n",
              "    }\n",
              "\n",
              "    .dataframe tbody tr th {\n",
              "        vertical-align: top;\n",
              "    }\n",
              "\n",
              "    .dataframe thead th {\n",
              "        text-align: right;\n",
              "    }\n",
              "</style>\n",
              "<table border=\"1\" class=\"dataframe\">\n",
              "  <thead>\n",
              "    <tr style=\"text-align: right;\">\n",
              "      <th></th>\n",
              "      <th>Adj Close</th>\n",
              "      <th>shifted</th>\n",
              "      <th>ratio</th>\n",
              "    </tr>\n",
              "    <tr>\n",
              "      <th>Date</th>\n",
              "      <th></th>\n",
              "      <th></th>\n",
              "      <th></th>\n",
              "    </tr>\n",
              "  </thead>\n",
              "  <tbody>\n",
              "    <tr>\n",
              "      <th>2016-12-30</th>\n",
              "      <td>195.791092</td>\n",
              "      <td>NaN</td>\n",
              "      <td>NaN</td>\n",
              "    </tr>\n",
              "    <tr>\n",
              "      <th>2017-01-03</th>\n",
              "      <td>197.288849</td>\n",
              "      <td>195.791092</td>\n",
              "      <td>1.007650</td>\n",
              "    </tr>\n",
              "    <tr>\n",
              "      <th>2017-01-04</th>\n",
              "      <td>198.462601</td>\n",
              "      <td>197.288849</td>\n",
              "      <td>1.005949</td>\n",
              "    </tr>\n",
              "    <tr>\n",
              "      <th>2017-01-05</th>\n",
              "      <td>198.304886</td>\n",
              "      <td>198.462601</td>\n",
              "      <td>0.999205</td>\n",
              "    </tr>\n",
              "    <tr>\n",
              "      <th>2017-01-06</th>\n",
              "      <td>199.014404</td>\n",
              "      <td>198.304886</td>\n",
              "      <td>1.003578</td>\n",
              "    </tr>\n",
              "    <tr>\n",
              "      <th>...</th>\n",
              "      <td>...</td>\n",
              "      <td>...</td>\n",
              "      <td>...</td>\n",
              "    </tr>\n",
              "    <tr>\n",
              "      <th>2021-12-27</th>\n",
              "      <td>456.750946</td>\n",
              "      <td>450.377136</td>\n",
              "      <td>1.014152</td>\n",
              "    </tr>\n",
              "    <tr>\n",
              "      <th>2021-12-28</th>\n",
              "      <td>456.377655</td>\n",
              "      <td>456.750946</td>\n",
              "      <td>0.999183</td>\n",
              "    </tr>\n",
              "    <tr>\n",
              "      <th>2021-12-29</th>\n",
              "      <td>456.961517</td>\n",
              "      <td>456.377655</td>\n",
              "      <td>1.001279</td>\n",
              "    </tr>\n",
              "    <tr>\n",
              "      <th>2021-12-30</th>\n",
              "      <td>455.698181</td>\n",
              "      <td>456.961517</td>\n",
              "      <td>0.997235</td>\n",
              "    </tr>\n",
              "    <tr>\n",
              "      <th>2021-12-31</th>\n",
              "      <td>454.549744</td>\n",
              "      <td>455.698181</td>\n",
              "      <td>0.997480</td>\n",
              "    </tr>\n",
              "  </tbody>\n",
              "</table>\n",
              "<p>1260 rows × 3 columns</p>\n",
              "</div>"
            ],
            "text/plain": [
              "             Adj Close     shifted     ratio\n",
              "Date                                        \n",
              "2016-12-30  195.791092         NaN       NaN\n",
              "2017-01-03  197.288849  195.791092  1.007650\n",
              "2017-01-04  198.462601  197.288849  1.005949\n",
              "2017-01-05  198.304886  198.462601  0.999205\n",
              "2017-01-06  199.014404  198.304886  1.003578\n",
              "...                ...         ...       ...\n",
              "2021-12-27  456.750946  450.377136  1.014152\n",
              "2021-12-28  456.377655  456.750946  0.999183\n",
              "2021-12-29  456.961517  456.377655  1.001279\n",
              "2021-12-30  455.698181  456.961517  0.997235\n",
              "2021-12-31  454.549744  455.698181  0.997480\n",
              "\n",
              "[1260 rows x 3 columns]"
            ]
          },
          "execution_count": 4,
          "metadata": {},
          "output_type": "execute_result"
        }
      ],
      "source": [
        "# to find the ratio of the change in the current price to the previous price\n",
        "test_data['ratio'] = test_data['Adj Close']/test_data['Adj Close'].shift(1)\n",
        "test_data"
      ]
    },
    {
      "cell_type": "markdown",
      "metadata": {},
      "source": [
        "**Exercise Q1: Calculate the annualized historical volatility for SPY**\n",
        "\n",
        "Calculate for periods of the most recent 20 days, 3 months, 1 year (2021) and 5 years (the full data set).<BR>\n",
        "Note that the calculations must be based on log returns from prices as Rn = log(Cn/Cn-1)\n",
        "\n",
        "The formula for annualising historical volatility is in the lecture slides.<BR>\n",
        "  You can assume that there are 252 trading days in a year.\n",
        "\n",
        "*Hint: For defined periods of data such as x-months or x-years, use .loc to select data ranges to subset the prices. For the 20-day period, it refers to twenty trading days, not calendar days.  So use tail or .iloc instead to select the range.*\n",
        "\n",
        " - Which period has the highest annualized historical volatility? <br>\n",
        " - Why do you think that period has the highest?</b></font>"
      ]
    },
    {
      "cell_type": "markdown",
      "metadata": {},
      "source": [
        "**Example: 20-day HV**"
      ]
    },
    {
      "cell_type": "code",
      "execution_count": 5,
      "metadata": {
        "execution": {
          "iopub.execute_input": "2024-09-12T06:34:00.152Z",
          "iopub.status.busy": "2024-09-12T06:34:00.133Z",
          "iopub.status.idle": "2024-09-12T06:34:00.190Z",
          "shell.execute_reply": "2024-09-12T06:34:01.075Z"
        }
      },
      "outputs": [
        {
          "name": "stdout",
          "output_type": "stream",
          "text": [
            "16.3%\n"
          ]
        }
      ],
      "source": [
        "# sample code \n",
        "\n",
        "# get the most recent 20 days\n",
        "spy_20d = stock_price_5y['Adj Close'].iloc[-20:]\n",
        "\n",
        "# take the log of price change(returns) and then apply std()\n",
        "# default for Pandas std() is sample formula\n",
        "spy_20d_hv = np.log(spy_20d / spy_20d.shift(1)).std()\n",
        "\n",
        "# to annualize, multiply by sqrt(252)\n",
        "ann_spy_20d_hv = spy_20d_hv * np.sqrt(252)\n",
        "print(f'{ann_spy_20d_hv:.1%}')"
      ]
    },
    {
      "cell_type": "markdown",
      "metadata": {},
      "source": [
        "**Find the HV for other periods**"
      ]
    },
    {
      "cell_type": "code",
      "execution_count": 6,
      "metadata": {
        "execution": {
          "iopub.execute_input": "2024-09-12T06:34:00.230Z",
          "iopub.status.busy": "2024-09-12T06:34:00.213Z",
          "iopub.status.idle": "2024-09-12T06:34:00.260Z",
          "shell.execute_reply": "2024-09-12T06:34:01.084Z"
        }
      },
      "outputs": [
        {
          "name": "stdout",
          "output_type": "stream",
          "text": [
            "3 months is 13.8%\n",
            " 1 year is 12.9%\n",
            " 5 year is 19.0%\n"
          ]
        }
      ],
      "source": [
        "# your code here\n",
        "# Note: use the loc method to subset the prices for the period and then apply the formula to find HV\n",
        "\n",
        "#3 months - Oct to Dec 2021\n",
        "spy_3m = stock_price_5y['Adj Close'].loc['2021-10-01':'2021-12-31']\n",
        "spy_3m_hv = np.log(spy_3m / spy_3m.shift(1)).std()\n",
        "ann_spy_3m_hv = spy_3m_hv * np.sqrt(252)\n",
        "print(f'3 months is {ann_spy_3m_hv:.1%}')\n",
        "\n",
        "#1 year - for all 2021\n",
        "spy_1y = stock_price_5y['Adj Close'].loc['2021-01-01':'2021-12-31']\n",
        "spy_1y_hv = np.log(spy_1y / spy_1y.shift(1)).std()\n",
        "ann_spy_1y_hv = spy_1y_hv * np.sqrt(252)\n",
        "print(f' 1 year is {ann_spy_1y_hv:.1%}')\n",
        "\n",
        "\n",
        "#5 years\n",
        "spy_5y = stock_price_5y['Adj Close']\n",
        "spy_5y_hv = np.log(spy_5y / spy_5y.shift(1)).std()\n",
        "ann_spy_5y_hv = spy_5y_hv * np.sqrt(252)\n",
        "print(f' 5 year is {ann_spy_5y_hv:.1%}')\n"
      ]
    },
    {
      "cell_type": "markdown",
      "metadata": {
        "nteract": {
          "transient": {
            "deleting": false
          }
        }
      },
      "source": [
        "- Your answer here"
      ]
    },
    {
      "cell_type": "markdown",
      "metadata": {},
      "source": [
        "1) 5 years has the highest volatilty \n",
        "2) It has a longer timeframe which captures more market events. There is also Covid during the 5 year period which contributed to the high volatility"
      ]
    },
    {
      "cell_type": "markdown",
      "metadata": {
        "nteract": {
          "transient": {
            "deleting": false
          }
        }
      },
      "source": [
        "## 2. Calculate risk adjusted returns"
      ]
    },
    {
      "cell_type": "code",
      "execution_count": 7,
      "metadata": {
        "execution": {
          "iopub.execute_input": "2024-09-12T06:34:00.359Z",
          "iopub.status.busy": "2024-09-12T06:34:00.346Z",
          "iopub.status.idle": "2024-09-12T06:34:00.417Z",
          "shell.execute_reply": "2024-09-12T06:34:01.097Z"
        }
      },
      "outputs": [
        {
          "name": "stdout",
          "output_type": "stream",
          "text": [
            "[*********************100%%**********************]  3 of 3 completed\n"
          ]
        },
        {
          "data": {
            "text/html": [
              "<div>\n",
              "<style scoped>\n",
              "    .dataframe tbody tr th:only-of-type {\n",
              "        vertical-align: middle;\n",
              "    }\n",
              "\n",
              "    .dataframe tbody tr th {\n",
              "        vertical-align: top;\n",
              "    }\n",
              "\n",
              "    .dataframe thead th {\n",
              "        text-align: right;\n",
              "    }\n",
              "</style>\n",
              "<table border=\"1\" class=\"dataframe\">\n",
              "  <thead>\n",
              "    <tr style=\"text-align: right;\">\n",
              "      <th></th>\n",
              "      <th>EFA</th>\n",
              "      <th>SPY</th>\n",
              "      <th>TLT</th>\n",
              "    </tr>\n",
              "    <tr>\n",
              "      <th>Date</th>\n",
              "      <th></th>\n",
              "      <th></th>\n",
              "      <th></th>\n",
              "    </tr>\n",
              "  </thead>\n",
              "  <tbody>\n",
              "    <tr>\n",
              "      <th>2020-12-31</th>\n",
              "      <td>64.694145</td>\n",
              "      <td>353.106567</td>\n",
              "      <td>140.378052</td>\n",
              "    </tr>\n",
              "    <tr>\n",
              "      <th>2021-01-04</th>\n",
              "      <td>65.031082</td>\n",
              "      <td>348.299408</td>\n",
              "      <td>140.208984</td>\n",
              "    </tr>\n",
              "    <tr>\n",
              "      <th>2021-01-05</th>\n",
              "      <td>65.704987</td>\n",
              "      <td>350.698212</td>\n",
              "      <td>139.167679</td>\n",
              "    </tr>\n",
              "    <tr>\n",
              "      <th>2021-01-06</th>\n",
              "      <td>66.458687</td>\n",
              "      <td>352.794922</td>\n",
              "      <td>136.310822</td>\n",
              "    </tr>\n",
              "    <tr>\n",
              "      <th>2021-01-07</th>\n",
              "      <td>66.529625</td>\n",
              "      <td>358.036621</td>\n",
              "      <td>135.109344</td>\n",
              "    </tr>\n",
              "    <tr>\n",
              "      <th>...</th>\n",
              "      <td>...</td>\n",
              "      <td>...</td>\n",
              "      <td>...</td>\n",
              "    </tr>\n",
              "    <tr>\n",
              "      <th>2021-12-27</th>\n",
              "      <td>72.352753</td>\n",
              "      <td>456.750916</td>\n",
              "      <td>134.545486</td>\n",
              "    </tr>\n",
              "    <tr>\n",
              "      <th>2021-12-28</th>\n",
              "      <td>72.380180</td>\n",
              "      <td>456.377686</td>\n",
              "      <td>134.012207</td>\n",
              "    </tr>\n",
              "    <tr>\n",
              "      <th>2021-12-29</th>\n",
              "      <td>72.352753</td>\n",
              "      <td>456.961487</td>\n",
              "      <td>132.548203</td>\n",
              "    </tr>\n",
              "    <tr>\n",
              "      <th>2021-12-30</th>\n",
              "      <td>72.163071</td>\n",
              "      <td>455.698212</td>\n",
              "      <td>133.659790</td>\n",
              "    </tr>\n",
              "    <tr>\n",
              "      <th>2021-12-31</th>\n",
              "      <td>72.098915</td>\n",
              "      <td>454.549774</td>\n",
              "      <td>133.921906</td>\n",
              "    </tr>\n",
              "  </tbody>\n",
              "</table>\n",
              "<p>253 rows × 3 columns</p>\n",
              "</div>"
            ],
            "text/plain": [
              "                  EFA         SPY         TLT\n",
              "Date                                         \n",
              "2020-12-31  64.694145  353.106567  140.378052\n",
              "2021-01-04  65.031082  348.299408  140.208984\n",
              "2021-01-05  65.704987  350.698212  139.167679\n",
              "2021-01-06  66.458687  352.794922  136.310822\n",
              "2021-01-07  66.529625  358.036621  135.109344\n",
              "...               ...         ...         ...\n",
              "2021-12-27  72.352753  456.750916  134.545486\n",
              "2021-12-28  72.380180  456.377686  134.012207\n",
              "2021-12-29  72.352753  456.961487  132.548203\n",
              "2021-12-30  72.163071  455.698212  133.659790\n",
              "2021-12-31  72.098915  454.549774  133.921906\n",
              "\n",
              "[253 rows x 3 columns]"
            ]
          },
          "execution_count": 7,
          "metadata": {},
          "output_type": "execute_result"
        }
      ],
      "source": [
        "tickers = ['SPY','TLT','EFA']\n",
        "\n",
        "start_date = '2020-12-31'\n",
        "end_date = '2022-01-01' \n",
        "\n",
        "data2 = yf.download(tickers, start= start_date, end= end_date)\n",
        "\n",
        "stocks_price1 = data2['Adj Close']\n",
        "stocks_price1"
      ]
    },
    {
      "cell_type": "markdown",
      "metadata": {
        "nteract": {
          "transient": {
            "deleting": false
          }
        }
      },
      "source": [
        "**Exercise Q2: Calculate the Sharpe ratio for each fund**\n",
        "\n",
        "For the risk-adjusted return, assume that the daily risk-free rate is 0.0001.<br>\n",
        "\n",
        "- Which fund has the highest RAR\n",
        "- Which fund has the lowest RAR"
      ]
    },
    {
      "cell_type": "code",
      "execution_count": 8,
      "metadata": {
        "execution": {
          "iopub.execute_input": "2024-09-12T06:34:00.450Z",
          "iopub.status.busy": "2024-09-12T06:34:00.438Z",
          "iopub.status.idle": "2024-09-12T06:34:00.486Z",
          "shell.execute_reply": "2024-09-12T06:34:01.102Z"
        }
      },
      "outputs": [
        {
          "data": {
            "text/html": [
              "<div>\n",
              "<style scoped>\n",
              "    .dataframe tbody tr th:only-of-type {\n",
              "        vertical-align: middle;\n",
              "    }\n",
              "\n",
              "    .dataframe tbody tr th {\n",
              "        vertical-align: top;\n",
              "    }\n",
              "\n",
              "    .dataframe thead th {\n",
              "        text-align: right;\n",
              "    }\n",
              "</style>\n",
              "<table border=\"1\" class=\"dataframe\">\n",
              "  <thead>\n",
              "    <tr style=\"text-align: right;\">\n",
              "      <th></th>\n",
              "      <th>EFA</th>\n",
              "      <th>SPY</th>\n",
              "      <th>TLT</th>\n",
              "      <th>RiskFree_Rate</th>\n",
              "      <th>Excess_ret_SPY</th>\n",
              "      <th>Excess_ret_TLT</th>\n",
              "      <th>Excess_ret_EFA</th>\n",
              "    </tr>\n",
              "    <tr>\n",
              "      <th>Date</th>\n",
              "      <th></th>\n",
              "      <th></th>\n",
              "      <th></th>\n",
              "      <th></th>\n",
              "      <th></th>\n",
              "      <th></th>\n",
              "      <th></th>\n",
              "    </tr>\n",
              "  </thead>\n",
              "  <tbody>\n",
              "    <tr>\n",
              "      <th>2021-01-04</th>\n",
              "      <td>0.005208</td>\n",
              "      <td>-0.013614</td>\n",
              "      <td>-0.001204</td>\n",
              "      <td>0.0001</td>\n",
              "      <td>-0.013714</td>\n",
              "      <td>-0.001304</td>\n",
              "      <td>0.005108</td>\n",
              "    </tr>\n",
              "    <tr>\n",
              "      <th>2021-01-05</th>\n",
              "      <td>0.010363</td>\n",
              "      <td>0.006887</td>\n",
              "      <td>-0.007427</td>\n",
              "      <td>0.0001</td>\n",
              "      <td>0.006787</td>\n",
              "      <td>-0.007527</td>\n",
              "      <td>0.010263</td>\n",
              "    </tr>\n",
              "    <tr>\n",
              "      <th>2021-01-06</th>\n",
              "      <td>0.011471</td>\n",
              "      <td>0.005979</td>\n",
              "      <td>-0.020528</td>\n",
              "      <td>0.0001</td>\n",
              "      <td>0.005879</td>\n",
              "      <td>-0.020628</td>\n",
              "      <td>0.011371</td>\n",
              "    </tr>\n",
              "    <tr>\n",
              "      <th>2021-01-07</th>\n",
              "      <td>0.001067</td>\n",
              "      <td>0.014858</td>\n",
              "      <td>-0.008814</td>\n",
              "      <td>0.0001</td>\n",
              "      <td>0.014758</td>\n",
              "      <td>-0.008914</td>\n",
              "      <td>0.000967</td>\n",
              "    </tr>\n",
              "    <tr>\n",
              "      <th>2021-01-08</th>\n",
              "      <td>0.009330</td>\n",
              "      <td>0.005698</td>\n",
              "      <td>-0.003228</td>\n",
              "      <td>0.0001</td>\n",
              "      <td>0.005598</td>\n",
              "      <td>-0.003328</td>\n",
              "      <td>0.009230</td>\n",
              "    </tr>\n",
              "    <tr>\n",
              "      <th>...</th>\n",
              "      <td>...</td>\n",
              "      <td>...</td>\n",
              "      <td>...</td>\n",
              "      <td>...</td>\n",
              "      <td>...</td>\n",
              "      <td>...</td>\n",
              "      <td>...</td>\n",
              "    </tr>\n",
              "    <tr>\n",
              "      <th>2021-12-27</th>\n",
              "      <td>0.007770</td>\n",
              "      <td>0.014152</td>\n",
              "      <td>0.002424</td>\n",
              "      <td>0.0001</td>\n",
              "      <td>0.014052</td>\n",
              "      <td>0.002324</td>\n",
              "      <td>0.007670</td>\n",
              "    </tr>\n",
              "    <tr>\n",
              "      <th>2021-12-28</th>\n",
              "      <td>0.000379</td>\n",
              "      <td>-0.000817</td>\n",
              "      <td>-0.003964</td>\n",
              "      <td>0.0001</td>\n",
              "      <td>-0.000917</td>\n",
              "      <td>-0.004064</td>\n",
              "      <td>0.000279</td>\n",
              "    </tr>\n",
              "    <tr>\n",
              "      <th>2021-12-29</th>\n",
              "      <td>-0.000379</td>\n",
              "      <td>0.001279</td>\n",
              "      <td>-0.010924</td>\n",
              "      <td>0.0001</td>\n",
              "      <td>0.001179</td>\n",
              "      <td>-0.011024</td>\n",
              "      <td>-0.000479</td>\n",
              "    </tr>\n",
              "    <tr>\n",
              "      <th>2021-12-30</th>\n",
              "      <td>-0.002622</td>\n",
              "      <td>-0.002765</td>\n",
              "      <td>0.008386</td>\n",
              "      <td>0.0001</td>\n",
              "      <td>-0.002865</td>\n",
              "      <td>0.008286</td>\n",
              "      <td>-0.002722</td>\n",
              "    </tr>\n",
              "    <tr>\n",
              "      <th>2021-12-31</th>\n",
              "      <td>-0.000889</td>\n",
              "      <td>-0.002520</td>\n",
              "      <td>0.001961</td>\n",
              "      <td>0.0001</td>\n",
              "      <td>-0.002620</td>\n",
              "      <td>0.001861</td>\n",
              "      <td>-0.000989</td>\n",
              "    </tr>\n",
              "  </tbody>\n",
              "</table>\n",
              "<p>252 rows × 7 columns</p>\n",
              "</div>"
            ],
            "text/plain": [
              "                 EFA       SPY       TLT  RiskFree_Rate  Excess_ret_SPY  \\\n",
              "Date                                                                      \n",
              "2021-01-04  0.005208 -0.013614 -0.001204         0.0001       -0.013714   \n",
              "2021-01-05  0.010363  0.006887 -0.007427         0.0001        0.006787   \n",
              "2021-01-06  0.011471  0.005979 -0.020528         0.0001        0.005879   \n",
              "2021-01-07  0.001067  0.014858 -0.008814         0.0001        0.014758   \n",
              "2021-01-08  0.009330  0.005698 -0.003228         0.0001        0.005598   \n",
              "...              ...       ...       ...            ...             ...   \n",
              "2021-12-27  0.007770  0.014152  0.002424         0.0001        0.014052   \n",
              "2021-12-28  0.000379 -0.000817 -0.003964         0.0001       -0.000917   \n",
              "2021-12-29 -0.000379  0.001279 -0.010924         0.0001        0.001179   \n",
              "2021-12-30 -0.002622 -0.002765  0.008386         0.0001       -0.002865   \n",
              "2021-12-31 -0.000889 -0.002520  0.001961         0.0001       -0.002620   \n",
              "\n",
              "            Excess_ret_TLT  Excess_ret_EFA  \n",
              "Date                                        \n",
              "2021-01-04       -0.001304        0.005108  \n",
              "2021-01-05       -0.007527        0.010263  \n",
              "2021-01-06       -0.020628        0.011371  \n",
              "2021-01-07       -0.008914        0.000967  \n",
              "2021-01-08       -0.003328        0.009230  \n",
              "...                    ...             ...  \n",
              "2021-12-27        0.002324        0.007670  \n",
              "2021-12-28       -0.004064        0.000279  \n",
              "2021-12-29       -0.011024       -0.000479  \n",
              "2021-12-30        0.008286       -0.002722  \n",
              "2021-12-31        0.001861       -0.000989  \n",
              "\n",
              "[252 rows x 7 columns]"
            ]
          },
          "execution_count": 8,
          "metadata": {},
          "output_type": "execute_result"
        }
      ],
      "source": [
        "# sample code\n",
        "\n",
        "daily_risk_free_rate = 0.0001\n",
        "\n",
        "# create the percent returns and delete blank first row\n",
        "pct_returns1 = stocks_price1.pct_change().dropna()\n",
        "\n",
        "# find the average daily return values for the instruments\n",
        "avg_daily_ret = pct_returns1.mean()\n",
        "\n",
        "# create a new dataframe and add required columns to compute Sharpe ratio\n",
        "stocks_df_RAR = pd.DataFrame(pct_returns1)\n",
        "\n",
        "# add the risk free rate column in the df\n",
        "stocks_df_RAR['RiskFree_Rate'] = daily_risk_free_rate\n",
        "\n",
        "# compute the average risk free rate value\n",
        "avg_rf_ret = stocks_df_RAR['RiskFree_Rate'].mean()\n",
        "\n",
        "# add the excess return columns for each ETF\n",
        "stocks_df_RAR['Excess_ret_SPY'] = stocks_df_RAR[\"SPY\"] - stocks_df_RAR['RiskFree_Rate']\n",
        "stocks_df_RAR['Excess_ret_TLT'] = stocks_df_RAR[\"TLT\"] - stocks_df_RAR['RiskFree_Rate']\n",
        "stocks_df_RAR['Excess_ret_EFA'] = stocks_df_RAR[\"EFA\"] - stocks_df_RAR['RiskFree_Rate']\n",
        "\n",
        "# the constructed df for RAR calculations\n",
        "stocks_df_RAR"
      ]
    },
    {
      "cell_type": "code",
      "execution_count": 9,
      "metadata": {
        "execution": {
          "iopub.execute_input": "2024-09-12T06:34:00.529Z",
          "iopub.status.busy": "2024-09-12T06:34:00.512Z",
          "iopub.status.idle": "2024-09-12T06:34:00.565Z",
          "shell.execute_reply": "2024-09-12T06:34:01.107Z"
        }
      },
      "outputs": [
        {
          "name": "stdout",
          "output_type": "stream",
          "text": [
            "Annualised Sharpe Ratio SPY = 1.816\n"
          ]
        }
      ],
      "source": [
        "# sample code\n",
        "\n",
        "# calculate sharpe ratio for SPY\n",
        "sharpe_SPY = (avg_daily_ret['SPY'] - avg_rf_ret)/stocks_df_RAR['Excess_ret_SPY'].std()\n",
        "ann_sharpe_SPY = sharpe_SPY * np.sqrt(252)\n",
        "print(f'Annualised Sharpe Ratio SPY = {ann_sharpe_SPY:.3f}')\n"
      ]
    },
    {
      "cell_type": "code",
      "execution_count": 10,
      "metadata": {
        "execution": {
          "iopub.execute_input": "2024-09-12T06:34:00.601Z",
          "iopub.status.busy": "2024-09-12T06:34:00.585Z",
          "iopub.status.idle": "2024-09-12T06:34:00.626Z",
          "shell.execute_reply": "2024-09-12T06:34:01.112Z"
        }
      },
      "outputs": [
        {
          "name": "stdout",
          "output_type": "stream",
          "text": [
            "Annualised Sharpe Ratio TLT = -0.452\n",
            "Annualised Sharpe Ratio EFA = 0.714\n"
          ]
        }
      ],
      "source": [
        "# your code here\n",
        "\n",
        "# calculate sharpe ratio for TLT\n",
        "sharpe_TLT = (avg_daily_ret['TLT'] - avg_rf_ret)/stocks_df_RAR['Excess_ret_TLT'].std()\n",
        "ann_sharpe_TLT = sharpe_TLT * np.sqrt(252)\n",
        "print(f'Annualised Sharpe Ratio TLT = {ann_sharpe_TLT:.3f}')\n",
        "\n",
        "# calculate sharpe ratio for EFA\n",
        "EFA = (avg_daily_ret['EFA'] - avg_rf_ret)/stocks_df_RAR['Excess_ret_EFA'].std()\n",
        "ann_EFA = EFA * np.sqrt(252)\n",
        "print(f'Annualised Sharpe Ratio EFA = {ann_EFA:.3f}')\n"
      ]
    },
    {
      "cell_type": "markdown",
      "metadata": {},
      "source": [
        "Highest RAR - SPY\n",
        "Lowest RAR - TLT"
      ]
    },
    {
      "cell_type": "markdown",
      "metadata": {},
      "source": [
        "## 3. Calculate beta\n",
        "\n",
        "Beta is a measure of the volatility of an individual asset in comparison to the volatility of the entire market as measured by a benchmark.<BR>\n",
        "We will use the covariance to calculate.\n",
        "  \n",
        "**Exercise Q3: Calculate the 1 year beta for Apple stocks with the SPY market benchmark.**\n",
        "\n",
        "- Does AAPL have higher or lower risk sensitivity compared to the S&P 500 index (SPY)?"
      ]
    },
    {
      "cell_type": "code",
      "execution_count": 11,
      "metadata": {
        "execution": {
          "iopub.execute_input": "2024-09-12T06:34:00.704Z",
          "iopub.status.busy": "2024-09-12T06:34:00.694Z",
          "iopub.status.idle": "2024-09-12T06:34:00.740Z",
          "shell.execute_reply": "2024-09-12T06:34:01.122Z"
        }
      },
      "outputs": [
        {
          "name": "stdout",
          "output_type": "stream",
          "text": [
            "[*********************100%%**********************]  2 of 2 completed\n"
          ]
        },
        {
          "data": {
            "text/html": [
              "<div>\n",
              "<style scoped>\n",
              "    .dataframe tbody tr th:only-of-type {\n",
              "        vertical-align: middle;\n",
              "    }\n",
              "\n",
              "    .dataframe tbody tr th {\n",
              "        vertical-align: top;\n",
              "    }\n",
              "\n",
              "    .dataframe thead th {\n",
              "        text-align: right;\n",
              "    }\n",
              "</style>\n",
              "<table border=\"1\" class=\"dataframe\">\n",
              "  <thead>\n",
              "    <tr style=\"text-align: right;\">\n",
              "      <th></th>\n",
              "      <th>AAPL</th>\n",
              "      <th>SPY</th>\n",
              "    </tr>\n",
              "    <tr>\n",
              "      <th>Date</th>\n",
              "      <th></th>\n",
              "      <th></th>\n",
              "    </tr>\n",
              "  </thead>\n",
              "  <tbody>\n",
              "    <tr>\n",
              "      <th>2021-01-04</th>\n",
              "      <td>-0.024720</td>\n",
              "      <td>-0.013614</td>\n",
              "    </tr>\n",
              "    <tr>\n",
              "      <th>2021-01-05</th>\n",
              "      <td>0.012364</td>\n",
              "      <td>0.006887</td>\n",
              "    </tr>\n",
              "    <tr>\n",
              "      <th>2021-01-06</th>\n",
              "      <td>-0.033661</td>\n",
              "      <td>0.005979</td>\n",
              "    </tr>\n",
              "    <tr>\n",
              "      <th>2021-01-07</th>\n",
              "      <td>0.034123</td>\n",
              "      <td>0.014857</td>\n",
              "    </tr>\n",
              "    <tr>\n",
              "      <th>2021-01-08</th>\n",
              "      <td>0.008631</td>\n",
              "      <td>0.005697</td>\n",
              "    </tr>\n",
              "    <tr>\n",
              "      <th>...</th>\n",
              "      <td>...</td>\n",
              "      <td>...</td>\n",
              "    </tr>\n",
              "    <tr>\n",
              "      <th>2021-12-27</th>\n",
              "      <td>0.022975</td>\n",
              "      <td>0.014152</td>\n",
              "    </tr>\n",
              "    <tr>\n",
              "      <th>2021-12-28</th>\n",
              "      <td>-0.005767</td>\n",
              "      <td>-0.000817</td>\n",
              "    </tr>\n",
              "    <tr>\n",
              "      <th>2021-12-29</th>\n",
              "      <td>0.000502</td>\n",
              "      <td>0.001279</td>\n",
              "    </tr>\n",
              "    <tr>\n",
              "      <th>2021-12-30</th>\n",
              "      <td>-0.006578</td>\n",
              "      <td>-0.002765</td>\n",
              "    </tr>\n",
              "    <tr>\n",
              "      <th>2021-12-31</th>\n",
              "      <td>-0.003535</td>\n",
              "      <td>-0.002520</td>\n",
              "    </tr>\n",
              "  </tbody>\n",
              "</table>\n",
              "<p>252 rows × 2 columns</p>\n",
              "</div>"
            ],
            "text/plain": [
              "                AAPL       SPY\n",
              "Date                          \n",
              "2021-01-04 -0.024720 -0.013614\n",
              "2021-01-05  0.012364  0.006887\n",
              "2021-01-06 -0.033661  0.005979\n",
              "2021-01-07  0.034123  0.014857\n",
              "2021-01-08  0.008631  0.005697\n",
              "...              ...       ...\n",
              "2021-12-27  0.022975  0.014152\n",
              "2021-12-28 -0.005767 -0.000817\n",
              "2021-12-29  0.000502  0.001279\n",
              "2021-12-30 -0.006578 -0.002765\n",
              "2021-12-31 -0.003535 -0.002520\n",
              "\n",
              "[252 rows x 2 columns]"
            ]
          },
          "execution_count": 11,
          "metadata": {},
          "output_type": "execute_result"
        }
      ],
      "source": [
        "# sample code\n",
        "# convert the price series to percent returns and drop null values before computing beta\n",
        "\n",
        "tickers = ['AAPL','SPY']\n",
        "\n",
        "start_date = '2020-12-31'\n",
        "end_date = '2022-01-01'\n",
        "\n",
        "data3 = yf.download(tickers, start= start_date, end= end_date)\n",
        "stocks_price2 = data3['Adj Close']\n",
        "\n",
        "stocks_price2_returns = stocks_price2.pct_change().dropna()\n",
        "stocks_price2_returns"
      ]
    },
    {
      "cell_type": "code",
      "execution_count": 12,
      "metadata": {
        "execution": {
          "iopub.execute_input": "2024-09-12T06:34:00.764Z",
          "iopub.status.busy": "2024-09-12T06:34:00.753Z",
          "iopub.status.idle": "2024-09-12T06:34:00.783Z",
          "shell.execute_reply": "2024-09-12T06:34:01.128Z"
        }
      },
      "outputs": [
        {
          "data": {
            "text/html": [
              "<div>\n",
              "<style scoped>\n",
              "    .dataframe tbody tr th:only-of-type {\n",
              "        vertical-align: middle;\n",
              "    }\n",
              "\n",
              "    .dataframe tbody tr th {\n",
              "        vertical-align: top;\n",
              "    }\n",
              "\n",
              "    .dataframe thead th {\n",
              "        text-align: right;\n",
              "    }\n",
              "</style>\n",
              "<table border=\"1\" class=\"dataframe\">\n",
              "  <thead>\n",
              "    <tr style=\"text-align: right;\">\n",
              "      <th></th>\n",
              "      <th>AAPL</th>\n",
              "      <th>SPY</th>\n",
              "    </tr>\n",
              "  </thead>\n",
              "  <tbody>\n",
              "    <tr>\n",
              "      <th>AAPL</th>\n",
              "      <td>0.000250</td>\n",
              "      <td>0.000089</td>\n",
              "    </tr>\n",
              "    <tr>\n",
              "      <th>SPY</th>\n",
              "      <td>0.000089</td>\n",
              "      <td>0.000067</td>\n",
              "    </tr>\n",
              "  </tbody>\n",
              "</table>\n",
              "</div>"
            ],
            "text/plain": [
              "          AAPL       SPY\n",
              "AAPL  0.000250  0.000089\n",
              "SPY   0.000089  0.000067"
            ]
          },
          "execution_count": 12,
          "metadata": {},
          "output_type": "execute_result"
        }
      ],
      "source": [
        "# sample code\n",
        "# find the covariance, the default for Pandas cov() is sample formula\n",
        "stocks_price2_returns.cov()"
      ]
    },
    {
      "cell_type": "markdown",
      "metadata": {},
      "source": [
        "Calculate beta using the formula covar(APPL,SPY)/var(SPY)\n",
        "\n",
        "*Hint: use .loc to extract the APPL-SPY covariance value for the calculation*"
      ]
    },
    {
      "cell_type": "code",
      "execution_count": 13,
      "metadata": {
        "collapsed": true,
        "execution": {
          "iopub.execute_input": "2024-09-12T06:34:00.805Z",
          "iopub.status.busy": "2024-09-12T06:34:00.797Z",
          "iopub.status.idle": "2024-09-12T06:34:00.819Z",
          "shell.execute_reply": "2024-09-12T06:34:01.134Z"
        },
        "jupyter": {
          "outputs_hidden": false,
          "source_hidden": false
        },
        "nteract": {
          "transient": {
            "deleting": false
          }
        }
      },
      "outputs": [
        {
          "data": {
            "text/plain": [
              "1.325"
            ]
          },
          "execution_count": 13,
          "metadata": {},
          "output_type": "execute_result"
        }
      ],
      "source": [
        "# your code here\n",
        "appl_spy_covar = stocks_price2_returns.cov().loc['AAPL','SPY']\n",
        "benchmark_variance = stocks_price2_returns['SPY'].var()\n",
        "beta = appl_spy_covar / benchmark_variance\n",
        "beta.round(3)"
      ]
    },
    {
      "cell_type": "markdown",
      "metadata": {
        "nteract": {
          "transient": {
            "deleting": false
          }
        }
      },
      "source": [
        "- Answer here"
      ]
    },
    {
      "cell_type": "markdown",
      "metadata": {},
      "source": [
        "higher risk sensitivity"
      ]
    },
    {
      "cell_type": "markdown",
      "metadata": {},
      "source": [
        "## DIY\n"
      ]
    },
    {
      "cell_type": "markdown",
      "metadata": {},
      "source": [
        "### 4. Portfolio construction analysis\n",
        "You will construct portfolios containing five stocks, selected from the 15 highest weighted S&P 500 stocks.<BR>\n",
        "Use 5 years worth of data for your analysis - from 1 Jan 2017 through 31 Dec 2021.<BR>\n",
        "S&P 500 component stocks listed at: https://www.slickcharts.com/sp500"
      ]
    },
    {
      "cell_type": "markdown",
      "metadata": {},
      "source": [
        "**DIY Q1: Which five stocks would you use to create a “low volatility” portfolio?**\n",
        "\n",
        "*Hint: For simplicity, only consider the stocks' volatilities. You can ignore their correlations.*<BR>\n",
        "*Hint: use .sort_values()*<BR>\n",
        "*Hint: the ticker symbol for Berkshire Hathaway Inc. is \"BRK-B\"*"
      ]
    },
    {
      "cell_type": "code",
      "execution_count": 14,
      "metadata": {
        "collapsed": true,
        "execution": {
          "iopub.execute_input": "2024-09-12T06:34:00.896Z",
          "iopub.status.busy": "2024-09-12T06:34:00.885Z",
          "iopub.status.idle": "2024-09-12T06:34:00.915Z",
          "shell.execute_reply": "2024-09-12T06:34:01.147Z"
        },
        "jupyter": {
          "outputs_hidden": false,
          "source_hidden": false
        },
        "nteract": {
          "transient": {
            "deleting": false
          }
        }
      },
      "outputs": [
        {
          "name": "stdout",
          "output_type": "stream",
          "text": [
            "[*********************100%%**********************]  15 of 15 completed\n"
          ]
        },
        {
          "data": {
            "text/html": [
              "<div>\n",
              "<style scoped>\n",
              "    .dataframe tbody tr th:only-of-type {\n",
              "        vertical-align: middle;\n",
              "    }\n",
              "\n",
              "    .dataframe tbody tr th {\n",
              "        vertical-align: top;\n",
              "    }\n",
              "\n",
              "    .dataframe thead tr th {\n",
              "        text-align: left;\n",
              "    }\n",
              "\n",
              "    .dataframe thead tr:last-of-type th {\n",
              "        text-align: right;\n",
              "    }\n",
              "</style>\n",
              "<table border=\"1\" class=\"dataframe\">\n",
              "  <thead>\n",
              "    <tr>\n",
              "      <th></th>\n",
              "      <th colspan=\"15\" halign=\"left\">Adj Close</th>\n",
              "    </tr>\n",
              "    <tr>\n",
              "      <th></th>\n",
              "      <th>AAPL</th>\n",
              "      <th>AMZN</th>\n",
              "      <th>AVGO</th>\n",
              "      <th>BRK-B</th>\n",
              "      <th>GOOG</th>\n",
              "      <th>GOOGL</th>\n",
              "      <th>JPM</th>\n",
              "      <th>LLY</th>\n",
              "      <th>META</th>\n",
              "      <th>MSFT</th>\n",
              "      <th>NVDA</th>\n",
              "      <th>TSLA</th>\n",
              "      <th>UNH</th>\n",
              "      <th>V</th>\n",
              "      <th>XOM</th>\n",
              "    </tr>\n",
              "    <tr>\n",
              "      <th>Date</th>\n",
              "      <th></th>\n",
              "      <th></th>\n",
              "      <th></th>\n",
              "      <th></th>\n",
              "      <th></th>\n",
              "      <th></th>\n",
              "      <th></th>\n",
              "      <th></th>\n",
              "      <th></th>\n",
              "      <th></th>\n",
              "      <th></th>\n",
              "      <th></th>\n",
              "      <th></th>\n",
              "      <th></th>\n",
              "      <th></th>\n",
              "    </tr>\n",
              "  </thead>\n",
              "  <tbody>\n",
              "    <tr>\n",
              "      <th>2017-01-03</th>\n",
              "      <td>26.891960</td>\n",
              "      <td>37.683498</td>\n",
              "      <td>13.966705</td>\n",
              "      <td>163.830002</td>\n",
              "      <td>39.166271</td>\n",
              "      <td>40.254574</td>\n",
              "      <td>69.610802</td>\n",
              "      <td>65.001305</td>\n",
              "      <td>116.415298</td>\n",
              "      <td>56.714630</td>\n",
              "      <td>2.512895</td>\n",
              "      <td>14.466000</td>\n",
              "      <td>143.385986</td>\n",
              "      <td>75.214592</td>\n",
              "      <td>62.952065</td>\n",
              "    </tr>\n",
              "    <tr>\n",
              "      <th>2017-01-04</th>\n",
              "      <td>26.861862</td>\n",
              "      <td>37.859001</td>\n",
              "      <td>13.867252</td>\n",
              "      <td>164.080002</td>\n",
              "      <td>39.204136</td>\n",
              "      <td>40.242619</td>\n",
              "      <td>69.739174</td>\n",
              "      <td>65.105873</td>\n",
              "      <td>118.238335</td>\n",
              "      <td>56.460869</td>\n",
              "      <td>2.571523</td>\n",
              "      <td>15.132667</td>\n",
              "      <td>143.794540</td>\n",
              "      <td>75.829559</td>\n",
              "      <td>62.259445</td>\n",
              "    </tr>\n",
              "    <tr>\n",
              "      <th>2017-01-05</th>\n",
              "      <td>26.998463</td>\n",
              "      <td>39.022499</td>\n",
              "      <td>13.648748</td>\n",
              "      <td>163.300003</td>\n",
              "      <td>39.558861</td>\n",
              "      <td>40.504169</td>\n",
              "      <td>69.097229</td>\n",
              "      <td>65.863899</td>\n",
              "      <td>120.210800</td>\n",
              "      <td>56.460869</td>\n",
              "      <td>2.506243</td>\n",
              "      <td>15.116667</td>\n",
              "      <td>144.034302</td>\n",
              "      <td>76.718872</td>\n",
              "      <td>61.331326</td>\n",
              "    </tr>\n",
              "    <tr>\n",
              "      <th>2017-01-06</th>\n",
              "      <td>27.299458</td>\n",
              "      <td>39.799500</td>\n",
              "      <td>13.829658</td>\n",
              "      <td>163.410004</td>\n",
              "      <td>40.163189</td>\n",
              "      <td>41.111465</td>\n",
              "      <td>69.105247</td>\n",
              "      <td>65.933632</td>\n",
              "      <td>122.940376</td>\n",
              "      <td>56.950256</td>\n",
              "      <td>2.539746</td>\n",
              "      <td>15.267333</td>\n",
              "      <td>144.238617</td>\n",
              "      <td>77.778534</td>\n",
              "      <td>61.296719</td>\n",
              "    </tr>\n",
              "    <tr>\n",
              "      <th>2017-01-09</th>\n",
              "      <td>27.549496</td>\n",
              "      <td>39.846001</td>\n",
              "      <td>13.859416</td>\n",
              "      <td>162.020004</td>\n",
              "      <td>40.188099</td>\n",
              "      <td>41.209614</td>\n",
              "      <td>69.153404</td>\n",
              "      <td>66.456429</td>\n",
              "      <td>124.424713</td>\n",
              "      <td>56.768986</td>\n",
              "      <td>2.642714</td>\n",
              "      <td>15.418667</td>\n",
              "      <td>143.830048</td>\n",
              "      <td>77.343315</td>\n",
              "      <td>60.285496</td>\n",
              "    </tr>\n",
              "    <tr>\n",
              "      <th>...</th>\n",
              "      <td>...</td>\n",
              "      <td>...</td>\n",
              "      <td>...</td>\n",
              "      <td>...</td>\n",
              "      <td>...</td>\n",
              "      <td>...</td>\n",
              "      <td>...</td>\n",
              "      <td>...</td>\n",
              "      <td>...</td>\n",
              "      <td>...</td>\n",
              "      <td>...</td>\n",
              "      <td>...</td>\n",
              "      <td>...</td>\n",
              "      <td>...</td>\n",
              "      <td>...</td>\n",
              "    </tr>\n",
              "    <tr>\n",
              "      <th>2021-12-27</th>\n",
              "      <td>177.423660</td>\n",
              "      <td>169.669495</td>\n",
              "      <td>63.024387</td>\n",
              "      <td>296.670013</td>\n",
              "      <td>147.533890</td>\n",
              "      <td>147.372253</td>\n",
              "      <td>144.663330</td>\n",
              "      <td>270.209961</td>\n",
              "      <td>344.862640</td>\n",
              "      <td>333.793152</td>\n",
              "      <td>30.893620</td>\n",
              "      <td>364.646667</td>\n",
              "      <td>478.379181</td>\n",
              "      <td>212.668808</td>\n",
              "      <td>55.664379</td>\n",
              "    </tr>\n",
              "    <tr>\n",
              "      <th>2021-12-28</th>\n",
              "      <td>176.400436</td>\n",
              "      <td>170.660995</td>\n",
              "      <td>62.530869</td>\n",
              "      <td>298.290009</td>\n",
              "      <td>145.923691</td>\n",
              "      <td>146.157181</td>\n",
              "      <td>145.102356</td>\n",
              "      <td>268.288300</td>\n",
              "      <td>344.902466</td>\n",
              "      <td>332.623444</td>\n",
              "      <td>30.271656</td>\n",
              "      <td>362.823334</td>\n",
              "      <td>481.673737</td>\n",
              "      <td>213.079208</td>\n",
              "      <td>55.484497</td>\n",
              "    </tr>\n",
              "    <tr>\n",
              "      <th>2021-12-29</th>\n",
              "      <td>176.488968</td>\n",
              "      <td>169.201004</td>\n",
              "      <td>62.868282</td>\n",
              "      <td>299.459991</td>\n",
              "      <td>145.979980</td>\n",
              "      <td>146.125275</td>\n",
              "      <td>145.029190</td>\n",
              "      <td>270.219757</td>\n",
              "      <td>341.634979</td>\n",
              "      <td>333.305695</td>\n",
              "      <td>29.951187</td>\n",
              "      <td>362.063324</td>\n",
              "      <td>484.202087</td>\n",
              "      <td>213.196503</td>\n",
              "      <td>54.998821</td>\n",
              "    </tr>\n",
              "    <tr>\n",
              "      <th>2021-12-30</th>\n",
              "      <td>175.327988</td>\n",
              "      <td>168.644501</td>\n",
              "      <td>62.164448</td>\n",
              "      <td>299.980011</td>\n",
              "      <td>145.479782</td>\n",
              "      <td>145.672424</td>\n",
              "      <td>144.955994</td>\n",
              "      <td>269.084167</td>\n",
              "      <td>343.049561</td>\n",
              "      <td>330.742218</td>\n",
              "      <td>29.536873</td>\n",
              "      <td>356.779999</td>\n",
              "      <td>483.100677</td>\n",
              "      <td>212.903336</td>\n",
              "      <td>54.675030</td>\n",
              "    </tr>\n",
              "    <tr>\n",
              "      <th>2021-12-31</th>\n",
              "      <td>174.708176</td>\n",
              "      <td>166.716995</td>\n",
              "      <td>62.195312</td>\n",
              "      <td>299.000000</td>\n",
              "      <td>144.161530</td>\n",
              "      <td>144.328796</td>\n",
              "      <td>144.837143</td>\n",
              "      <td>268.084473</td>\n",
              "      <td>335.070068</td>\n",
              "      <td>327.818054</td>\n",
              "      <td>29.362165</td>\n",
              "      <td>352.260010</td>\n",
              "      <td>480.907593</td>\n",
              "      <td>211.769775</td>\n",
              "      <td>55.034794</td>\n",
              "    </tr>\n",
              "  </tbody>\n",
              "</table>\n",
              "<p>1259 rows × 15 columns</p>\n",
              "</div>"
            ],
            "text/plain": [
              "             Adj Close                                                 \\\n",
              "                  AAPL        AMZN       AVGO       BRK-B        GOOG   \n",
              "Date                                                                    \n",
              "2017-01-03   26.891960   37.683498  13.966705  163.830002   39.166271   \n",
              "2017-01-04   26.861862   37.859001  13.867252  164.080002   39.204136   \n",
              "2017-01-05   26.998463   39.022499  13.648748  163.300003   39.558861   \n",
              "2017-01-06   27.299458   39.799500  13.829658  163.410004   40.163189   \n",
              "2017-01-09   27.549496   39.846001  13.859416  162.020004   40.188099   \n",
              "...                ...         ...        ...         ...         ...   \n",
              "2021-12-27  177.423660  169.669495  63.024387  296.670013  147.533890   \n",
              "2021-12-28  176.400436  170.660995  62.530869  298.290009  145.923691   \n",
              "2021-12-29  176.488968  169.201004  62.868282  299.459991  145.979980   \n",
              "2021-12-30  175.327988  168.644501  62.164448  299.980011  145.479782   \n",
              "2021-12-31  174.708176  166.716995  62.195312  299.000000  144.161530   \n",
              "\n",
              "                                                                        \\\n",
              "                 GOOGL         JPM         LLY        META        MSFT   \n",
              "Date                                                                     \n",
              "2017-01-03   40.254574   69.610802   65.001305  116.415298   56.714630   \n",
              "2017-01-04   40.242619   69.739174   65.105873  118.238335   56.460869   \n",
              "2017-01-05   40.504169   69.097229   65.863899  120.210800   56.460869   \n",
              "2017-01-06   41.111465   69.105247   65.933632  122.940376   56.950256   \n",
              "2017-01-09   41.209614   69.153404   66.456429  124.424713   56.768986   \n",
              "...                ...         ...         ...         ...         ...   \n",
              "2021-12-27  147.372253  144.663330  270.209961  344.862640  333.793152   \n",
              "2021-12-28  146.157181  145.102356  268.288300  344.902466  332.623444   \n",
              "2021-12-29  146.125275  145.029190  270.219757  341.634979  333.305695   \n",
              "2021-12-30  145.672424  144.955994  269.084167  343.049561  330.742218   \n",
              "2021-12-31  144.328796  144.837143  268.084473  335.070068  327.818054   \n",
              "\n",
              "                                                                      \n",
              "                 NVDA        TSLA         UNH           V        XOM  \n",
              "Date                                                                  \n",
              "2017-01-03   2.512895   14.466000  143.385986   75.214592  62.952065  \n",
              "2017-01-04   2.571523   15.132667  143.794540   75.829559  62.259445  \n",
              "2017-01-05   2.506243   15.116667  144.034302   76.718872  61.331326  \n",
              "2017-01-06   2.539746   15.267333  144.238617   77.778534  61.296719  \n",
              "2017-01-09   2.642714   15.418667  143.830048   77.343315  60.285496  \n",
              "...               ...         ...         ...         ...        ...  \n",
              "2021-12-27  30.893620  364.646667  478.379181  212.668808  55.664379  \n",
              "2021-12-28  30.271656  362.823334  481.673737  213.079208  55.484497  \n",
              "2021-12-29  29.951187  362.063324  484.202087  213.196503  54.998821  \n",
              "2021-12-30  29.536873  356.779999  483.100677  212.903336  54.675030  \n",
              "2021-12-31  29.362165  352.260010  480.907593  211.769775  55.034794  \n",
              "\n",
              "[1259 rows x 15 columns]"
            ]
          },
          "execution_count": 14,
          "metadata": {},
          "output_type": "execute_result"
        }
      ],
      "source": [
        "# your code here\n",
        "tickers = ['AAPL', 'MSFT', 'NVDA', 'AMZN', 'META', 'GOOGL', 'AVGO', 'TSLA', 'GOOG', 'BRK-B', 'JPM', 'LLY', 'V', 'UNH', 'XOM'] #the top 15 from the website\n",
        "start_date = '2017-01-01'\n",
        "end_date = '2022-01-01'\n",
        "\n",
        "data = yf.download(tickers, start=start_date, end=end_date)\n",
        "\n",
        "stock_price_5y = data[['Adj Close']]\n",
        "stock_price_5y"
      ]
    },
    {
      "cell_type": "code",
      "execution_count": 32,
      "metadata": {},
      "outputs": [
        {
          "name": "stdout",
          "output_type": "stream",
          "text": [
            "all the stocks\n",
            "SPY      0.189611\n",
            "BRK-B    0.215351\n",
            "V        0.266078\n",
            "GOOG     0.270058\n",
            "GOOGL    0.270831\n",
            "MSFT     0.275066\n",
            "LLY      0.278733\n",
            "UNH      0.285348\n",
            "AMZN     0.293605\n",
            "JPM      0.300160\n",
            "XOM      0.303926\n",
            "AAPL     0.304766\n",
            "META     0.334400\n",
            "AVGO     0.354182\n",
            "NVDA     0.472583\n",
            "TSLA     0.601608\n",
            "dtype: float64\n",
            "===top 5===\n",
            "SPY      19.0%\n",
            "BRK-B    21.5%\n",
            "V        26.6%\n",
            "GOOG     27.0%\n",
            "GOOGL    27.1%\n",
            "dtype: object\n"
          ]
        }
      ],
      "source": [
        "# calculating the volatility \n",
        "stock_price_5y_hv = np.log(stock_price_5y / stock_price_5y.shift(1)).std()\n",
        "ann_stock_price_5y = stock_price_5y_hv * np.sqrt(252)\n",
        "print(\"all the stocks\")\n",
        "print(ann_stock_price_5y.sort_values())\n",
        "print(\"===top 5===\")\n",
        "print(ann_stock_price_5y.sort_values()[:5].map('{:.1%}'.format))"
      ]
    },
    {
      "cell_type": "markdown",
      "metadata": {
        "nteract": {
          "transient": {
            "deleting": false
          }
        }
      },
      "source": [
        "- Answer here"
      ]
    },
    {
      "cell_type": "markdown",
      "metadata": {},
      "source": [
        "5 \"low volatility stock\" - SPY, BRK-B, V, GOOG, GOOGL"
      ]
    },
    {
      "cell_type": "markdown",
      "metadata": {},
      "source": [
        "**DIY Q2: Which five stocks would you use to create a “best RAR” portfolio?**\n",
        "\n",
        "Assume a daily risk-free rate of 0.0001."
      ]
    },
    {
      "cell_type": "code",
      "execution_count": 34,
      "metadata": {
        "collapsed": true,
        "execution": {
          "iopub.execute_input": "2024-09-12T06:34:01.555Z",
          "iopub.status.busy": "2024-09-12T06:34:01.545Z",
          "iopub.status.idle": "2024-09-12T06:34:01.573Z",
          "shell.execute_reply": "2024-09-12T06:34:01.627Z"
        },
        "jupyter": {
          "outputs_hidden": false,
          "source_hidden": false
        },
        "nteract": {
          "transient": {
            "deleting": false
          }
        }
      },
      "outputs": [
        {
          "name": "stdout",
          "output_type": "stream",
          "text": [
            "XOM     -0.019766\n",
            "BRK-B    0.550944\n",
            "JPM      0.554342\n",
            "META     0.730313\n",
            "V        0.818104\n",
            "SPY      0.848017\n",
            "UNH      0.906211\n",
            "AVGO     0.959648\n",
            "GOOGL    0.988210\n",
            "GOOG     1.009282\n",
            "LLY      1.056762\n",
            "AMZN     1.073643\n",
            "NVDA     1.230854\n",
            "AAPL     1.301532\n",
            "TSLA     1.319277\n",
            "MSFT     1.325049\n",
            "dtype: float64\n",
            "===the top 5===\n"
          ]
        },
        {
          "data": {
            "text/plain": [
              "AMZN    1.073643\n",
              "NVDA    1.230854\n",
              "AAPL    1.301532\n",
              "TSLA    1.319277\n",
              "MSFT    1.325049\n",
              "dtype: float64"
            ]
          },
          "execution_count": 34,
          "metadata": {},
          "output_type": "execute_result"
        }
      ],
      "source": [
        "# your code here\n",
        "daily_risk_free_rate = 0.0001\n",
        "pct_ret = stock_price_5y.pct_change().dropna()\n",
        "avg_daily_ret = pct_ret.mean()\n",
        "sharpe = (avg_daily_ret - daily_risk_free_rate) / (pct_ret - daily_risk_free_rate).std()\n",
        "ann_sharpe = sharpe * np.sqrt(252)\n",
        "print(ann_sharpe.sort_values())\n",
        "print(\"===the top 5===\")\n",
        "ann_sharpe.sort_values().tail(5) # the higher the better"
      ]
    },
    {
      "cell_type": "markdown",
      "metadata": {
        "nteract": {
          "transient": {
            "deleting": false
          }
        }
      },
      "source": [
        "- Answer here"
      ]
    },
    {
      "cell_type": "markdown",
      "metadata": {},
      "source": [
        "5 \"best RAR\" - AMZN, NVDA, AAPL, TSLA, MSFT"
      ]
    },
    {
      "cell_type": "markdown",
      "metadata": {},
      "source": [
        "**DIY Q3: Which five stocks would you use to create a “low market risk sensitivity” portfolio?**\n",
        "\n",
        "*Hint: make sure SPY is one of your five stocks.*"
      ]
    },
    {
      "cell_type": "code",
      "execution_count": 17,
      "metadata": {
        "collapsed": true,
        "execution": {
          "iopub.execute_input": "2023-09-07T10:25:32.290Z",
          "iopub.status.busy": "2023-09-07T10:25:32.276Z",
          "iopub.status.idle": "2023-09-07T10:25:32.314Z",
          "shell.execute_reply": "2023-09-07T10:25:32.431Z"
        },
        "jupyter": {
          "outputs_hidden": false,
          "source_hidden": false
        },
        "nteract": {
          "transient": {
            "deleting": false
          }
        }
      },
      "outputs": [
        {
          "name": "stdout",
          "output_type": "stream",
          "text": [
            "[*********************100%%**********************]  16 of 16 completed\n"
          ]
        },
        {
          "data": {
            "text/html": [
              "<div>\n",
              "<style scoped>\n",
              "    .dataframe tbody tr th:only-of-type {\n",
              "        vertical-align: middle;\n",
              "    }\n",
              "\n",
              "    .dataframe tbody tr th {\n",
              "        vertical-align: top;\n",
              "    }\n",
              "\n",
              "    .dataframe thead th {\n",
              "        text-align: right;\n",
              "    }\n",
              "</style>\n",
              "<table border=\"1\" class=\"dataframe\">\n",
              "  <thead>\n",
              "    <tr style=\"text-align: right;\">\n",
              "      <th></th>\n",
              "      <th>AAPL</th>\n",
              "      <th>AMZN</th>\n",
              "      <th>AVGO</th>\n",
              "      <th>BRK-B</th>\n",
              "      <th>GOOG</th>\n",
              "      <th>GOOGL</th>\n",
              "      <th>JPM</th>\n",
              "      <th>LLY</th>\n",
              "      <th>META</th>\n",
              "      <th>MSFT</th>\n",
              "      <th>NVDA</th>\n",
              "      <th>SPY</th>\n",
              "      <th>TSLA</th>\n",
              "      <th>UNH</th>\n",
              "      <th>V</th>\n",
              "      <th>XOM</th>\n",
              "    </tr>\n",
              "    <tr>\n",
              "      <th>Date</th>\n",
              "      <th></th>\n",
              "      <th></th>\n",
              "      <th></th>\n",
              "      <th></th>\n",
              "      <th></th>\n",
              "      <th></th>\n",
              "      <th></th>\n",
              "      <th></th>\n",
              "      <th></th>\n",
              "      <th></th>\n",
              "      <th></th>\n",
              "      <th></th>\n",
              "      <th></th>\n",
              "      <th></th>\n",
              "      <th></th>\n",
              "      <th></th>\n",
              "    </tr>\n",
              "  </thead>\n",
              "  <tbody>\n",
              "    <tr>\n",
              "      <th>2017-01-03</th>\n",
              "      <td>26.891962</td>\n",
              "      <td>37.683498</td>\n",
              "      <td>13.966709</td>\n",
              "      <td>163.830002</td>\n",
              "      <td>39.166271</td>\n",
              "      <td>40.254574</td>\n",
              "      <td>69.610779</td>\n",
              "      <td>65.001312</td>\n",
              "      <td>116.415298</td>\n",
              "      <td>56.714622</td>\n",
              "      <td>2.512894</td>\n",
              "      <td>197.288818</td>\n",
              "      <td>14.466000</td>\n",
              "      <td>143.385986</td>\n",
              "      <td>75.214592</td>\n",
              "      <td>62.952065</td>\n",
              "    </tr>\n",
              "    <tr>\n",
              "      <th>2017-01-04</th>\n",
              "      <td>26.861866</td>\n",
              "      <td>37.859001</td>\n",
              "      <td>13.867246</td>\n",
              "      <td>164.080002</td>\n",
              "      <td>39.204136</td>\n",
              "      <td>40.242619</td>\n",
              "      <td>69.739197</td>\n",
              "      <td>65.105881</td>\n",
              "      <td>118.238335</td>\n",
              "      <td>56.460854</td>\n",
              "      <td>2.571522</td>\n",
              "      <td>198.462555</td>\n",
              "      <td>15.132667</td>\n",
              "      <td>143.794510</td>\n",
              "      <td>75.829559</td>\n",
              "      <td>62.259445</td>\n",
              "    </tr>\n",
              "    <tr>\n",
              "      <th>2017-01-05</th>\n",
              "      <td>26.998461</td>\n",
              "      <td>39.022499</td>\n",
              "      <td>13.648749</td>\n",
              "      <td>163.300003</td>\n",
              "      <td>39.558861</td>\n",
              "      <td>40.504169</td>\n",
              "      <td>69.097237</td>\n",
              "      <td>65.863922</td>\n",
              "      <td>120.210800</td>\n",
              "      <td>56.460854</td>\n",
              "      <td>2.506243</td>\n",
              "      <td>198.304871</td>\n",
              "      <td>15.116667</td>\n",
              "      <td>144.034332</td>\n",
              "      <td>76.718903</td>\n",
              "      <td>61.331326</td>\n",
              "    </tr>\n",
              "    <tr>\n",
              "      <th>2017-01-06</th>\n",
              "      <td>27.299458</td>\n",
              "      <td>39.799500</td>\n",
              "      <td>13.829658</td>\n",
              "      <td>163.410004</td>\n",
              "      <td>40.163189</td>\n",
              "      <td>41.111469</td>\n",
              "      <td>69.105270</td>\n",
              "      <td>65.933624</td>\n",
              "      <td>122.940376</td>\n",
              "      <td>56.950253</td>\n",
              "      <td>2.539745</td>\n",
              "      <td>199.014359</td>\n",
              "      <td>15.267333</td>\n",
              "      <td>144.238571</td>\n",
              "      <td>77.778526</td>\n",
              "      <td>61.296719</td>\n",
              "    </tr>\n",
              "    <tr>\n",
              "      <th>2017-01-09</th>\n",
              "      <td>27.549496</td>\n",
              "      <td>39.846001</td>\n",
              "      <td>13.859420</td>\n",
              "      <td>162.020004</td>\n",
              "      <td>40.188099</td>\n",
              "      <td>41.209614</td>\n",
              "      <td>69.153397</td>\n",
              "      <td>66.456421</td>\n",
              "      <td>124.424713</td>\n",
              "      <td>56.768997</td>\n",
              "      <td>2.642714</td>\n",
              "      <td>198.357468</td>\n",
              "      <td>15.418667</td>\n",
              "      <td>143.830017</td>\n",
              "      <td>77.343323</td>\n",
              "      <td>60.285496</td>\n",
              "    </tr>\n",
              "    <tr>\n",
              "      <th>...</th>\n",
              "      <td>...</td>\n",
              "      <td>...</td>\n",
              "      <td>...</td>\n",
              "      <td>...</td>\n",
              "      <td>...</td>\n",
              "      <td>...</td>\n",
              "      <td>...</td>\n",
              "      <td>...</td>\n",
              "      <td>...</td>\n",
              "      <td>...</td>\n",
              "      <td>...</td>\n",
              "      <td>...</td>\n",
              "      <td>...</td>\n",
              "      <td>...</td>\n",
              "      <td>...</td>\n",
              "      <td>...</td>\n",
              "    </tr>\n",
              "    <tr>\n",
              "      <th>2021-12-27</th>\n",
              "      <td>177.423691</td>\n",
              "      <td>169.669495</td>\n",
              "      <td>63.024376</td>\n",
              "      <td>296.670013</td>\n",
              "      <td>147.533890</td>\n",
              "      <td>147.372253</td>\n",
              "      <td>144.663330</td>\n",
              "      <td>270.209991</td>\n",
              "      <td>344.862640</td>\n",
              "      <td>333.793060</td>\n",
              "      <td>30.893620</td>\n",
              "      <td>456.750946</td>\n",
              "      <td>364.646667</td>\n",
              "      <td>478.379211</td>\n",
              "      <td>212.668793</td>\n",
              "      <td>55.664379</td>\n",
              "    </tr>\n",
              "    <tr>\n",
              "      <th>2021-12-28</th>\n",
              "      <td>176.400406</td>\n",
              "      <td>170.660995</td>\n",
              "      <td>62.530861</td>\n",
              "      <td>298.290009</td>\n",
              "      <td>145.923691</td>\n",
              "      <td>146.157166</td>\n",
              "      <td>145.102371</td>\n",
              "      <td>268.288269</td>\n",
              "      <td>344.902466</td>\n",
              "      <td>332.623444</td>\n",
              "      <td>30.271654</td>\n",
              "      <td>456.377686</td>\n",
              "      <td>362.823334</td>\n",
              "      <td>481.673798</td>\n",
              "      <td>213.079254</td>\n",
              "      <td>55.484497</td>\n",
              "    </tr>\n",
              "    <tr>\n",
              "      <th>2021-12-29</th>\n",
              "      <td>176.488968</td>\n",
              "      <td>169.201004</td>\n",
              "      <td>62.868279</td>\n",
              "      <td>299.459991</td>\n",
              "      <td>145.979980</td>\n",
              "      <td>146.125275</td>\n",
              "      <td>145.029190</td>\n",
              "      <td>270.219666</td>\n",
              "      <td>341.634979</td>\n",
              "      <td>333.305756</td>\n",
              "      <td>29.951185</td>\n",
              "      <td>456.961517</td>\n",
              "      <td>362.063324</td>\n",
              "      <td>484.202026</td>\n",
              "      <td>213.196503</td>\n",
              "      <td>54.998821</td>\n",
              "    </tr>\n",
              "    <tr>\n",
              "      <th>2021-12-30</th>\n",
              "      <td>175.328003</td>\n",
              "      <td>168.644501</td>\n",
              "      <td>62.164459</td>\n",
              "      <td>299.980011</td>\n",
              "      <td>145.479782</td>\n",
              "      <td>145.672424</td>\n",
              "      <td>144.956024</td>\n",
              "      <td>269.084167</td>\n",
              "      <td>343.049561</td>\n",
              "      <td>330.742188</td>\n",
              "      <td>29.536877</td>\n",
              "      <td>455.698181</td>\n",
              "      <td>356.779999</td>\n",
              "      <td>483.100708</td>\n",
              "      <td>212.903320</td>\n",
              "      <td>54.675030</td>\n",
              "    </tr>\n",
              "    <tr>\n",
              "      <th>2021-12-31</th>\n",
              "      <td>174.708145</td>\n",
              "      <td>166.716995</td>\n",
              "      <td>62.195312</td>\n",
              "      <td>299.000000</td>\n",
              "      <td>144.161530</td>\n",
              "      <td>144.328796</td>\n",
              "      <td>144.837143</td>\n",
              "      <td>268.084473</td>\n",
              "      <td>335.070068</td>\n",
              "      <td>327.818024</td>\n",
              "      <td>29.362165</td>\n",
              "      <td>454.549744</td>\n",
              "      <td>352.260010</td>\n",
              "      <td>480.907623</td>\n",
              "      <td>211.769775</td>\n",
              "      <td>55.034794</td>\n",
              "    </tr>\n",
              "  </tbody>\n",
              "</table>\n",
              "<p>1259 rows × 16 columns</p>\n",
              "</div>"
            ],
            "text/plain": [
              "                  AAPL        AMZN       AVGO       BRK-B        GOOG  \\\n",
              "Date                                                                    \n",
              "2017-01-03   26.891962   37.683498  13.966709  163.830002   39.166271   \n",
              "2017-01-04   26.861866   37.859001  13.867246  164.080002   39.204136   \n",
              "2017-01-05   26.998461   39.022499  13.648749  163.300003   39.558861   \n",
              "2017-01-06   27.299458   39.799500  13.829658  163.410004   40.163189   \n",
              "2017-01-09   27.549496   39.846001  13.859420  162.020004   40.188099   \n",
              "...                ...         ...        ...         ...         ...   \n",
              "2021-12-27  177.423691  169.669495  63.024376  296.670013  147.533890   \n",
              "2021-12-28  176.400406  170.660995  62.530861  298.290009  145.923691   \n",
              "2021-12-29  176.488968  169.201004  62.868279  299.459991  145.979980   \n",
              "2021-12-30  175.328003  168.644501  62.164459  299.980011  145.479782   \n",
              "2021-12-31  174.708145  166.716995  62.195312  299.000000  144.161530   \n",
              "\n",
              "                 GOOGL         JPM         LLY        META        MSFT  \\\n",
              "Date                                                                     \n",
              "2017-01-03   40.254574   69.610779   65.001312  116.415298   56.714622   \n",
              "2017-01-04   40.242619   69.739197   65.105881  118.238335   56.460854   \n",
              "2017-01-05   40.504169   69.097237   65.863922  120.210800   56.460854   \n",
              "2017-01-06   41.111469   69.105270   65.933624  122.940376   56.950253   \n",
              "2017-01-09   41.209614   69.153397   66.456421  124.424713   56.768997   \n",
              "...                ...         ...         ...         ...         ...   \n",
              "2021-12-27  147.372253  144.663330  270.209991  344.862640  333.793060   \n",
              "2021-12-28  146.157166  145.102371  268.288269  344.902466  332.623444   \n",
              "2021-12-29  146.125275  145.029190  270.219666  341.634979  333.305756   \n",
              "2021-12-30  145.672424  144.956024  269.084167  343.049561  330.742188   \n",
              "2021-12-31  144.328796  144.837143  268.084473  335.070068  327.818024   \n",
              "\n",
              "                 NVDA         SPY        TSLA         UNH           V  \\\n",
              "Date                                                                    \n",
              "2017-01-03   2.512894  197.288818   14.466000  143.385986   75.214592   \n",
              "2017-01-04   2.571522  198.462555   15.132667  143.794510   75.829559   \n",
              "2017-01-05   2.506243  198.304871   15.116667  144.034332   76.718903   \n",
              "2017-01-06   2.539745  199.014359   15.267333  144.238571   77.778526   \n",
              "2017-01-09   2.642714  198.357468   15.418667  143.830017   77.343323   \n",
              "...               ...         ...         ...         ...         ...   \n",
              "2021-12-27  30.893620  456.750946  364.646667  478.379211  212.668793   \n",
              "2021-12-28  30.271654  456.377686  362.823334  481.673798  213.079254   \n",
              "2021-12-29  29.951185  456.961517  362.063324  484.202026  213.196503   \n",
              "2021-12-30  29.536877  455.698181  356.779999  483.100708  212.903320   \n",
              "2021-12-31  29.362165  454.549744  352.260010  480.907623  211.769775   \n",
              "\n",
              "                  XOM  \n",
              "Date                   \n",
              "2017-01-03  62.952065  \n",
              "2017-01-04  62.259445  \n",
              "2017-01-05  61.331326  \n",
              "2017-01-06  61.296719  \n",
              "2017-01-09  60.285496  \n",
              "...               ...  \n",
              "2021-12-27  55.664379  \n",
              "2021-12-28  55.484497  \n",
              "2021-12-29  54.998821  \n",
              "2021-12-30  54.675030  \n",
              "2021-12-31  55.034794  \n",
              "\n",
              "[1259 rows x 16 columns]"
            ]
          },
          "execution_count": 17,
          "metadata": {},
          "output_type": "execute_result"
        }
      ],
      "source": [
        "# your code here\n",
        "tickers = ['AAPL', 'MSFT', 'NVDA', 'AMZN', 'META', 'GOOGL', 'AVGO', 'TSLA', 'GOOG', 'BRK-B', 'JPM', 'LLY', 'V', 'UNH', 'XOM', 'SPY'] # add SPY inside\n",
        "start_date = '2017-01-01'\n",
        "end_date = '2022-01-01'\n",
        "\n",
        "data = yf.download(tickers, start=start_date, end=end_date)\n",
        "\n",
        "stock_price_5y = data['Adj Close']\n",
        "stock_price_5y"
      ]
    },
    {
      "cell_type": "code",
      "execution_count": null,
      "metadata": {},
      "outputs": [
        {
          "name": "stdout",
          "output_type": "stream",
          "text": [
            "           AAPL      AMZN      AVGO     BRK-B      GOOG     GOOGL       JPM  \\\n",
            "AAPL   0.000368  0.000225  0.000258  0.000139  0.000215  0.000215  0.000160   \n",
            "AMZN   0.000225  0.000344  0.000195  0.000089  0.000210  0.000209  0.000091   \n",
            "AVGO   0.000258  0.000195  0.000488  0.000155  0.000203  0.000206  0.000199   \n",
            "BRK-B  0.000139  0.000089  0.000155  0.000184  0.000126  0.000125  0.000207   \n",
            "GOOG   0.000215  0.000210  0.000203  0.000126  0.000289  0.000288  0.000153   \n",
            "GOOGL  0.000215  0.000209  0.000206  0.000125  0.000288  0.000290  0.000153   \n",
            "JPM    0.000160  0.000091  0.000199  0.000207  0.000153  0.000153  0.000359   \n",
            "LLY    0.000114  0.000085  0.000099  0.000092  0.000105  0.000107  0.000093   \n",
            "META   0.000240  0.000238  0.000222  0.000114  0.000242  0.000243  0.000137   \n",
            "MSFT   0.000245  0.000226  0.000237  0.000137  0.000229  0.000231  0.000159   \n",
            "NVDA   0.000341  0.000317  0.000390  0.000168  0.000299  0.000302  0.000195   \n",
            "SPY    0.000174  0.000135  0.000182  0.000132  0.000155  0.000156  0.000170   \n",
            "TSLA   0.000297  0.000258  0.000335  0.000128  0.000230  0.000231  0.000171   \n",
            "UNH    0.000165  0.000120  0.000176  0.000145  0.000154  0.000155  0.000174   \n",
            "V      0.000194  0.000152  0.000204  0.000154  0.000190  0.000190  0.000197   \n",
            "XOM    0.000130  0.000076  0.000177  0.000168  0.000137  0.000138  0.000243   \n",
            "\n",
            "            LLY      META      MSFT      NVDA       SPY      TSLA       UNH  \\\n",
            "AAPL   0.000114  0.000240  0.000245  0.000341  0.000174  0.000297  0.000165   \n",
            "AMZN   0.000085  0.000238  0.000226  0.000317  0.000135  0.000258  0.000120   \n",
            "AVGO   0.000099  0.000222  0.000237  0.000390  0.000182  0.000335  0.000176   \n",
            "BRK-B  0.000092  0.000114  0.000137  0.000168  0.000132  0.000128  0.000145   \n",
            "GOOG   0.000105  0.000242  0.000229  0.000299  0.000155  0.000230  0.000154   \n",
            "GOOGL  0.000107  0.000243  0.000231  0.000302  0.000156  0.000231  0.000155   \n",
            "JPM    0.000093  0.000137  0.000159  0.000195  0.000170  0.000171  0.000174   \n",
            "LLY    0.000315  0.000101  0.000129  0.000128  0.000102  0.000057  0.000139   \n",
            "META   0.000101  0.000436  0.000228  0.000332  0.000157  0.000258  0.000145   \n",
            "MSFT   0.000129  0.000228  0.000300  0.000335  0.000171  0.000276  0.000173   \n",
            "NVDA   0.000128  0.000332  0.000335  0.000878  0.000228  0.000448  0.000211   \n",
            "SPY    0.000102  0.000157  0.000171  0.000228  0.000141  0.000192  0.000147   \n",
            "TSLA   0.000057  0.000258  0.000276  0.000448  0.000192  0.001446  0.000147   \n",
            "UNH    0.000139  0.000145  0.000173  0.000211  0.000147  0.000147  0.000321   \n",
            "V      0.000101  0.000191  0.000206  0.000267  0.000163  0.000219  0.000170   \n",
            "XOM    0.000099  0.000115  0.000124  0.000167  0.000148  0.000147  0.000150   \n",
            "\n",
            "              V       XOM  \n",
            "AAPL   0.000194  0.000130  \n",
            "AMZN   0.000152  0.000076  \n",
            "AVGO   0.000204  0.000177  \n",
            "BRK-B  0.000154  0.000168  \n",
            "GOOG   0.000190  0.000137  \n",
            "GOOGL  0.000190  0.000138  \n",
            "JPM    0.000197  0.000243  \n",
            "LLY    0.000101  0.000099  \n",
            "META   0.000191  0.000115  \n",
            "MSFT   0.000206  0.000124  \n",
            "NVDA   0.000267  0.000167  \n",
            "SPY    0.000163  0.000148  \n",
            "TSLA   0.000219  0.000147  \n",
            "UNH    0.000170  0.000150  \n",
            "V      0.000281  0.000173  \n",
            "XOM    0.000173  0.000366  \n",
            "\n",
            "===the beta for 5 stocks===\n"
          ]
        },
        {
          "data": {
            "text/plain": [
              "LLY      0.723\n",
              "BRK-B    0.935\n",
              "AMZN     0.953\n",
              "SPY      1.000\n",
              "UNH      1.039\n",
              "Name: SPY, dtype: float64"
            ]
          },
          "execution_count": 35,
          "metadata": {},
          "output_type": "execute_result"
        }
      ],
      "source": [
        "pct_ret = stock_price_5y.pct_change().dropna()\n",
        "print(pct_ret.cov())\n",
        "stock_spy_covar = pct_ret.cov().loc[:,'SPY'] # extract column corresponding to spy\n",
        "benchmark_variance = pct_ret['SPY'].var()\n",
        "beta = stock_spy_covar / benchmark_variance\n",
        "print()\n",
        "print(\"===the beta for 5 stocks===\")\n",
        "beta.round(3).sort_values()[:5] # the lower the beta, the less sensitive it is"
      ]
    },
    {
      "cell_type": "markdown",
      "metadata": {
        "nteract": {
          "transient": {
            "deleting": false
          }
        }
      },
      "source": [
        "- Answer here"
      ]
    },
    {
      "cell_type": "markdown",
      "metadata": {},
      "source": [
        "5 \"low market risk sensitivity\" - LLY, BRK-B, AMZN, SPY, UNH"
      ]
    },
    {
      "cell_type": "markdown",
      "metadata": {},
      "source": [
        "**DYI Q4:**\n",
        "\n",
        "It is troublesome to have to try to determine the last business day of the previous year by trial and error. <BR>\n",
        "There should a way to determine that date using Python functions. Let's use GenAI to help us to learn how.\n",
        "\n",
        "Use Generative AI to help you write the Python code to return the string of the last weekday for a given year. <BR>\n",
        "The results of the code for different years should be:<BR>\n",
        "2022 = '2022-12-30'<BR>\n",
        "2023 = '2023-12-29'<BR>\n",
        "2024 = '2024-12-31'"
      ]
    },
    {
      "cell_type": "code",
      "execution_count": 19,
      "metadata": {},
      "outputs": [],
      "source": [
        "# your successful GenAI prompts here:\n",
        "\n",
        "# % you are an assistant to a Python software developer\n",
        "# % ...\n",
        "# Please write a Python function called get_last_business_day(year) that does the following:\n",
        "\n",
        "# 1. Takes an integer year as input.\n",
        "# 2. Determines the date of the last business day (weekday, Monday-Friday) of that year.  This means if December 31st is a Saturday or Sunday, it should return the preceding Friday.\n",
        "# 3. Returns the date as a string in YYYY-MM-DD format.\n",
        "# Provide Python code that implements this function, using appropriate Python date and time libraries (like datetime).  Also, include comments in the code to explain each step.\n",
        "# Here are test cases to verify the function:\n",
        "# - get_last_business_day(2022) should return 2022-12-30\n",
        "# - get_last_business_day(2023) should return 2023-12-29\n",
        "# - get_last_business_day(2024) should return 2024-12-31"
      ]
    },
    {
      "cell_type": "code",
      "execution_count": 20,
      "metadata": {},
      "outputs": [
        {
          "name": "stdout",
          "output_type": "stream",
          "text": [
            "Last business day of 2022: 2022-12-30\n",
            "Last business day of 2023: 2023-12-29\n",
            "Last business day of 2024: 2024-12-31\n"
          ]
        }
      ],
      "source": [
        "# your code here\n",
        "import datetime\n",
        "\n",
        "def get_last_business_day(year):\n",
        "    \"\"\"\n",
        "    Returns the date of the last business day (Monday-Friday) of a given year as a string.\n",
        "\n",
        "    Args:\n",
        "        year (int): The year for which to find the last business day.\n",
        "\n",
        "    Returns:\n",
        "        str: The date of the last business day in 'YYYY-MM-DD' format.\n",
        "    \"\"\"\n",
        "    # 1. Create a datetime.date object for December 31st of the given year.\n",
        "    last_day_of_year = datetime.date(year, 12, 31)\n",
        "\n",
        "    # 2. Get the day of the week. Monday is 0 and Sunday is 6.\n",
        "    day_of_week = last_day_of_year.weekday()\n",
        "\n",
        "    # 3. Check if December 31st is a Saturday (5) or Sunday (6).\n",
        "    if day_of_week >= 5: # Saturday or Sunday\n",
        "        # Calculate how many days to subtract to get to Friday.\n",
        "        days_to_subtract = day_of_week - 4 # Saturday (5) - 4 = 1 day back to Friday, Sunday (6) - 4 = 2 days back to Friday\n",
        "        last_business_day = last_day_of_year - datetime.timedelta(days=days_to_subtract)\n",
        "    else:\n",
        "        # If it's already a weekday (Monday-Friday), then December 31st is the last business day.\n",
        "        last_business_day = last_day_of_year\n",
        "\n",
        "    # 4. Format the datetime.date object into 'YYYY-MM-DD' string.\n",
        "    return last_business_day.strftime('%Y-%m-%d')\n",
        "\n",
        "# Test cases to verify the function:\n",
        "print(f\"Last business day of 2022: {get_last_business_day(2022)}\") # Expected: 2022-12-30\n",
        "print(f\"Last business day of 2023: {get_last_business_day(2023)}\") # Expected: 2023-12-29\n",
        "print(f\"Last business day of 2024: {get_last_business_day(2024)}\") # Expected: 2024-12-31"
      ]
    }
  ],
  "metadata": {
    "kernelspec": {
      "display_name": "base",
      "language": "python",
      "name": "python3"
    },
    "language_info": {
      "codemirror_mode": {
        "name": "ipython",
        "version": 3
      },
      "file_extension": ".py",
      "mimetype": "text/x-python",
      "name": "python",
      "nbconvert_exporter": "python",
      "pygments_lexer": "ipython3",
      "version": "3.11.5"
    },
    "nteract": {
      "version": "0.28.0"
    }
  },
  "nbformat": 4,
  "nbformat_minor": 4
}
