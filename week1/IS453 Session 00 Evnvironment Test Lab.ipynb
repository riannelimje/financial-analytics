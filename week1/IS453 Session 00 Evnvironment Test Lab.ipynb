{
  "cells": [
    {
      "cell_type": "markdown",
      "metadata": {},
      "source": [
        "<table class=\"table table-bordered\">\n",
        "    <tr>\n",
        "        <th style=\"text-align:center; width:35%\"><img src='https://drive.google.com/uc?export=view&id=1zIB3Nw_z8N2SJSSdd2yWQIsDS0MGPYKm' style=\"width: 300px; height: 90px; \"></th>\n",
        "        <th style=\"text-align:center;\"><h2>IS453 Financial Analytics</h2><h2>Week 0 - Test Lab</h2></th>\n",
        "    </tr>\n",
        "</table>"
      ]
    },
    {
      "cell_type": "markdown",
      "metadata": {},
      "source": [
        "## Installation instructions"
      ]
    },
    {
      "cell_type": "markdown",
      "metadata": {},
      "source": [
        "**By installing the Anaconda distribution most packages such as pandas, numpy, matplotlib are auto installed** <br>\n",
        "Additionally you are required to install the following for the Labs in this course. Below are the commands -\n",
        " - pip install seaborn OR conda install seaborn\n",
        " - pip install yfinance\n",
        "\n",
        "Note: You can execute the commands either from the notebook cell or Anaconda prompt(Windows) or from Terminal on Mac from the correct path where anaconda is installed.\n"
      ]
    },
    {
      "cell_type": "code",
      "execution_count": 5,
      "metadata": {},
      "outputs": [
        {
          "name": "stdout",
          "output_type": "stream",
          "text": [
            "Collecting yfinance\n",
            "  Obtaining dependency information for yfinance from https://files.pythonhosted.org/packages/b2/38/7533745b517c34b7b749a7a21f631711354a3d4d39a840d75d20c94d71a0/yfinance-0.2.51-py2.py3-none-any.whl.metadata\n",
            "  Downloading yfinance-0.2.51-py2.py3-none-any.whl.metadata (5.5 kB)\n",
            "Requirement already satisfied: pandas>=1.3.0 in /Users/riannelim/anaconda3/lib/python3.11/site-packages (from yfinance) (1.5.3)\n",
            "Requirement already satisfied: numpy>=1.16.5 in /Users/riannelim/anaconda3/lib/python3.11/site-packages (from yfinance) (1.26.3)\n",
            "Requirement already satisfied: requests>=2.31 in /Users/riannelim/anaconda3/lib/python3.11/site-packages (from yfinance) (2.31.0)\n",
            "Collecting multitasking>=0.0.7 (from yfinance)\n",
            "  Obtaining dependency information for multitasking>=0.0.7 from https://files.pythonhosted.org/packages/3e/8a/bb3160e76e844db9e69a413f055818969c8acade64e1a9ac5ce9dfdcf6c1/multitasking-0.0.11-py3-none-any.whl.metadata\n",
            "  Using cached multitasking-0.0.11-py3-none-any.whl.metadata (5.5 kB)\n",
            "Requirement already satisfied: lxml>=4.9.1 in /Users/riannelim/anaconda3/lib/python3.11/site-packages (from yfinance) (4.9.3)\n",
            "Requirement already satisfied: platformdirs>=2.0.0 in /Users/riannelim/anaconda3/lib/python3.11/site-packages (from yfinance) (4.1.0)\n",
            "Requirement already satisfied: pytz>=2022.5 in /Users/riannelim/anaconda3/lib/python3.11/site-packages (from yfinance) (2023.3.post1)\n",
            "Collecting frozendict>=2.3.4 (from yfinance)\n",
            "  Obtaining dependency information for frozendict>=2.3.4 from https://files.pythonhosted.org/packages/04/13/d9839089b900fa7b479cce495d62110cddc4bd5630a04d8469916c0e79c5/frozendict-2.4.6-py311-none-any.whl.metadata\n",
            "  Downloading frozendict-2.4.6-py311-none-any.whl.metadata (23 kB)\n",
            "Collecting peewee>=3.16.2 (from yfinance)\n",
            "  Downloading peewee-3.17.8.tar.gz (948 kB)\n",
            "\u001b[2K     \u001b[90m━━━━━━━━━━━━━━━━━━━━━━━━━━━━━━━━━━━━━\u001b[0m \u001b[32m948.2/948.2 kB\u001b[0m \u001b[31m540.3 kB/s\u001b[0m eta \u001b[36m0:00:00\u001b[0m00:01\u001b[0m00:01\u001b[0m\n",
            "\u001b[?25h  Installing build dependencies ... \u001b[?25ldone\n",
            "\u001b[?25h  Getting requirements to build wheel ... \u001b[?25ldone\n",
            "\u001b[?25h  Preparing metadata (pyproject.toml) ... \u001b[?25ldone\n",
            "\u001b[?25hRequirement already satisfied: beautifulsoup4>=4.11.1 in /Users/riannelim/anaconda3/lib/python3.11/site-packages (from yfinance) (4.12.2)\n",
            "Collecting html5lib>=1.1 (from yfinance)\n",
            "  Obtaining dependency information for html5lib>=1.1 from https://files.pythonhosted.org/packages/6c/dd/a834df6482147d48e225a49515aabc28974ad5a4ca3215c18a882565b028/html5lib-1.1-py2.py3-none-any.whl.metadata\n",
            "  Using cached html5lib-1.1-py2.py3-none-any.whl.metadata (16 kB)\n",
            "Requirement already satisfied: soupsieve>1.2 in /Users/riannelim/anaconda3/lib/python3.11/site-packages (from beautifulsoup4>=4.11.1->yfinance) (2.5)\n",
            "Requirement already satisfied: six>=1.9 in /Users/riannelim/anaconda3/lib/python3.11/site-packages (from html5lib>=1.1->yfinance) (1.16.0)\n",
            "Requirement already satisfied: webencodings in /Users/riannelim/anaconda3/lib/python3.11/site-packages (from html5lib>=1.1->yfinance) (0.5.1)\n",
            "Requirement already satisfied: python-dateutil>=2.8.1 in /Users/riannelim/anaconda3/lib/python3.11/site-packages (from pandas>=1.3.0->yfinance) (2.8.2)\n",
            "Requirement already satisfied: charset-normalizer<4,>=2 in /Users/riannelim/anaconda3/lib/python3.11/site-packages (from requests>=2.31->yfinance) (3.3.2)\n",
            "Requirement already satisfied: idna<4,>=2.5 in /Users/riannelim/anaconda3/lib/python3.11/site-packages (from requests>=2.31->yfinance) (3.6)\n",
            "Requirement already satisfied: urllib3<3,>=1.21.1 in /Users/riannelim/anaconda3/lib/python3.11/site-packages (from requests>=2.31->yfinance) (2.1.0)\n",
            "Requirement already satisfied: certifi>=2017.4.17 in /Users/riannelim/anaconda3/lib/python3.11/site-packages (from requests>=2.31->yfinance) (2023.11.17)\n",
            "Downloading yfinance-0.2.51-py2.py3-none-any.whl (104 kB)\n",
            "\u001b[2K   \u001b[90m━━━━━━━━━━━━━━━━━━━━━━━━━━━━━━━━━━━━━━━━\u001b[0m \u001b[32m104.7/104.7 kB\u001b[0m \u001b[31m1.2 MB/s\u001b[0m eta \u001b[36m0:00:00\u001b[0m \u001b[36m0:00:01\u001b[0m\n",
            "\u001b[?25hDownloading frozendict-2.4.6-py311-none-any.whl (16 kB)\n",
            "Using cached html5lib-1.1-py2.py3-none-any.whl (112 kB)\n",
            "Using cached multitasking-0.0.11-py3-none-any.whl (8.5 kB)\n",
            "Building wheels for collected packages: peewee\n",
            "  Building wheel for peewee (pyproject.toml) ... \u001b[?25ldone\n",
            "\u001b[?25h  Created wheel for peewee: filename=peewee-3.17.8-cp311-cp311-macosx_11_0_arm64.whl size=264502 sha256=e94a4c034da30c93e379965fdc9fd40f8c4b1f2c8bb10ff619e4a33583e444b6\n",
            "  Stored in directory: /Users/riannelim/Library/Caches/pip/wheels/ff/6c/15/506e25bc390de450a7fa53c155cd9b0fbd13ad3e84a9abc183\n",
            "Successfully built peewee\n",
            "Installing collected packages: peewee, multitasking, html5lib, frozendict, yfinance\n",
            "Successfully installed frozendict-2.4.6 html5lib-1.1 multitasking-0.0.11 peewee-3.17.8 yfinance-0.2.51\n"
          ]
        }
      ],
      "source": [
        "#uncomment below to install yfinance\n",
        "!pip install yfinance"
      ]
    },
    {
      "cell_type": "code",
      "execution_count": 3,
      "metadata": {
        "execution": {
          "iopub.execute_input": "2023-01-08T06:55:55.161Z",
          "iopub.status.busy": "2023-01-08T06:55:55.143Z",
          "iopub.status.idle": "2023-01-08T06:56:03.848Z",
          "shell.execute_reply": "2023-01-08T06:56:03.943Z"
        }
      },
      "outputs": [
        {
          "name": "stdout",
          "output_type": "stream",
          "text": [
            "Requirement already satisfied: seaborn in /Users/riannelim/anaconda3/lib/python3.11/site-packages (0.13.2)\n",
            "Requirement already satisfied: numpy!=1.24.0,>=1.20 in /Users/riannelim/anaconda3/lib/python3.11/site-packages (from seaborn) (1.26.3)\n",
            "Requirement already satisfied: pandas>=1.2 in /Users/riannelim/anaconda3/lib/python3.11/site-packages (from seaborn) (1.5.3)\n",
            "Requirement already satisfied: matplotlib!=3.6.1,>=3.4 in /Users/riannelim/anaconda3/lib/python3.11/site-packages (from seaborn) (3.8.2)\n",
            "Requirement already satisfied: contourpy>=1.0.1 in /Users/riannelim/anaconda3/lib/python3.11/site-packages (from matplotlib!=3.6.1,>=3.4->seaborn) (1.2.0)\n",
            "Requirement already satisfied: cycler>=0.10 in /Users/riannelim/anaconda3/lib/python3.11/site-packages (from matplotlib!=3.6.1,>=3.4->seaborn) (0.12.1)\n",
            "Requirement already satisfied: fonttools>=4.22.0 in /Users/riannelim/anaconda3/lib/python3.11/site-packages (from matplotlib!=3.6.1,>=3.4->seaborn) (4.47.0)\n",
            "Requirement already satisfied: kiwisolver>=1.3.1 in /Users/riannelim/anaconda3/lib/python3.11/site-packages (from matplotlib!=3.6.1,>=3.4->seaborn) (1.4.5)\n",
            "Requirement already satisfied: packaging>=20.0 in /Users/riannelim/anaconda3/lib/python3.11/site-packages (from matplotlib!=3.6.1,>=3.4->seaborn) (21.3)\n",
            "Requirement already satisfied: pillow>=8 in /Users/riannelim/anaconda3/lib/python3.11/site-packages (from matplotlib!=3.6.1,>=3.4->seaborn) (10.2.0)\n",
            "Requirement already satisfied: pyparsing>=2.3.1 in /Users/riannelim/anaconda3/lib/python3.11/site-packages (from matplotlib!=3.6.1,>=3.4->seaborn) (3.1.1)\n",
            "Requirement already satisfied: python-dateutil>=2.7 in /Users/riannelim/anaconda3/lib/python3.11/site-packages (from matplotlib!=3.6.1,>=3.4->seaborn) (2.8.2)\n",
            "Requirement already satisfied: pytz>=2020.1 in /Users/riannelim/anaconda3/lib/python3.11/site-packages (from pandas>=1.2->seaborn) (2023.3.post1)\n",
            "Requirement already satisfied: six>=1.5 in /Users/riannelim/anaconda3/lib/python3.11/site-packages (from python-dateutil>=2.7->matplotlib!=3.6.1,>=3.4->seaborn) (1.16.0)\n"
          ]
        }
      ],
      "source": [
        "# import seaborn as sns\n",
        "#if above import fails then you may need to install seaborn\n",
        "#uncomment below to install seaborn\n",
        "!pip install -U seaborn"
      ]
    },
    {
      "cell_type": "markdown",
      "metadata": {},
      "source": [
        "## Test code\n",
        "\n",
        "You should be able to run the below code and print the first few rows of the 'panel_data' dataframe. \n",
        "\n",
        "If there are errors when reading data, try the upgrade commands given in the last cell(code cell before checking the pandas and datareader versions)\n",
        "\n",
        "If you still encounter errors after the upgrade commands, ensure that you are importing pandas version 1.3.2 or above and yfinance version 0.2.3 or above (code provided later to print the versions). Install the latest versions, restart your Jupyter Notebook Kernel and try again."
      ]
    },
    {
      "cell_type": "code",
      "execution_count": 6,
      "metadata": {
        "execution": {
          "iopub.execute_input": "2023-01-08T06:57:40.908Z",
          "iopub.status.busy": "2023-01-08T06:57:40.898Z",
          "iopub.status.idle": "2023-01-08T06:57:40.979Z",
          "shell.execute_reply": "2023-01-08T06:57:40.985Z"
        }
      },
      "outputs": [],
      "source": [
        "import pandas as pd\n",
        "import numpy as np\n",
        "import matplotlib.pyplot as plt\n",
        "import seaborn as sns\n",
        "\n",
        "import yfinance as yf"
      ]
    },
    {
      "cell_type": "markdown",
      "metadata": {},
      "source": [
        "**Pandas API to read remote FINANCE data**<BR>\n",
        "https://pandas-datareader.readthedocs.io/en/latest/"
      ]
    },
    {
      "cell_type": "code",
      "execution_count": 7,
      "metadata": {
        "execution": {
          "iopub.execute_input": "2023-01-08T06:57:46.925Z",
          "iopub.status.busy": "2023-01-08T06:57:46.913Z",
          "iopub.status.idle": "2023-01-08T06:57:47.798Z",
          "shell.execute_reply": "2023-01-08T06:57:47.811Z"
        }
      },
      "outputs": [
        {
          "name": "stderr",
          "output_type": "stream",
          "text": [
            "[*********************100%***********************]  1 of 1 completed\n"
          ]
        }
      ],
      "source": [
        "#demo code to read stocks data\n",
        "tickers = ['AAPL']\n",
        "\n",
        "start_date = '2021-01-01'\n",
        "end_date = '2021-12-31'\n",
        "\n",
        "# Use pandas_reader.data.DataReader to load sample stock data into a pandas dataframe named panel_data\n",
        "panel_data = stocks_df = yf.download(tickers, start= start_date, end= end_date)"
      ]
    },
    {
      "cell_type": "code",
      "execution_count": 8,
      "metadata": {
        "execution": {
          "iopub.execute_input": "2023-01-08T06:57:50.993Z",
          "iopub.status.busy": "2023-01-08T06:57:50.983Z",
          "iopub.status.idle": "2023-01-08T06:57:51.017Z",
          "shell.execute_reply": "2023-01-08T06:57:51.042Z"
        }
      },
      "outputs": [
        {
          "data": {
            "text/html": [
              "<div>\n",
              "<style scoped>\n",
              "    .dataframe tbody tr th:only-of-type {\n",
              "        vertical-align: middle;\n",
              "    }\n",
              "\n",
              "    .dataframe tbody tr th {\n",
              "        vertical-align: top;\n",
              "    }\n",
              "\n",
              "    .dataframe thead tr th {\n",
              "        text-align: left;\n",
              "    }\n",
              "\n",
              "    .dataframe thead tr:last-of-type th {\n",
              "        text-align: right;\n",
              "    }\n",
              "</style>\n",
              "<table border=\"1\" class=\"dataframe\">\n",
              "  <thead>\n",
              "    <tr>\n",
              "      <th>Price</th>\n",
              "      <th>Close</th>\n",
              "      <th>High</th>\n",
              "      <th>Low</th>\n",
              "      <th>Open</th>\n",
              "      <th>Volume</th>\n",
              "    </tr>\n",
              "    <tr>\n",
              "      <th>Ticker</th>\n",
              "      <th>AAPL</th>\n",
              "      <th>AAPL</th>\n",
              "      <th>AAPL</th>\n",
              "      <th>AAPL</th>\n",
              "      <th>AAPL</th>\n",
              "    </tr>\n",
              "    <tr>\n",
              "      <th>Date</th>\n",
              "      <th></th>\n",
              "      <th></th>\n",
              "      <th></th>\n",
              "      <th></th>\n",
              "      <th></th>\n",
              "    </tr>\n",
              "  </thead>\n",
              "  <tbody>\n",
              "    <tr>\n",
              "      <th>2021-01-04</th>\n",
              "      <td>126.544212</td>\n",
              "      <td>130.651200</td>\n",
              "      <td>123.952895</td>\n",
              "      <td>130.563197</td>\n",
              "      <td>143301900</td>\n",
              "    </tr>\n",
              "    <tr>\n",
              "      <th>2021-01-05</th>\n",
              "      <td>128.108765</td>\n",
              "      <td>128.822609</td>\n",
              "      <td>125.585897</td>\n",
              "      <td>126.035717</td>\n",
              "      <td>97664900</td>\n",
              "    </tr>\n",
              "    <tr>\n",
              "      <th>2021-01-06</th>\n",
              "      <td>123.796440</td>\n",
              "      <td>128.147899</td>\n",
              "      <td>123.581311</td>\n",
              "      <td>124.891640</td>\n",
              "      <td>155088000</td>\n",
              "    </tr>\n",
              "    <tr>\n",
              "      <th>2021-01-07</th>\n",
              "      <td>128.020782</td>\n",
              "      <td>128.715066</td>\n",
              "      <td>125.028548</td>\n",
              "      <td>125.517476</td>\n",
              "      <td>109578200</td>\n",
              "    </tr>\n",
              "    <tr>\n",
              "      <th>2021-01-08</th>\n",
              "      <td>129.125763</td>\n",
              "      <td>129.692921</td>\n",
              "      <td>127.346060</td>\n",
              "      <td>129.497338</td>\n",
              "      <td>105158200</td>\n",
              "    </tr>\n",
              "  </tbody>\n",
              "</table>\n",
              "</div>"
            ],
            "text/plain": [
              "Price            Close        High         Low        Open     Volume\n",
              "Ticker            AAPL        AAPL        AAPL        AAPL       AAPL\n",
              "Date                                                                 \n",
              "2021-01-04  126.544212  130.651200  123.952895  130.563197  143301900\n",
              "2021-01-05  128.108765  128.822609  125.585897  126.035717   97664900\n",
              "2021-01-06  123.796440  128.147899  123.581311  124.891640  155088000\n",
              "2021-01-07  128.020782  128.715066  125.028548  125.517476  109578200\n",
              "2021-01-08  129.125763  129.692921  127.346060  129.497338  105158200"
            ]
          },
          "execution_count": 8,
          "metadata": {},
          "output_type": "execute_result"
        }
      ],
      "source": [
        "#print first few rows of the df\n",
        "panel_data.head()"
      ]
    },
    {
      "cell_type": "code",
      "execution_count": 9,
      "metadata": {
        "execution": {
          "iopub.execute_input": "2023-01-08T06:57:54.116Z",
          "iopub.status.busy": "2023-01-08T06:57:54.104Z",
          "iopub.status.idle": "2023-01-08T06:57:54.228Z",
          "shell.execute_reply": "2023-01-08T06:57:54.233Z"
        }
      },
      "outputs": [
        {
          "data": {
            "text/html": [
              "<div>\n",
              "<style scoped>\n",
              "    .dataframe tbody tr th:only-of-type {\n",
              "        vertical-align: middle;\n",
              "    }\n",
              "\n",
              "    .dataframe tbody tr th {\n",
              "        vertical-align: top;\n",
              "    }\n",
              "\n",
              "    .dataframe thead tr th {\n",
              "        text-align: left;\n",
              "    }\n",
              "\n",
              "    .dataframe thead tr:last-of-type th {\n",
              "        text-align: right;\n",
              "    }\n",
              "</style>\n",
              "<table border=\"1\" class=\"dataframe\">\n",
              "  <thead>\n",
              "    <tr>\n",
              "      <th>Price</th>\n",
              "      <th>Close</th>\n",
              "      <th>High</th>\n",
              "      <th>Low</th>\n",
              "      <th>Open</th>\n",
              "      <th>Volume</th>\n",
              "    </tr>\n",
              "    <tr>\n",
              "      <th>Ticker</th>\n",
              "      <th>AAPL</th>\n",
              "      <th>AAPL</th>\n",
              "      <th>AAPL</th>\n",
              "      <th>AAPL</th>\n",
              "      <th>AAPL</th>\n",
              "    </tr>\n",
              "    <tr>\n",
              "      <th>Date</th>\n",
              "      <th></th>\n",
              "      <th></th>\n",
              "      <th></th>\n",
              "      <th></th>\n",
              "      <th></th>\n",
              "    </tr>\n",
              "  </thead>\n",
              "  <tbody>\n",
              "    <tr>\n",
              "      <th>2021-12-23</th>\n",
              "      <td>173.438934</td>\n",
              "      <td>173.999755</td>\n",
              "      <td>172.445218</td>\n",
              "      <td>173.015872</td>\n",
              "      <td>68356600</td>\n",
              "    </tr>\n",
              "    <tr>\n",
              "      <th>2021-12-27</th>\n",
              "      <td>177.423660</td>\n",
              "      <td>177.512206</td>\n",
              "      <td>174.216206</td>\n",
              "      <td>174.235873</td>\n",
              "      <td>74919600</td>\n",
              "    </tr>\n",
              "    <tr>\n",
              "      <th>2021-12-28</th>\n",
              "      <td>176.400406</td>\n",
              "      <td>178.407536</td>\n",
              "      <td>175.652660</td>\n",
              "      <td>177.256394</td>\n",
              "      <td>79144300</td>\n",
              "    </tr>\n",
              "    <tr>\n",
              "      <th>2021-12-29</th>\n",
              "      <td>176.488983</td>\n",
              "      <td>177.718837</td>\n",
              "      <td>175.268963</td>\n",
              "      <td>176.439786</td>\n",
              "      <td>62348900</td>\n",
              "    </tr>\n",
              "    <tr>\n",
              "      <th>2021-12-30</th>\n",
              "      <td>175.328018</td>\n",
              "      <td>177.659832</td>\n",
              "      <td>175.219790</td>\n",
              "      <td>176.577554</td>\n",
              "      <td>59773000</td>\n",
              "    </tr>\n",
              "  </tbody>\n",
              "</table>\n",
              "</div>"
            ],
            "text/plain": [
              "Price            Close        High         Low        Open    Volume\n",
              "Ticker            AAPL        AAPL        AAPL        AAPL      AAPL\n",
              "Date                                                                \n",
              "2021-12-23  173.438934  173.999755  172.445218  173.015872  68356600\n",
              "2021-12-27  177.423660  177.512206  174.216206  174.235873  74919600\n",
              "2021-12-28  176.400406  178.407536  175.652660  177.256394  79144300\n",
              "2021-12-29  176.488983  177.718837  175.268963  176.439786  62348900\n",
              "2021-12-30  175.328018  177.659832  175.219790  176.577554  59773000"
            ]
          },
          "execution_count": 9,
          "metadata": {},
          "output_type": "execute_result"
        }
      ],
      "source": [
        "#print last few rows of the df\n",
        "panel_data.tail()"
      ]
    },
    {
      "cell_type": "code",
      "execution_count": 7,
      "metadata": {},
      "outputs": [],
      "source": [
        "# this solved the data reader issue, uncomment the following install commands and run the cell\n",
        "# !pip install --upgrade pandas-datareader\n",
        "# !pip install --upgrade pandas"
      ]
    },
    {
      "cell_type": "code",
      "execution_count": 10,
      "metadata": {
        "execution": {
          "iopub.execute_input": "2023-01-08T07:00:12.592Z",
          "iopub.status.busy": "2023-01-08T07:00:12.578Z",
          "iopub.status.idle": "2023-01-08T07:00:12.619Z",
          "shell.execute_reply": "2023-01-08T07:00:12.628Z"
        }
      },
      "outputs": [
        {
          "name": "stdout",
          "output_type": "stream",
          "text": [
            "pandas version:1.5.3\n",
            "yfinance version:0.2.51\n"
          ]
        }
      ],
      "source": [
        "#code to check package versions\n",
        "import pandas as pd\n",
        "\n",
        "print(\"pandas version:\" + pd.__version__)\n",
        "print(\"yfinance version:\" + yf.__version__)\n"
      ]
    },
    {
      "cell_type": "code",
      "execution_count": null,
      "metadata": {},
      "outputs": [],
      "source": []
    }
  ],
  "metadata": {
    "kernelspec": {
      "display_name": "base",
      "language": "python",
      "name": "python3"
    },
    "language_info": {
      "codemirror_mode": {
        "name": "ipython",
        "version": 3
      },
      "file_extension": ".py",
      "mimetype": "text/x-python",
      "name": "python",
      "nbconvert_exporter": "python",
      "pygments_lexer": "ipython3",
      "version": "3.11.5"
    },
    "nteract": {
      "version": "0.28.0"
    }
  },
  "nbformat": 4,
  "nbformat_minor": 4
}
