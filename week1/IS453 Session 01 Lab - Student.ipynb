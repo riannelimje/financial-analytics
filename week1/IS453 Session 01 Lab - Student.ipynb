{
  "cells": [
    {
      "cell_type": "markdown",
      "metadata": {},
      "source": [
        "## IS453 Financial Analytics\n",
        "## Week 01 - Time Series Data\n",
        "\n",
        "### Read stock prices as a pandas dataframe"
      ]
    },
    {
      "cell_type": "markdown",
      "metadata": {},
      "source": [
        "**API to read historical price data from Yahoo Finance**<BR>\n",
        "https://pypi.org/project/yfinance/"
      ]
    },
    {
      "cell_type": "code",
      "execution_count": 78,
      "metadata": {
        "execution": {
          "iopub.execute_input": "2023-08-15T09:48:43.600Z",
          "iopub.status.busy": "2023-08-15T09:48:43.530Z",
          "iopub.status.idle": "2023-08-15T09:48:43.764Z",
          "shell.execute_reply": "2023-08-15T09:48:43.435Z"
        }
      },
      "outputs": [
        {
          "name": "stdout",
          "output_type": "stream",
          "text": [
            "Requirement already satisfied: yfinance==0.2.31 in /Users/riannelim/anaconda3/lib/python3.11/site-packages (0.2.31)\n",
            "Requirement already satisfied: pandas>=1.3.0 in /Users/riannelim/anaconda3/lib/python3.11/site-packages (from yfinance==0.2.31) (1.5.3)\n",
            "Requirement already satisfied: numpy>=1.16.5 in /Users/riannelim/anaconda3/lib/python3.11/site-packages (from yfinance==0.2.31) (1.26.3)\n",
            "Requirement already satisfied: requests>=2.31 in /Users/riannelim/anaconda3/lib/python3.11/site-packages (from yfinance==0.2.31) (2.31.0)\n",
            "Requirement already satisfied: multitasking>=0.0.7 in /Users/riannelim/anaconda3/lib/python3.11/site-packages (from yfinance==0.2.31) (0.0.11)\n",
            "Requirement already satisfied: lxml>=4.9.1 in /Users/riannelim/anaconda3/lib/python3.11/site-packages (from yfinance==0.2.31) (4.9.3)\n",
            "Requirement already satisfied: appdirs>=1.4.4 in /Users/riannelim/anaconda3/lib/python3.11/site-packages (from yfinance==0.2.31) (1.4.4)\n",
            "Requirement already satisfied: pytz>=2022.5 in /Users/riannelim/anaconda3/lib/python3.11/site-packages (from yfinance==0.2.31) (2023.3.post1)\n",
            "Requirement already satisfied: frozendict>=2.3.4 in /Users/riannelim/anaconda3/lib/python3.11/site-packages (from yfinance==0.2.31) (2.4.6)\n",
            "Requirement already satisfied: peewee>=3.16.2 in /Users/riannelim/anaconda3/lib/python3.11/site-packages (from yfinance==0.2.31) (3.17.8)\n",
            "Requirement already satisfied: beautifulsoup4>=4.11.1 in /Users/riannelim/anaconda3/lib/python3.11/site-packages (from yfinance==0.2.31) (4.12.2)\n",
            "Requirement already satisfied: html5lib>=1.1 in /Users/riannelim/anaconda3/lib/python3.11/site-packages (from yfinance==0.2.31) (1.1)\n",
            "Requirement already satisfied: soupsieve>1.2 in /Users/riannelim/anaconda3/lib/python3.11/site-packages (from beautifulsoup4>=4.11.1->yfinance==0.2.31) (2.5)\n",
            "Requirement already satisfied: six>=1.9 in /Users/riannelim/anaconda3/lib/python3.11/site-packages (from html5lib>=1.1->yfinance==0.2.31) (1.16.0)\n",
            "Requirement already satisfied: webencodings in /Users/riannelim/anaconda3/lib/python3.11/site-packages (from html5lib>=1.1->yfinance==0.2.31) (0.5.1)\n",
            "Requirement already satisfied: python-dateutil>=2.8.1 in /Users/riannelim/anaconda3/lib/python3.11/site-packages (from pandas>=1.3.0->yfinance==0.2.31) (2.8.2)\n",
            "Requirement already satisfied: charset-normalizer<4,>=2 in /Users/riannelim/anaconda3/lib/python3.11/site-packages (from requests>=2.31->yfinance==0.2.31) (3.3.2)\n",
            "Requirement already satisfied: idna<4,>=2.5 in /Users/riannelim/anaconda3/lib/python3.11/site-packages (from requests>=2.31->yfinance==0.2.31) (3.6)\n",
            "Requirement already satisfied: urllib3<3,>=1.21.1 in /Users/riannelim/anaconda3/lib/python3.11/site-packages (from requests>=2.31->yfinance==0.2.31) (2.1.0)\n",
            "Requirement already satisfied: certifi>=2017.4.17 in /Users/riannelim/anaconda3/lib/python3.11/site-packages (from requests>=2.31->yfinance==0.2.31) (2023.11.17)\n"
          ]
        }
      ],
      "source": [
        "# uncomment below to install yfinance. Need to use older version, newer verisons have issues.\n",
        "!pip install yfinance==0.2.31"
      ]
    },
    {
      "cell_type": "code",
      "execution_count": 79,
      "metadata": {
        "execution": {
          "iopub.execute_input": "2023-08-15T09:48:43.839Z",
          "iopub.status.busy": "2023-08-15T09:48:43.810Z",
          "iopub.status.idle": "2023-08-15T09:48:46.178Z",
          "shell.execute_reply": "2023-08-15T09:48:46.317Z"
        }
      },
      "outputs": [],
      "source": [
        "import os\n",
        "\n",
        "import pandas as pd\n",
        "import numpy as np\n",
        "import matplotlib.pyplot as plt\n",
        "import yfinance as yf"
      ]
    },
    {
      "cell_type": "markdown",
      "metadata": {},
      "source": [
        "### Part 1 - retreive data\n",
        "\n",
        "Measure from one end-of-year close to another end-of-year close to capture one year's worth of data\n",
        "\n",
        "**Note:**\n",
        "\n",
        "The end date for yfinance is exclusive, so we specify the end date for retreiving data as '2022-01-01'<BR>\n",
        "If we specified it as '2021-12-31' only data up through 30 December would be retreived.\n",
        "\n"
      ]
    },
    {
      "cell_type": "code",
      "execution_count": 80,
      "metadata": {
        "execution": {
          "iopub.execute_input": "2023-08-15T09:48:46.262Z",
          "iopub.status.busy": "2023-08-15T09:48:46.225Z",
          "iopub.status.idle": "2023-08-15T09:48:46.645Z",
          "shell.execute_reply": "2023-08-15T09:48:50.131Z"
        }
      },
      "outputs": [
        {
          "name": "stdout",
          "output_type": "stream",
          "text": [
            "[*********************100%%**********************]  1 of 1 completed\n"
          ]
        }
      ],
      "source": [
        "# specify the symbol to read\n",
        "tickers = ['AAPL']\n",
        "\n",
        "# specify the time period - 1 year\n",
        "start_date = '2020-12-31'\n",
        "end_date = '2022-01-01'\n",
        "\n",
        "# download the stock price data\n",
        "stocks_df = yf.download(tickers, start=start_date, end=end_date)"
      ]
    },
    {
      "cell_type": "markdown",
      "metadata": {
        "nteract": {
          "transient": {
            "deleting": false
          }
        }
      },
      "source": [
        "### Part 2 - explore basic dataframe methods\n"
      ]
    },
    {
      "cell_type": "code",
      "execution_count": 81,
      "metadata": {
        "execution": {
          "iopub.execute_input": "2023-08-15T09:48:46.752Z",
          "iopub.status.busy": "2023-08-15T09:48:46.703Z",
          "iopub.status.idle": "2023-08-15T09:48:46.825Z",
          "shell.execute_reply": "2023-08-15T09:48:50.147Z"
        }
      },
      "outputs": [
        {
          "data": {
            "text/html": [
              "<div>\n",
              "<style scoped>\n",
              "    .dataframe tbody tr th:only-of-type {\n",
              "        vertical-align: middle;\n",
              "    }\n",
              "\n",
              "    .dataframe tbody tr th {\n",
              "        vertical-align: top;\n",
              "    }\n",
              "\n",
              "    .dataframe thead th {\n",
              "        text-align: right;\n",
              "    }\n",
              "</style>\n",
              "<table border=\"1\" class=\"dataframe\">\n",
              "  <thead>\n",
              "    <tr style=\"text-align: right;\">\n",
              "      <th></th>\n",
              "      <th>Open</th>\n",
              "      <th>High</th>\n",
              "      <th>Low</th>\n",
              "      <th>Close</th>\n",
              "      <th>Adj Close</th>\n",
              "      <th>Volume</th>\n",
              "    </tr>\n",
              "    <tr>\n",
              "      <th>Date</th>\n",
              "      <th></th>\n",
              "      <th></th>\n",
              "      <th></th>\n",
              "      <th></th>\n",
              "      <th></th>\n",
              "      <th></th>\n",
              "    </tr>\n",
              "  </thead>\n",
              "  <tbody>\n",
              "    <tr>\n",
              "      <th>2020-12-31</th>\n",
              "      <td>134.080002</td>\n",
              "      <td>134.740005</td>\n",
              "      <td>131.720001</td>\n",
              "      <td>132.690002</td>\n",
              "      <td>129.751572</td>\n",
              "      <td>99116600</td>\n",
              "    </tr>\n",
              "    <tr>\n",
              "      <th>2021-01-04</th>\n",
              "      <td>133.520004</td>\n",
              "      <td>133.610001</td>\n",
              "      <td>126.760002</td>\n",
              "      <td>129.410004</td>\n",
              "      <td>126.544212</td>\n",
              "      <td>143301900</td>\n",
              "    </tr>\n",
              "    <tr>\n",
              "      <th>2021-01-05</th>\n",
              "      <td>128.889999</td>\n",
              "      <td>131.740005</td>\n",
              "      <td>128.429993</td>\n",
              "      <td>131.009995</td>\n",
              "      <td>128.108780</td>\n",
              "      <td>97664900</td>\n",
              "    </tr>\n",
              "    <tr>\n",
              "      <th>2021-01-06</th>\n",
              "      <td>127.720001</td>\n",
              "      <td>131.050003</td>\n",
              "      <td>126.379997</td>\n",
              "      <td>126.599998</td>\n",
              "      <td>123.796440</td>\n",
              "      <td>155088000</td>\n",
              "    </tr>\n",
              "    <tr>\n",
              "      <th>2021-01-07</th>\n",
              "      <td>128.360001</td>\n",
              "      <td>131.630005</td>\n",
              "      <td>127.860001</td>\n",
              "      <td>130.919998</td>\n",
              "      <td>128.020767</td>\n",
              "      <td>109578200</td>\n",
              "    </tr>\n",
              "  </tbody>\n",
              "</table>\n",
              "</div>"
            ],
            "text/plain": [
              "                  Open        High         Low       Close   Adj Close  \\\n",
              "Date                                                                     \n",
              "2020-12-31  134.080002  134.740005  131.720001  132.690002  129.751572   \n",
              "2021-01-04  133.520004  133.610001  126.760002  129.410004  126.544212   \n",
              "2021-01-05  128.889999  131.740005  128.429993  131.009995  128.108780   \n",
              "2021-01-06  127.720001  131.050003  126.379997  126.599998  123.796440   \n",
              "2021-01-07  128.360001  131.630005  127.860001  130.919998  128.020767   \n",
              "\n",
              "               Volume  \n",
              "Date                   \n",
              "2020-12-31   99116600  \n",
              "2021-01-04  143301900  \n",
              "2021-01-05   97664900  \n",
              "2021-01-06  155088000  \n",
              "2021-01-07  109578200  "
            ]
          },
          "execution_count": 81,
          "metadata": {},
          "output_type": "execute_result"
        }
      ],
      "source": [
        "# look at the starting rows of the data structure\n",
        "stocks_df.head() # returns first 5 rows if number is not specified "
      ]
    },
    {
      "cell_type": "code",
      "execution_count": 82,
      "metadata": {},
      "outputs": [
        {
          "data": {
            "text/html": [
              "<div>\n",
              "<style scoped>\n",
              "    .dataframe tbody tr th:only-of-type {\n",
              "        vertical-align: middle;\n",
              "    }\n",
              "\n",
              "    .dataframe tbody tr th {\n",
              "        vertical-align: top;\n",
              "    }\n",
              "\n",
              "    .dataframe thead th {\n",
              "        text-align: right;\n",
              "    }\n",
              "</style>\n",
              "<table border=\"1\" class=\"dataframe\">\n",
              "  <thead>\n",
              "    <tr style=\"text-align: right;\">\n",
              "      <th></th>\n",
              "      <th>Open</th>\n",
              "      <th>High</th>\n",
              "      <th>Low</th>\n",
              "      <th>Close</th>\n",
              "      <th>Adj Close</th>\n",
              "      <th>Volume</th>\n",
              "    </tr>\n",
              "    <tr>\n",
              "      <th>Date</th>\n",
              "      <th></th>\n",
              "      <th></th>\n",
              "      <th></th>\n",
              "      <th></th>\n",
              "      <th></th>\n",
              "      <th></th>\n",
              "    </tr>\n",
              "  </thead>\n",
              "  <tbody>\n",
              "    <tr>\n",
              "      <th>2021-12-30</th>\n",
              "      <td>179.470001</td>\n",
              "      <td>180.570007</td>\n",
              "      <td>178.089996</td>\n",
              "      <td>178.199997</td>\n",
              "      <td>175.328003</td>\n",
              "      <td>59773000</td>\n",
              "    </tr>\n",
              "    <tr>\n",
              "      <th>2021-12-31</th>\n",
              "      <td>178.089996</td>\n",
              "      <td>179.229996</td>\n",
              "      <td>177.259995</td>\n",
              "      <td>177.570007</td>\n",
              "      <td>174.708160</td>\n",
              "      <td>64062300</td>\n",
              "    </tr>\n",
              "  </tbody>\n",
              "</table>\n",
              "</div>"
            ],
            "text/plain": [
              "                  Open        High         Low       Close   Adj Close  \\\n",
              "Date                                                                     \n",
              "2021-12-30  179.470001  180.570007  178.089996  178.199997  175.328003   \n",
              "2021-12-31  178.089996  179.229996  177.259995  177.570007  174.708160   \n",
              "\n",
              "              Volume  \n",
              "Date                  \n",
              "2021-12-30  59773000  \n",
              "2021-12-31  64062300  "
            ]
          },
          "execution_count": 82,
          "metadata": {},
          "output_type": "execute_result"
        }
      ],
      "source": [
        "# check the last rows to ensure data covers entire year \n",
        "stocks_df.tail(2)"
      ]
    },
    {
      "cell_type": "code",
      "execution_count": 83,
      "metadata": {
        "execution": {
          "iopub.execute_input": "2023-08-15T09:48:46.900Z",
          "iopub.status.busy": "2023-08-15T09:48:46.871Z",
          "iopub.status.idle": "2023-08-15T09:48:46.985Z",
          "shell.execute_reply": "2023-08-15T09:48:50.165Z"
        }
      },
      "outputs": [
        {
          "data": {
            "text/plain": [
              "(253, 6)"
            ]
          },
          "execution_count": 83,
          "metadata": {},
          "output_type": "execute_result"
        }
      ],
      "source": [
        "# check how many rows and columns\n",
        "stocks_df.shape\n",
        "\n",
        "# if just want row value \n",
        "# stocks_df.shape[0]"
      ]
    },
    {
      "cell_type": "code",
      "execution_count": 84,
      "metadata": {},
      "outputs": [
        {
          "name": "stdout",
          "output_type": "stream",
          "text": [
            "<class 'pandas.core.frame.DataFrame'>\n",
            "DatetimeIndex: 253 entries, 2020-12-31 to 2021-12-31\n",
            "Data columns (total 6 columns):\n",
            " #   Column     Non-Null Count  Dtype  \n",
            "---  ------     --------------  -----  \n",
            " 0   Open       253 non-null    float64\n",
            " 1   High       253 non-null    float64\n",
            " 2   Low        253 non-null    float64\n",
            " 3   Close      253 non-null    float64\n",
            " 4   Adj Close  253 non-null    float64\n",
            " 5   Volume     253 non-null    int64  \n",
            "dtypes: float64(5), int64(1)\n",
            "memory usage: 13.8 KB\n"
          ]
        }
      ],
      "source": [
        "# check data counts, types, etc\n",
        "stocks_df.info()"
      ]
    },
    {
      "cell_type": "code",
      "execution_count": 85,
      "metadata": {
        "collapsed": true,
        "execution": {
          "iopub.execute_input": "2023-08-15T09:48:47.080Z",
          "iopub.status.busy": "2023-08-15T09:48:47.043Z",
          "iopub.status.idle": "2023-08-15T09:48:47.140Z",
          "shell.execute_reply": "2023-08-15T09:48:50.182Z"
        },
        "jupyter": {
          "outputs_hidden": false,
          "source_hidden": false
        },
        "nteract": {
          "transient": {
            "deleting": false
          }
        }
      },
      "outputs": [
        {
          "data": {
            "text/plain": [
              "Open         0\n",
              "High         0\n",
              "Low          0\n",
              "Close        0\n",
              "Adj Close    0\n",
              "Volume       0\n",
              "dtype: int64"
            ]
          },
          "execution_count": 85,
          "metadata": {},
          "output_type": "execute_result"
        }
      ],
      "source": [
        "# check to see if there are any missing values\n",
        "stocks_df.isna().sum()"
      ]
    },
    {
      "cell_type": "markdown",
      "metadata": {},
      "source": [
        "**Ex Q1. Examine data**\n",
        "\n",
        "- How many data rows are there for 2021?\n",
        "- Why is it less than 365?</font>"
      ]
    },
    {
      "cell_type": "markdown",
      "metadata": {},
      "source": [
        "Your answer here"
      ]
    },
    {
      "cell_type": "markdown",
      "metadata": {},
      "source": [
        "my answer \n",
        "\n",
        "252 (there is one day for 2020 in the rows stated above)\n",
        "due to weekends and holidays "
      ]
    },
    {
      "cell_type": "code",
      "execution_count": 86,
      "metadata": {},
      "outputs": [
        {
          "data": {
            "text/plain": [
              "252"
            ]
          },
          "execution_count": 86,
          "metadata": {},
          "output_type": "execute_result"
        }
      ],
      "source": [
        "stocks_df.loc['2021-01-01':'2021-12-31',:].shape[0]"
      ]
    },
    {
      "cell_type": "markdown",
      "metadata": {},
      "source": [
        "### Part 3 - accessing row and column data"
      ]
    },
    {
      "cell_type": "code",
      "execution_count": 87,
      "metadata": {
        "collapsed": true,
        "execution": {
          "iopub.execute_input": "2023-08-15T09:48:47.494Z",
          "iopub.status.busy": "2023-08-15T09:48:47.468Z",
          "iopub.status.idle": "2023-08-15T09:48:47.544Z",
          "shell.execute_reply": "2023-08-15T09:48:50.234Z"
        },
        "jupyter": {
          "outputs_hidden": false,
          "source_hidden": false
        },
        "nteract": {
          "transient": {
            "deleting": false
          }
        }
      },
      "outputs": [
        {
          "data": {
            "text/plain": [
              "DatetimeIndex(['2020-12-31', '2021-01-04', '2021-01-05', '2021-01-06',\n",
              "               '2021-01-07', '2021-01-08', '2021-01-11', '2021-01-12',\n",
              "               '2021-01-13', '2021-01-14',\n",
              "               ...\n",
              "               '2021-12-17', '2021-12-20', '2021-12-21', '2021-12-22',\n",
              "               '2021-12-23', '2021-12-27', '2021-12-28', '2021-12-29',\n",
              "               '2021-12-30', '2021-12-31'],\n",
              "              dtype='datetime64[ns]', name='Date', length=253, freq=None)"
            ]
          },
          "execution_count": 87,
          "metadata": {},
          "output_type": "execute_result"
        }
      ],
      "source": [
        "# what type is the index of the dataframe?\n",
        "stocks_df.index"
      ]
    },
    {
      "cell_type": "markdown",
      "metadata": {},
      "source": [
        "***Select rows using iloc***"
      ]
    },
    {
      "cell_type": "code",
      "execution_count": 88,
      "metadata": {
        "execution": {
          "iopub.execute_input": "2023-08-15T09:48:47.621Z",
          "iopub.status.busy": "2023-08-15T09:48:47.593Z",
          "iopub.status.idle": "2023-08-15T09:48:47.683Z",
          "shell.execute_reply": "2023-08-15T09:48:50.248Z"
        }
      },
      "outputs": [
        {
          "data": {
            "text/html": [
              "<div>\n",
              "<style scoped>\n",
              "    .dataframe tbody tr th:only-of-type {\n",
              "        vertical-align: middle;\n",
              "    }\n",
              "\n",
              "    .dataframe tbody tr th {\n",
              "        vertical-align: top;\n",
              "    }\n",
              "\n",
              "    .dataframe thead th {\n",
              "        text-align: right;\n",
              "    }\n",
              "</style>\n",
              "<table border=\"1\" class=\"dataframe\">\n",
              "  <thead>\n",
              "    <tr style=\"text-align: right;\">\n",
              "      <th></th>\n",
              "      <th>Open</th>\n",
              "      <th>High</th>\n",
              "      <th>Low</th>\n",
              "      <th>Close</th>\n",
              "      <th>Adj Close</th>\n",
              "      <th>Volume</th>\n",
              "    </tr>\n",
              "    <tr>\n",
              "      <th>Date</th>\n",
              "      <th></th>\n",
              "      <th></th>\n",
              "      <th></th>\n",
              "      <th></th>\n",
              "      <th></th>\n",
              "      <th></th>\n",
              "    </tr>\n",
              "  </thead>\n",
              "  <tbody>\n",
              "    <tr>\n",
              "      <th>2021-01-04</th>\n",
              "      <td>133.520004</td>\n",
              "      <td>133.610001</td>\n",
              "      <td>126.760002</td>\n",
              "      <td>129.410004</td>\n",
              "      <td>126.544212</td>\n",
              "      <td>143301900</td>\n",
              "    </tr>\n",
              "    <tr>\n",
              "      <th>2021-01-05</th>\n",
              "      <td>128.889999</td>\n",
              "      <td>131.740005</td>\n",
              "      <td>128.429993</td>\n",
              "      <td>131.009995</td>\n",
              "      <td>128.108780</td>\n",
              "      <td>97664900</td>\n",
              "    </tr>\n",
              "    <tr>\n",
              "      <th>2021-01-06</th>\n",
              "      <td>127.720001</td>\n",
              "      <td>131.050003</td>\n",
              "      <td>126.379997</td>\n",
              "      <td>126.599998</td>\n",
              "      <td>123.796440</td>\n",
              "      <td>155088000</td>\n",
              "    </tr>\n",
              "    <tr>\n",
              "      <th>2021-01-07</th>\n",
              "      <td>128.360001</td>\n",
              "      <td>131.630005</td>\n",
              "      <td>127.860001</td>\n",
              "      <td>130.919998</td>\n",
              "      <td>128.020767</td>\n",
              "      <td>109578200</td>\n",
              "    </tr>\n",
              "    <tr>\n",
              "      <th>2021-01-08</th>\n",
              "      <td>132.429993</td>\n",
              "      <td>132.630005</td>\n",
              "      <td>130.229996</td>\n",
              "      <td>132.050003</td>\n",
              "      <td>129.125763</td>\n",
              "      <td>105158200</td>\n",
              "    </tr>\n",
              "    <tr>\n",
              "      <th>2021-01-11</th>\n",
              "      <td>129.190002</td>\n",
              "      <td>130.169998</td>\n",
              "      <td>128.500000</td>\n",
              "      <td>128.979996</td>\n",
              "      <td>126.123734</td>\n",
              "      <td>100384500</td>\n",
              "    </tr>\n",
              "    <tr>\n",
              "      <th>2021-01-12</th>\n",
              "      <td>128.500000</td>\n",
              "      <td>129.690002</td>\n",
              "      <td>126.860001</td>\n",
              "      <td>128.800003</td>\n",
              "      <td>125.947716</td>\n",
              "      <td>91951100</td>\n",
              "    </tr>\n",
              "    <tr>\n",
              "      <th>2021-01-13</th>\n",
              "      <td>128.759995</td>\n",
              "      <td>131.449997</td>\n",
              "      <td>128.490005</td>\n",
              "      <td>130.889999</td>\n",
              "      <td>127.991455</td>\n",
              "      <td>88636800</td>\n",
              "    </tr>\n",
              "    <tr>\n",
              "      <th>2021-01-14</th>\n",
              "      <td>130.800003</td>\n",
              "      <td>131.000000</td>\n",
              "      <td>128.759995</td>\n",
              "      <td>128.910004</td>\n",
              "      <td>126.055313</td>\n",
              "      <td>90221800</td>\n",
              "    </tr>\n",
              "    <tr>\n",
              "      <th>2021-01-15</th>\n",
              "      <td>128.779999</td>\n",
              "      <td>130.220001</td>\n",
              "      <td>127.000000</td>\n",
              "      <td>127.139999</td>\n",
              "      <td>124.324486</td>\n",
              "      <td>111598500</td>\n",
              "    </tr>\n",
              "    <tr>\n",
              "      <th>2021-01-19</th>\n",
              "      <td>127.779999</td>\n",
              "      <td>128.710007</td>\n",
              "      <td>126.940002</td>\n",
              "      <td>127.830002</td>\n",
              "      <td>124.999207</td>\n",
              "      <td>90757300</td>\n",
              "    </tr>\n",
              "    <tr>\n",
              "      <th>2021-01-20</th>\n",
              "      <td>128.660004</td>\n",
              "      <td>132.490005</td>\n",
              "      <td>128.550003</td>\n",
              "      <td>132.029999</td>\n",
              "      <td>129.106201</td>\n",
              "      <td>104319500</td>\n",
              "    </tr>\n",
              "    <tr>\n",
              "      <th>2021-01-21</th>\n",
              "      <td>133.800003</td>\n",
              "      <td>139.669998</td>\n",
              "      <td>133.589996</td>\n",
              "      <td>136.869995</td>\n",
              "      <td>133.839020</td>\n",
              "      <td>120150900</td>\n",
              "    </tr>\n",
              "    <tr>\n",
              "      <th>2021-01-22</th>\n",
              "      <td>136.279999</td>\n",
              "      <td>139.850006</td>\n",
              "      <td>135.020004</td>\n",
              "      <td>139.070007</td>\n",
              "      <td>135.990295</td>\n",
              "      <td>114459400</td>\n",
              "    </tr>\n",
              "    <tr>\n",
              "      <th>2021-01-25</th>\n",
              "      <td>143.070007</td>\n",
              "      <td>145.089996</td>\n",
              "      <td>136.539993</td>\n",
              "      <td>142.919998</td>\n",
              "      <td>139.755005</td>\n",
              "      <td>157611700</td>\n",
              "    </tr>\n",
              "    <tr>\n",
              "      <th>2021-01-26</th>\n",
              "      <td>143.600006</td>\n",
              "      <td>144.300003</td>\n",
              "      <td>141.369995</td>\n",
              "      <td>143.160004</td>\n",
              "      <td>139.989716</td>\n",
              "      <td>98390600</td>\n",
              "    </tr>\n",
              "    <tr>\n",
              "      <th>2021-01-27</th>\n",
              "      <td>143.429993</td>\n",
              "      <td>144.300003</td>\n",
              "      <td>140.410004</td>\n",
              "      <td>142.059998</td>\n",
              "      <td>138.914093</td>\n",
              "      <td>140843800</td>\n",
              "    </tr>\n",
              "    <tr>\n",
              "      <th>2021-01-28</th>\n",
              "      <td>139.520004</td>\n",
              "      <td>141.990005</td>\n",
              "      <td>136.699997</td>\n",
              "      <td>137.089996</td>\n",
              "      <td>134.054169</td>\n",
              "      <td>142621100</td>\n",
              "    </tr>\n",
              "    <tr>\n",
              "      <th>2021-01-29</th>\n",
              "      <td>135.830002</td>\n",
              "      <td>136.740005</td>\n",
              "      <td>130.210007</td>\n",
              "      <td>131.960007</td>\n",
              "      <td>129.037811</td>\n",
              "      <td>177523800</td>\n",
              "    </tr>\n",
              "  </tbody>\n",
              "</table>\n",
              "</div>"
            ],
            "text/plain": [
              "                  Open        High         Low       Close   Adj Close  \\\n",
              "Date                                                                     \n",
              "2021-01-04  133.520004  133.610001  126.760002  129.410004  126.544212   \n",
              "2021-01-05  128.889999  131.740005  128.429993  131.009995  128.108780   \n",
              "2021-01-06  127.720001  131.050003  126.379997  126.599998  123.796440   \n",
              "2021-01-07  128.360001  131.630005  127.860001  130.919998  128.020767   \n",
              "2021-01-08  132.429993  132.630005  130.229996  132.050003  129.125763   \n",
              "2021-01-11  129.190002  130.169998  128.500000  128.979996  126.123734   \n",
              "2021-01-12  128.500000  129.690002  126.860001  128.800003  125.947716   \n",
              "2021-01-13  128.759995  131.449997  128.490005  130.889999  127.991455   \n",
              "2021-01-14  130.800003  131.000000  128.759995  128.910004  126.055313   \n",
              "2021-01-15  128.779999  130.220001  127.000000  127.139999  124.324486   \n",
              "2021-01-19  127.779999  128.710007  126.940002  127.830002  124.999207   \n",
              "2021-01-20  128.660004  132.490005  128.550003  132.029999  129.106201   \n",
              "2021-01-21  133.800003  139.669998  133.589996  136.869995  133.839020   \n",
              "2021-01-22  136.279999  139.850006  135.020004  139.070007  135.990295   \n",
              "2021-01-25  143.070007  145.089996  136.539993  142.919998  139.755005   \n",
              "2021-01-26  143.600006  144.300003  141.369995  143.160004  139.989716   \n",
              "2021-01-27  143.429993  144.300003  140.410004  142.059998  138.914093   \n",
              "2021-01-28  139.520004  141.990005  136.699997  137.089996  134.054169   \n",
              "2021-01-29  135.830002  136.740005  130.210007  131.960007  129.037811   \n",
              "\n",
              "               Volume  \n",
              "Date                   \n",
              "2021-01-04  143301900  \n",
              "2021-01-05   97664900  \n",
              "2021-01-06  155088000  \n",
              "2021-01-07  109578200  \n",
              "2021-01-08  105158200  \n",
              "2021-01-11  100384500  \n",
              "2021-01-12   91951100  \n",
              "2021-01-13   88636800  \n",
              "2021-01-14   90221800  \n",
              "2021-01-15  111598500  \n",
              "2021-01-19   90757300  \n",
              "2021-01-20  104319500  \n",
              "2021-01-21  120150900  \n",
              "2021-01-22  114459400  \n",
              "2021-01-25  157611700  \n",
              "2021-01-26   98390600  \n",
              "2021-01-27  140843800  \n",
              "2021-01-28  142621100  \n",
              "2021-01-29  177523800  "
            ]
          },
          "execution_count": 88,
          "metadata": {},
          "output_type": "execute_result"
        }
      ],
      "source": [
        "# use iloc to access rows by integer index number\n",
        "# filter for the first 20 days of the year (~1 month)\n",
        "# 1 since the first day is for the previous year, so start from index 1 \n",
        "\n",
        "stocks_df.iloc[1:20]"
      ]
    },
    {
      "cell_type": "code",
      "execution_count": 89,
      "metadata": {},
      "outputs": [
        {
          "data": {
            "text/html": [
              "<div>\n",
              "<style scoped>\n",
              "    .dataframe tbody tr th:only-of-type {\n",
              "        vertical-align: middle;\n",
              "    }\n",
              "\n",
              "    .dataframe tbody tr th {\n",
              "        vertical-align: top;\n",
              "    }\n",
              "\n",
              "    .dataframe thead th {\n",
              "        text-align: right;\n",
              "    }\n",
              "</style>\n",
              "<table border=\"1\" class=\"dataframe\">\n",
              "  <thead>\n",
              "    <tr style=\"text-align: right;\">\n",
              "      <th></th>\n",
              "      <th>Open</th>\n",
              "      <th>High</th>\n",
              "      <th>Low</th>\n",
              "      <th>Close</th>\n",
              "      <th>Adj Close</th>\n",
              "      <th>Volume</th>\n",
              "    </tr>\n",
              "    <tr>\n",
              "      <th>Date</th>\n",
              "      <th></th>\n",
              "      <th></th>\n",
              "      <th></th>\n",
              "      <th></th>\n",
              "      <th></th>\n",
              "      <th></th>\n",
              "    </tr>\n",
              "  </thead>\n",
              "  <tbody>\n",
              "    <tr>\n",
              "      <th>2020-12-31</th>\n",
              "      <td>134.080002</td>\n",
              "      <td>134.740005</td>\n",
              "      <td>131.720001</td>\n",
              "      <td>132.690002</td>\n",
              "      <td>129.751572</td>\n",
              "      <td>99116600</td>\n",
              "    </tr>\n",
              "    <tr>\n",
              "      <th>2021-01-04</th>\n",
              "      <td>133.520004</td>\n",
              "      <td>133.610001</td>\n",
              "      <td>126.760002</td>\n",
              "      <td>129.410004</td>\n",
              "      <td>126.544212</td>\n",
              "      <td>143301900</td>\n",
              "    </tr>\n",
              "  </tbody>\n",
              "</table>\n",
              "</div>"
            ],
            "text/plain": [
              "                  Open        High         Low       Close   Adj Close  \\\n",
              "Date                                                                     \n",
              "2020-12-31  134.080002  134.740005  131.720001  132.690002  129.751572   \n",
              "2021-01-04  133.520004  133.610001  126.760002  129.410004  126.544212   \n",
              "\n",
              "               Volume  \n",
              "Date                   \n",
              "2020-12-31   99116600  \n",
              "2021-01-04  143301900  "
            ]
          },
          "execution_count": 89,
          "metadata": {},
          "output_type": "execute_result"
        }
      ],
      "source": [
        "stocks_df.iloc[0:2] # [inclusive, exclusive]"
      ]
    },
    {
      "cell_type": "code",
      "execution_count": 90,
      "metadata": {},
      "outputs": [
        {
          "data": {
            "text/plain": [
              "126.76000213623047"
            ]
          },
          "execution_count": 90,
          "metadata": {},
          "output_type": "execute_result"
        }
      ],
      "source": [
        "stocks_df.iloc[1,2] # row 1, col 2"
      ]
    },
    {
      "cell_type": "code",
      "execution_count": 91,
      "metadata": {
        "collapsed": true,
        "execution": {
          "iopub.execute_input": "2023-08-15T09:48:47.753Z",
          "iopub.status.busy": "2023-08-15T09:48:47.728Z",
          "iopub.status.idle": "2023-08-15T09:48:47.816Z",
          "shell.execute_reply": "2023-08-15T09:48:50.265Z"
        },
        "jupyter": {
          "outputs_hidden": false,
          "source_hidden": false
        },
        "nteract": {
          "transient": {
            "deleting": false
          }
        }
      },
      "outputs": [
        {
          "data": {
            "text/html": [
              "<div>\n",
              "<style scoped>\n",
              "    .dataframe tbody tr th:only-of-type {\n",
              "        vertical-align: middle;\n",
              "    }\n",
              "\n",
              "    .dataframe tbody tr th {\n",
              "        vertical-align: top;\n",
              "    }\n",
              "\n",
              "    .dataframe thead th {\n",
              "        text-align: right;\n",
              "    }\n",
              "</style>\n",
              "<table border=\"1\" class=\"dataframe\">\n",
              "  <thead>\n",
              "    <tr style=\"text-align: right;\">\n",
              "      <th></th>\n",
              "      <th>Open</th>\n",
              "      <th>High</th>\n",
              "      <th>Low</th>\n",
              "      <th>Close</th>\n",
              "      <th>Adj Close</th>\n",
              "      <th>Volume</th>\n",
              "    </tr>\n",
              "    <tr>\n",
              "      <th>Date</th>\n",
              "      <th></th>\n",
              "      <th></th>\n",
              "      <th></th>\n",
              "      <th></th>\n",
              "      <th></th>\n",
              "      <th></th>\n",
              "    </tr>\n",
              "  </thead>\n",
              "  <tbody>\n",
              "    <tr>\n",
              "      <th>2021-01-04</th>\n",
              "      <td>133.520004</td>\n",
              "      <td>133.610001</td>\n",
              "      <td>126.760002</td>\n",
              "      <td>129.410004</td>\n",
              "      <td>126.544212</td>\n",
              "      <td>143301900</td>\n",
              "    </tr>\n",
              "    <tr>\n",
              "      <th>2021-01-05</th>\n",
              "      <td>128.889999</td>\n",
              "      <td>131.740005</td>\n",
              "      <td>128.429993</td>\n",
              "      <td>131.009995</td>\n",
              "      <td>128.108780</td>\n",
              "      <td>97664900</td>\n",
              "    </tr>\n",
              "    <tr>\n",
              "      <th>2021-01-06</th>\n",
              "      <td>127.720001</td>\n",
              "      <td>131.050003</td>\n",
              "      <td>126.379997</td>\n",
              "      <td>126.599998</td>\n",
              "      <td>123.796440</td>\n",
              "      <td>155088000</td>\n",
              "    </tr>\n",
              "    <tr>\n",
              "      <th>2021-01-07</th>\n",
              "      <td>128.360001</td>\n",
              "      <td>131.630005</td>\n",
              "      <td>127.860001</td>\n",
              "      <td>130.919998</td>\n",
              "      <td>128.020767</td>\n",
              "      <td>109578200</td>\n",
              "    </tr>\n",
              "    <tr>\n",
              "      <th>2021-01-08</th>\n",
              "      <td>132.429993</td>\n",
              "      <td>132.630005</td>\n",
              "      <td>130.229996</td>\n",
              "      <td>132.050003</td>\n",
              "      <td>129.125763</td>\n",
              "      <td>105158200</td>\n",
              "    </tr>\n",
              "    <tr>\n",
              "      <th>...</th>\n",
              "      <td>...</td>\n",
              "      <td>...</td>\n",
              "      <td>...</td>\n",
              "      <td>...</td>\n",
              "      <td>...</td>\n",
              "      <td>...</td>\n",
              "    </tr>\n",
              "    <tr>\n",
              "      <th>2021-03-25</th>\n",
              "      <td>119.540001</td>\n",
              "      <td>121.660004</td>\n",
              "      <td>119.000000</td>\n",
              "      <td>120.589996</td>\n",
              "      <td>118.095741</td>\n",
              "      <td>98844700</td>\n",
              "    </tr>\n",
              "    <tr>\n",
              "      <th>2021-03-26</th>\n",
              "      <td>120.349998</td>\n",
              "      <td>121.480003</td>\n",
              "      <td>118.919998</td>\n",
              "      <td>121.209999</td>\n",
              "      <td>118.702934</td>\n",
              "      <td>94071200</td>\n",
              "    </tr>\n",
              "    <tr>\n",
              "      <th>2021-03-29</th>\n",
              "      <td>121.650002</td>\n",
              "      <td>122.580002</td>\n",
              "      <td>120.730003</td>\n",
              "      <td>121.389999</td>\n",
              "      <td>118.879189</td>\n",
              "      <td>80819200</td>\n",
              "    </tr>\n",
              "    <tr>\n",
              "      <th>2021-03-30</th>\n",
              "      <td>120.110001</td>\n",
              "      <td>120.400002</td>\n",
              "      <td>118.860001</td>\n",
              "      <td>119.900002</td>\n",
              "      <td>117.420013</td>\n",
              "      <td>85671900</td>\n",
              "    </tr>\n",
              "    <tr>\n",
              "      <th>2021-03-31</th>\n",
              "      <td>121.650002</td>\n",
              "      <td>123.519997</td>\n",
              "      <td>121.150002</td>\n",
              "      <td>122.150002</td>\n",
              "      <td>119.623474</td>\n",
              "      <td>118323800</td>\n",
              "    </tr>\n",
              "  </tbody>\n",
              "</table>\n",
              "<p>61 rows × 6 columns</p>\n",
              "</div>"
            ],
            "text/plain": [
              "                  Open        High         Low       Close   Adj Close  \\\n",
              "Date                                                                     \n",
              "2021-01-04  133.520004  133.610001  126.760002  129.410004  126.544212   \n",
              "2021-01-05  128.889999  131.740005  128.429993  131.009995  128.108780   \n",
              "2021-01-06  127.720001  131.050003  126.379997  126.599998  123.796440   \n",
              "2021-01-07  128.360001  131.630005  127.860001  130.919998  128.020767   \n",
              "2021-01-08  132.429993  132.630005  130.229996  132.050003  129.125763   \n",
              "...                ...         ...         ...         ...         ...   \n",
              "2021-03-25  119.540001  121.660004  119.000000  120.589996  118.095741   \n",
              "2021-03-26  120.349998  121.480003  118.919998  121.209999  118.702934   \n",
              "2021-03-29  121.650002  122.580002  120.730003  121.389999  118.879189   \n",
              "2021-03-30  120.110001  120.400002  118.860001  119.900002  117.420013   \n",
              "2021-03-31  121.650002  123.519997  121.150002  122.150002  119.623474   \n",
              "\n",
              "               Volume  \n",
              "Date                   \n",
              "2021-01-04  143301900  \n",
              "2021-01-05   97664900  \n",
              "2021-01-06  155088000  \n",
              "2021-01-07  109578200  \n",
              "2021-01-08  105158200  \n",
              "...               ...  \n",
              "2021-03-25   98844700  \n",
              "2021-03-26   94071200  \n",
              "2021-03-29   80819200  \n",
              "2021-03-30   85671900  \n",
              "2021-03-31  118323800  \n",
              "\n",
              "[61 rows x 6 columns]"
            ]
          },
          "execution_count": 91,
          "metadata": {},
          "output_type": "execute_result"
        }
      ],
      "source": [
        "# use .loc to filter rows based on index labels\n",
        "# filter for the first quarter - Q1\n",
        "filter_data = stocks_df.loc['2021-01-01' : '2021-03-31']\n",
        "filter_data"
      ]
    },
    {
      "cell_type": "code",
      "execution_count": 92,
      "metadata": {
        "execution": {
          "iopub.execute_input": "2023-08-15T09:48:47.904Z",
          "iopub.status.busy": "2023-08-15T09:48:47.866Z",
          "iopub.status.idle": "2023-08-15T09:48:48.010Z",
          "shell.execute_reply": "2023-08-15T09:48:50.281Z"
        }
      },
      "outputs": [
        {
          "data": {
            "text/plain": [
              "Date\n",
              "2020-12-31    129.751572\n",
              "2021-01-04    126.544212\n",
              "2021-01-05    128.108780\n",
              "2021-01-06    123.796440\n",
              "2021-01-07    128.020767\n",
              "                 ...    \n",
              "2021-12-27    177.423676\n",
              "2021-12-28    176.400406\n",
              "2021-12-29    176.488983\n",
              "2021-12-30    175.328003\n",
              "2021-12-31    174.708160\n",
              "Name: Adj Close, Length: 253, dtype: float64"
            ]
          },
          "execution_count": 92,
          "metadata": {},
          "output_type": "execute_result"
        }
      ],
      "source": [
        "# access the 5th column by index\n",
        "col1 = stocks_df.iloc[ : , 4] # : returns all [row,col]\n",
        "col1"
      ]
    },
    {
      "cell_type": "markdown",
      "metadata": {},
      "source": [
        "***Select specific row and column values using iloc***"
      ]
    },
    {
      "cell_type": "code",
      "execution_count": 93,
      "metadata": {},
      "outputs": [
        {
          "data": {
            "text/html": [
              "<div>\n",
              "<style scoped>\n",
              "    .dataframe tbody tr th:only-of-type {\n",
              "        vertical-align: middle;\n",
              "    }\n",
              "\n",
              "    .dataframe tbody tr th {\n",
              "        vertical-align: top;\n",
              "    }\n",
              "\n",
              "    .dataframe thead th {\n",
              "        text-align: right;\n",
              "    }\n",
              "</style>\n",
              "<table border=\"1\" class=\"dataframe\">\n",
              "  <thead>\n",
              "    <tr style=\"text-align: right;\">\n",
              "      <th></th>\n",
              "      <th>Adj Close</th>\n",
              "      <th>Volume</th>\n",
              "    </tr>\n",
              "    <tr>\n",
              "      <th>Date</th>\n",
              "      <th></th>\n",
              "      <th></th>\n",
              "    </tr>\n",
              "  </thead>\n",
              "  <tbody>\n",
              "    <tr>\n",
              "      <th>2020-12-31</th>\n",
              "      <td>129.751572</td>\n",
              "      <td>99116600</td>\n",
              "    </tr>\n",
              "    <tr>\n",
              "      <th>2021-01-04</th>\n",
              "      <td>126.544212</td>\n",
              "      <td>143301900</td>\n",
              "    </tr>\n",
              "    <tr>\n",
              "      <th>2021-01-05</th>\n",
              "      <td>128.108780</td>\n",
              "      <td>97664900</td>\n",
              "    </tr>\n",
              "  </tbody>\n",
              "</table>\n",
              "</div>"
            ],
            "text/plain": [
              "             Adj Close     Volume\n",
              "Date                             \n",
              "2020-12-31  129.751572   99116600\n",
              "2021-01-04  126.544212  143301900\n",
              "2021-01-05  128.108780   97664900"
            ]
          },
          "execution_count": 93,
          "metadata": {},
          "output_type": "execute_result"
        }
      ],
      "source": [
        "# for the first three rows, select the 4th and 5th columns of the by index\n",
        "col2 = stocks_df.iloc[ 0:3 , [4,5]]\n",
        "col2"
      ]
    },
    {
      "cell_type": "code",
      "execution_count": 94,
      "metadata": {},
      "outputs": [
        {
          "data": {
            "text/html": [
              "<div>\n",
              "<style scoped>\n",
              "    .dataframe tbody tr th:only-of-type {\n",
              "        vertical-align: middle;\n",
              "    }\n",
              "\n",
              "    .dataframe tbody tr th {\n",
              "        vertical-align: top;\n",
              "    }\n",
              "\n",
              "    .dataframe thead th {\n",
              "        text-align: right;\n",
              "    }\n",
              "</style>\n",
              "<table border=\"1\" class=\"dataframe\">\n",
              "  <thead>\n",
              "    <tr style=\"text-align: right;\">\n",
              "      <th></th>\n",
              "      <th>Adj Close</th>\n",
              "    </tr>\n",
              "    <tr>\n",
              "      <th>Date</th>\n",
              "      <th></th>\n",
              "    </tr>\n",
              "  </thead>\n",
              "  <tbody>\n",
              "    <tr>\n",
              "      <th>2020-12-31</th>\n",
              "      <td>129.751572</td>\n",
              "    </tr>\n",
              "    <tr>\n",
              "      <th>2021-01-04</th>\n",
              "      <td>126.544212</td>\n",
              "    </tr>\n",
              "    <tr>\n",
              "      <th>2021-01-05</th>\n",
              "      <td>128.108780</td>\n",
              "    </tr>\n",
              "  </tbody>\n",
              "</table>\n",
              "</div>"
            ],
            "text/plain": [
              "             Adj Close\n",
              "Date                  \n",
              "2020-12-31  129.751572\n",
              "2021-01-04  126.544212\n",
              "2021-01-05  128.108780"
            ]
          },
          "execution_count": 94,
          "metadata": {},
          "output_type": "execute_result"
        }
      ],
      "source": [
        "col2 = stocks_df.iloc[ 0:3 , 4:5] # this gives a different output since a:b is slice which follows [inclusive, exclusive], while [a,b] explicitly selects cols with index a and b\n",
        "col2"
      ]
    },
    {
      "cell_type": "code",
      "execution_count": 95,
      "metadata": {},
      "outputs": [
        {
          "data": {
            "text/html": [
              "<div>\n",
              "<style scoped>\n",
              "    .dataframe tbody tr th:only-of-type {\n",
              "        vertical-align: middle;\n",
              "    }\n",
              "\n",
              "    .dataframe tbody tr th {\n",
              "        vertical-align: top;\n",
              "    }\n",
              "\n",
              "    .dataframe thead th {\n",
              "        text-align: right;\n",
              "    }\n",
              "</style>\n",
              "<table border=\"1\" class=\"dataframe\">\n",
              "  <thead>\n",
              "    <tr style=\"text-align: right;\">\n",
              "      <th></th>\n",
              "      <th>Close</th>\n",
              "      <th>Adj Close</th>\n",
              "      <th>Volume</th>\n",
              "    </tr>\n",
              "    <tr>\n",
              "      <th>Date</th>\n",
              "      <th></th>\n",
              "      <th></th>\n",
              "      <th></th>\n",
              "    </tr>\n",
              "  </thead>\n",
              "  <tbody>\n",
              "    <tr>\n",
              "      <th>2020-12-31</th>\n",
              "      <td>132.690002</td>\n",
              "      <td>129.751572</td>\n",
              "      <td>99116600</td>\n",
              "    </tr>\n",
              "    <tr>\n",
              "      <th>2021-01-04</th>\n",
              "      <td>129.410004</td>\n",
              "      <td>126.544212</td>\n",
              "      <td>143301900</td>\n",
              "    </tr>\n",
              "    <tr>\n",
              "      <th>2021-01-05</th>\n",
              "      <td>131.009995</td>\n",
              "      <td>128.108780</td>\n",
              "      <td>97664900</td>\n",
              "    </tr>\n",
              "  </tbody>\n",
              "</table>\n",
              "</div>"
            ],
            "text/plain": [
              "                 Close   Adj Close     Volume\n",
              "Date                                         \n",
              "2020-12-31  132.690002  129.751572   99116600\n",
              "2021-01-04  129.410004  126.544212  143301900\n",
              "2021-01-05  131.009995  128.108780   97664900"
            ]
          },
          "execution_count": 95,
          "metadata": {},
          "output_type": "execute_result"
        }
      ],
      "source": [
        "col2 = stocks_df.iloc[ 0:3 , [3,4,5]]\n",
        "col2"
      ]
    },
    {
      "cell_type": "markdown",
      "metadata": {},
      "source": [
        "***Select rows using loc***"
      ]
    },
    {
      "cell_type": "code",
      "execution_count": 96,
      "metadata": {},
      "outputs": [
        {
          "data": {
            "text/html": [
              "<div>\n",
              "<style scoped>\n",
              "    .dataframe tbody tr th:only-of-type {\n",
              "        vertical-align: middle;\n",
              "    }\n",
              "\n",
              "    .dataframe tbody tr th {\n",
              "        vertical-align: top;\n",
              "    }\n",
              "\n",
              "    .dataframe thead th {\n",
              "        text-align: right;\n",
              "    }\n",
              "</style>\n",
              "<table border=\"1\" class=\"dataframe\">\n",
              "  <thead>\n",
              "    <tr style=\"text-align: right;\">\n",
              "      <th></th>\n",
              "      <th>Open</th>\n",
              "      <th>High</th>\n",
              "      <th>Low</th>\n",
              "      <th>Close</th>\n",
              "      <th>Adj Close</th>\n",
              "      <th>Volume</th>\n",
              "    </tr>\n",
              "    <tr>\n",
              "      <th>Date</th>\n",
              "      <th></th>\n",
              "      <th></th>\n",
              "      <th></th>\n",
              "      <th></th>\n",
              "      <th></th>\n",
              "      <th></th>\n",
              "    </tr>\n",
              "  </thead>\n",
              "  <tbody>\n",
              "    <tr>\n",
              "      <th>2021-01-29</th>\n",
              "      <td>135.830002</td>\n",
              "      <td>136.740005</td>\n",
              "      <td>130.210007</td>\n",
              "      <td>131.960007</td>\n",
              "      <td>129.037811</td>\n",
              "      <td>177523800</td>\n",
              "    </tr>\n",
              "    <tr>\n",
              "      <th>2021-02-01</th>\n",
              "      <td>133.750000</td>\n",
              "      <td>135.380005</td>\n",
              "      <td>130.929993</td>\n",
              "      <td>134.139999</td>\n",
              "      <td>131.169464</td>\n",
              "      <td>106239800</td>\n",
              "    </tr>\n",
              "    <tr>\n",
              "      <th>2021-02-02</th>\n",
              "      <td>135.729996</td>\n",
              "      <td>136.309998</td>\n",
              "      <td>134.610001</td>\n",
              "      <td>134.990005</td>\n",
              "      <td>132.000671</td>\n",
              "      <td>83305400</td>\n",
              "    </tr>\n",
              "  </tbody>\n",
              "</table>\n",
              "</div>"
            ],
            "text/plain": [
              "                  Open        High         Low       Close   Adj Close  \\\n",
              "Date                                                                     \n",
              "2021-01-29  135.830002  136.740005  130.210007  131.960007  129.037811   \n",
              "2021-02-01  133.750000  135.380005  130.929993  134.139999  131.169464   \n",
              "2021-02-02  135.729996  136.309998  134.610001  134.990005  132.000671   \n",
              "\n",
              "               Volume  \n",
              "Date                   \n",
              "2021-01-29  177523800  \n",
              "2021-02-01  106239800  \n",
              "2021-02-02   83305400  "
            ]
          },
          "execution_count": 96,
          "metadata": {},
          "output_type": "execute_result"
        }
      ],
      "source": [
        "# access the rows by date range\n",
        "col3 = stocks_df.loc[ '2021-01-29' : '2021-02-02' , ]\n",
        "col3"
      ]
    },
    {
      "cell_type": "markdown",
      "metadata": {},
      "source": [
        "***Select columns using loc***"
      ]
    },
    {
      "cell_type": "code",
      "execution_count": 97,
      "metadata": {
        "collapsed": true,
        "execution": {
          "iopub.execute_input": "2023-08-15T09:48:48.150Z",
          "iopub.status.busy": "2023-08-15T09:48:48.118Z",
          "iopub.status.idle": "2023-08-15T09:48:48.219Z",
          "shell.execute_reply": "2023-08-15T09:48:50.294Z"
        },
        "jupyter": {
          "outputs_hidden": false,
          "source_hidden": false
        },
        "nteract": {
          "transient": {
            "deleting": false
          }
        }
      },
      "outputs": [
        {
          "data": {
            "text/plain": [
              "Date\n",
              "2020-12-31    129.751572\n",
              "2021-01-04    126.544212\n",
              "2021-01-05    128.108780\n",
              "2021-01-06    123.796440\n",
              "2021-01-07    128.020767\n",
              "                 ...    \n",
              "2021-12-27    177.423676\n",
              "2021-12-28    176.400406\n",
              "2021-12-29    176.488983\n",
              "2021-12-30    175.328003\n",
              "2021-12-31    174.708160\n",
              "Name: Adj Close, Length: 253, dtype: float64"
            ]
          },
          "execution_count": 97,
          "metadata": {},
          "output_type": "execute_result"
        }
      ],
      "source": [
        "# access the column by name\n",
        "col4 = stocks_df.loc[:,'Adj Close']\n",
        "col4\n",
        "\n",
        "# can also use brackets without loc or row specification\n",
        "# col4 = stocks_df['Adj Close']\n",
        "# col4"
      ]
    },
    {
      "cell_type": "code",
      "execution_count": 98,
      "metadata": {},
      "outputs": [
        {
          "data": {
            "text/html": [
              "<div>\n",
              "<style scoped>\n",
              "    .dataframe tbody tr th:only-of-type {\n",
              "        vertical-align: middle;\n",
              "    }\n",
              "\n",
              "    .dataframe tbody tr th {\n",
              "        vertical-align: top;\n",
              "    }\n",
              "\n",
              "    .dataframe thead th {\n",
              "        text-align: right;\n",
              "    }\n",
              "</style>\n",
              "<table border=\"1\" class=\"dataframe\">\n",
              "  <thead>\n",
              "    <tr style=\"text-align: right;\">\n",
              "      <th></th>\n",
              "      <th>Adj Close</th>\n",
              "      <th>Volume</th>\n",
              "    </tr>\n",
              "    <tr>\n",
              "      <th>Date</th>\n",
              "      <th></th>\n",
              "      <th></th>\n",
              "    </tr>\n",
              "  </thead>\n",
              "  <tbody>\n",
              "    <tr>\n",
              "      <th>2020-12-31</th>\n",
              "      <td>129.751572</td>\n",
              "      <td>99116600</td>\n",
              "    </tr>\n",
              "    <tr>\n",
              "      <th>2021-01-04</th>\n",
              "      <td>126.544212</td>\n",
              "      <td>143301900</td>\n",
              "    </tr>\n",
              "    <tr>\n",
              "      <th>2021-01-05</th>\n",
              "      <td>128.108780</td>\n",
              "      <td>97664900</td>\n",
              "    </tr>\n",
              "    <tr>\n",
              "      <th>2021-01-06</th>\n",
              "      <td>123.796440</td>\n",
              "      <td>155088000</td>\n",
              "    </tr>\n",
              "    <tr>\n",
              "      <th>2021-01-07</th>\n",
              "      <td>128.020767</td>\n",
              "      <td>109578200</td>\n",
              "    </tr>\n",
              "    <tr>\n",
              "      <th>...</th>\n",
              "      <td>...</td>\n",
              "      <td>...</td>\n",
              "    </tr>\n",
              "    <tr>\n",
              "      <th>2021-12-27</th>\n",
              "      <td>177.423676</td>\n",
              "      <td>74919600</td>\n",
              "    </tr>\n",
              "    <tr>\n",
              "      <th>2021-12-28</th>\n",
              "      <td>176.400406</td>\n",
              "      <td>79144300</td>\n",
              "    </tr>\n",
              "    <tr>\n",
              "      <th>2021-12-29</th>\n",
              "      <td>176.488983</td>\n",
              "      <td>62348900</td>\n",
              "    </tr>\n",
              "    <tr>\n",
              "      <th>2021-12-30</th>\n",
              "      <td>175.328003</td>\n",
              "      <td>59773000</td>\n",
              "    </tr>\n",
              "    <tr>\n",
              "      <th>2021-12-31</th>\n",
              "      <td>174.708160</td>\n",
              "      <td>64062300</td>\n",
              "    </tr>\n",
              "  </tbody>\n",
              "</table>\n",
              "<p>253 rows × 2 columns</p>\n",
              "</div>"
            ],
            "text/plain": [
              "             Adj Close     Volume\n",
              "Date                             \n",
              "2020-12-31  129.751572   99116600\n",
              "2021-01-04  126.544212  143301900\n",
              "2021-01-05  128.108780   97664900\n",
              "2021-01-06  123.796440  155088000\n",
              "2021-01-07  128.020767  109578200\n",
              "...                ...        ...\n",
              "2021-12-27  177.423676   74919600\n",
              "2021-12-28  176.400406   79144300\n",
              "2021-12-29  176.488983   62348900\n",
              "2021-12-30  175.328003   59773000\n",
              "2021-12-31  174.708160   64062300\n",
              "\n",
              "[253 rows x 2 columns]"
            ]
          },
          "execution_count": 98,
          "metadata": {},
          "output_type": "execute_result"
        }
      ],
      "source": [
        "# access multiple columns by name\n",
        "col5 = stocks_df.loc[:,['Adj Close','Volume']]\n",
        "col5"
      ]
    },
    {
      "cell_type": "markdown",
      "metadata": {},
      "source": [
        "***Select columns using [[]]***\n",
        "\n",
        "Double brackets can be used to select one or multiple columns by name"
      ]
    },
    {
      "cell_type": "code",
      "execution_count": 99,
      "metadata": {},
      "outputs": [
        {
          "data": {
            "text/html": [
              "<div>\n",
              "<style scoped>\n",
              "    .dataframe tbody tr th:only-of-type {\n",
              "        vertical-align: middle;\n",
              "    }\n",
              "\n",
              "    .dataframe tbody tr th {\n",
              "        vertical-align: top;\n",
              "    }\n",
              "\n",
              "    .dataframe thead th {\n",
              "        text-align: right;\n",
              "    }\n",
              "</style>\n",
              "<table border=\"1\" class=\"dataframe\">\n",
              "  <thead>\n",
              "    <tr style=\"text-align: right;\">\n",
              "      <th></th>\n",
              "      <th>Adj Close</th>\n",
              "    </tr>\n",
              "    <tr>\n",
              "      <th>Date</th>\n",
              "      <th></th>\n",
              "    </tr>\n",
              "  </thead>\n",
              "  <tbody>\n",
              "    <tr>\n",
              "      <th>2020-12-31</th>\n",
              "      <td>129.751572</td>\n",
              "    </tr>\n",
              "    <tr>\n",
              "      <th>2021-01-04</th>\n",
              "      <td>126.544212</td>\n",
              "    </tr>\n",
              "    <tr>\n",
              "      <th>2021-01-05</th>\n",
              "      <td>128.108780</td>\n",
              "    </tr>\n",
              "    <tr>\n",
              "      <th>2021-01-06</th>\n",
              "      <td>123.796440</td>\n",
              "    </tr>\n",
              "    <tr>\n",
              "      <th>2021-01-07</th>\n",
              "      <td>128.020767</td>\n",
              "    </tr>\n",
              "    <tr>\n",
              "      <th>...</th>\n",
              "      <td>...</td>\n",
              "    </tr>\n",
              "    <tr>\n",
              "      <th>2021-12-27</th>\n",
              "      <td>177.423676</td>\n",
              "    </tr>\n",
              "    <tr>\n",
              "      <th>2021-12-28</th>\n",
              "      <td>176.400406</td>\n",
              "    </tr>\n",
              "    <tr>\n",
              "      <th>2021-12-29</th>\n",
              "      <td>176.488983</td>\n",
              "    </tr>\n",
              "    <tr>\n",
              "      <th>2021-12-30</th>\n",
              "      <td>175.328003</td>\n",
              "    </tr>\n",
              "    <tr>\n",
              "      <th>2021-12-31</th>\n",
              "      <td>174.708160</td>\n",
              "    </tr>\n",
              "  </tbody>\n",
              "</table>\n",
              "<p>253 rows × 1 columns</p>\n",
              "</div>"
            ],
            "text/plain": [
              "             Adj Close\n",
              "Date                  \n",
              "2020-12-31  129.751572\n",
              "2021-01-04  126.544212\n",
              "2021-01-05  128.108780\n",
              "2021-01-06  123.796440\n",
              "2021-01-07  128.020767\n",
              "...                ...\n",
              "2021-12-27  177.423676\n",
              "2021-12-28  176.400406\n",
              "2021-12-29  176.488983\n",
              "2021-12-30  175.328003\n",
              "2021-12-31  174.708160\n",
              "\n",
              "[253 rows x 1 columns]"
            ]
          },
          "execution_count": 99,
          "metadata": {},
          "output_type": "execute_result"
        }
      ],
      "source": [
        "# access the column by name with [[]]\n",
        "col6 = stocks_df[['Adj Close']] # this always returns a dataframe\n",
        "col6"
      ]
    },
    {
      "cell_type": "markdown",
      "metadata": {
        "nteract": {
          "transient": {
            "deleting": false
          }
        }
      },
      "source": [
        "**Ex Q2. Compare return types of extracted columns**\n",
        "\n",
        "- For the resulting values of col1 through col6 above, which can you use the code print(colX['Adj Close'])? Which cannot? Why?<BR>E.g. replace in for col1: try \"print(col1['Adj Close'])\" <BR><BR>\n",
        "*Hint: Check the type() of the dataframes*"
      ]
    },
    {
      "cell_type": "code",
      "execution_count": 100,
      "metadata": {},
      "outputs": [
        {
          "name": "stdout",
          "output_type": "stream",
          "text": [
            "Date\n",
            "2020-12-31    129.751572\n",
            "2021-01-04    126.544212\n",
            "2021-01-05    128.108780\n",
            "2021-01-06    123.796440\n",
            "2021-01-07    128.020767\n",
            "                 ...    \n",
            "2021-12-27    177.423676\n",
            "2021-12-28    176.400406\n",
            "2021-12-29    176.488983\n",
            "2021-12-30    175.328003\n",
            "2021-12-31    174.708160\n",
            "Name: Adj Close, Length: 253, dtype: float64\n",
            "<class 'pandas.core.series.Series'>\n",
            "<class 'pandas.core.frame.DataFrame'>\n",
            "<class 'pandas.core.frame.DataFrame'>\n",
            "<class 'pandas.core.series.Series'>\n",
            "<class 'pandas.core.frame.DataFrame'>\n",
            "<class 'pandas.core.frame.DataFrame'>\n"
          ]
        }
      ],
      "source": [
        "# your code here\n",
        "# print(col1['Adj Close']) #cannot\n",
        "# print(col2['Adj Close']) #can\n",
        "# print(col3['Adj Close']) #can\n",
        "# print(col4['Adj Close']) #cannot\n",
        "# print(col5['Adj Close']) #can\n",
        "print(col6['Adj Close']) #can\n",
        "print(type(col1))\n",
        "print(type(col2))\n",
        "print(type(col3))\n",
        "print(type(col4))\n",
        "print(type(col5))\n",
        "print(type(col6))\n"
      ]
    },
    {
      "cell_type": "markdown",
      "metadata": {},
      "source": [
        "Your answer here"
      ]
    },
    {
      "cell_type": "markdown",
      "metadata": {},
      "source": [
        "it does not work on type Series \n",
        "Series does not have headers - no name for us to reference \n",
        "\n",
        "if returning one column - it will return a series\n",
        "if returns more than 1 col - will return a dataframe \n",
        "\n",
        "to avoid this, use double brackets "
      ]
    },
    {
      "cell_type": "code",
      "execution_count": 101,
      "metadata": {},
      "outputs": [
        {
          "name": "stdout",
          "output_type": "stream",
          "text": [
            "Date\n",
            "2020-12-31    129.751572\n",
            "2021-01-04    126.544212\n",
            "2021-01-05    128.108780\n",
            "2021-01-06    123.796440\n",
            "2021-01-07    128.020767\n",
            "                 ...    \n",
            "2021-12-27    177.423676\n",
            "2021-12-28    176.400406\n",
            "2021-12-29    176.488983\n",
            "2021-12-30    175.328003\n",
            "2021-12-31    174.708160\n",
            "Name: Adj Close, Length: 253, dtype: float64\n"
          ]
        }
      ],
      "source": [
        "col4 = stocks_df.loc[:,['Adj Close']] #df[[columns]] always returns a dataframe\n",
        "# col4\n",
        "print(col4['Adj Close']) #this works now \n"
      ]
    },
    {
      "cell_type": "markdown",
      "metadata": {},
      "source": [
        "### Part 4 - manipulating and analysing column data\n",
        "\n",
        "NOTE: Use copy() to make sure a new dataframe aapl_prices() is created in memory. <BR>\n",
        "copy() may not always be required, but helps avoid getting a SettingWithCopyWarning when adding/editing values in the DF."
      ]
    },
    {
      "cell_type": "code",
      "execution_count": 102,
      "metadata": {
        "execution": {
          "iopub.execute_input": "2023-08-15T09:48:48.401Z",
          "iopub.status.busy": "2023-08-15T09:48:48.375Z",
          "iopub.status.idle": "2023-08-15T09:48:48.437Z",
          "shell.execute_reply": "2023-08-15T09:48:50.320Z"
        }
      },
      "outputs": [
        {
          "data": {
            "text/html": [
              "<div>\n",
              "<style scoped>\n",
              "    .dataframe tbody tr th:only-of-type {\n",
              "        vertical-align: middle;\n",
              "    }\n",
              "\n",
              "    .dataframe tbody tr th {\n",
              "        vertical-align: top;\n",
              "    }\n",
              "\n",
              "    .dataframe thead th {\n",
              "        text-align: right;\n",
              "    }\n",
              "</style>\n",
              "<table border=\"1\" class=\"dataframe\">\n",
              "  <thead>\n",
              "    <tr style=\"text-align: right;\">\n",
              "      <th></th>\n",
              "      <th>Adj Close</th>\n",
              "    </tr>\n",
              "    <tr>\n",
              "      <th>Date</th>\n",
              "      <th></th>\n",
              "    </tr>\n",
              "  </thead>\n",
              "  <tbody>\n",
              "    <tr>\n",
              "      <th>2020-12-31</th>\n",
              "      <td>129.751572</td>\n",
              "    </tr>\n",
              "    <tr>\n",
              "      <th>2021-01-04</th>\n",
              "      <td>126.544212</td>\n",
              "    </tr>\n",
              "    <tr>\n",
              "      <th>2021-01-05</th>\n",
              "      <td>128.108780</td>\n",
              "    </tr>\n",
              "    <tr>\n",
              "      <th>2021-01-06</th>\n",
              "      <td>123.796440</td>\n",
              "    </tr>\n",
              "    <tr>\n",
              "      <th>2021-01-07</th>\n",
              "      <td>128.020767</td>\n",
              "    </tr>\n",
              "  </tbody>\n",
              "</table>\n",
              "</div>"
            ],
            "text/plain": [
              "             Adj Close\n",
              "Date                  \n",
              "2020-12-31  129.751572\n",
              "2021-01-04  126.544212\n",
              "2021-01-05  128.108780\n",
              "2021-01-06  123.796440\n",
              "2021-01-07  128.020767"
            ]
          },
          "execution_count": 102,
          "metadata": {},
          "output_type": "execute_result"
        }
      ],
      "source": [
        "# create a copy of one column from the dataframe\n",
        "aapl_prices_copy = stocks_df[['Adj Close']].copy() \n",
        "aapl_prices_copy.head()"
      ]
    },
    {
      "cell_type": "markdown",
      "metadata": {},
      "source": [
        "***Rename the column to match the stock ticker***"
      ]
    },
    {
      "cell_type": "code",
      "execution_count": 103,
      "metadata": {
        "execution": {
          "iopub.execute_input": "2023-08-15T09:48:48.613Z",
          "iopub.status.busy": "2023-08-15T09:48:48.585Z",
          "iopub.status.idle": "2023-08-15T09:48:48.664Z",
          "shell.execute_reply": "2023-08-15T09:48:50.345Z"
        }
      },
      "outputs": [
        {
          "data": {
            "text/html": [
              "<div>\n",
              "<style scoped>\n",
              "    .dataframe tbody tr th:only-of-type {\n",
              "        vertical-align: middle;\n",
              "    }\n",
              "\n",
              "    .dataframe tbody tr th {\n",
              "        vertical-align: top;\n",
              "    }\n",
              "\n",
              "    .dataframe thead th {\n",
              "        text-align: right;\n",
              "    }\n",
              "</style>\n",
              "<table border=\"1\" class=\"dataframe\">\n",
              "  <thead>\n",
              "    <tr style=\"text-align: right;\">\n",
              "      <th></th>\n",
              "      <th>AAPL</th>\n",
              "    </tr>\n",
              "    <tr>\n",
              "      <th>Date</th>\n",
              "      <th></th>\n",
              "    </tr>\n",
              "  </thead>\n",
              "  <tbody>\n",
              "    <tr>\n",
              "      <th>2020-12-31</th>\n",
              "      <td>129.751572</td>\n",
              "    </tr>\n",
              "    <tr>\n",
              "      <th>2021-01-04</th>\n",
              "      <td>126.544212</td>\n",
              "    </tr>\n",
              "    <tr>\n",
              "      <th>2021-01-05</th>\n",
              "      <td>128.108780</td>\n",
              "    </tr>\n",
              "    <tr>\n",
              "      <th>2021-01-06</th>\n",
              "      <td>123.796440</td>\n",
              "    </tr>\n",
              "    <tr>\n",
              "      <th>2021-01-07</th>\n",
              "      <td>128.020767</td>\n",
              "    </tr>\n",
              "  </tbody>\n",
              "</table>\n",
              "</div>"
            ],
            "text/plain": [
              "                  AAPL\n",
              "Date                  \n",
              "2020-12-31  129.751572\n",
              "2021-01-04  126.544212\n",
              "2021-01-05  128.108780\n",
              "2021-01-06  123.796440\n",
              "2021-01-07  128.020767"
            ]
          },
          "execution_count": 103,
          "metadata": {},
          "output_type": "execute_result"
        }
      ],
      "source": [
        "# rename the column\n",
        "aapl_prices_copy.rename(columns= {'Adj Close' : 'AAPL'} , inplace= 'True')\n",
        "aapl_prices_copy.head()"
      ]
    },
    {
      "cell_type": "markdown",
      "metadata": {},
      "source": [
        "***Create a column with derivative values***"
      ]
    },
    {
      "cell_type": "code",
      "execution_count": 104,
      "metadata": {
        "collapsed": true,
        "execution": {
          "iopub.execute_input": "2023-08-15T09:48:48.725Z",
          "iopub.status.busy": "2023-08-15T09:48:48.701Z",
          "iopub.status.idle": "2023-08-15T09:48:48.776Z",
          "shell.execute_reply": "2023-08-15T09:48:50.356Z"
        },
        "jupyter": {
          "outputs_hidden": false,
          "source_hidden": false
        },
        "nteract": {
          "transient": {
            "deleting": false
          }
        }
      },
      "outputs": [
        {
          "data": {
            "text/html": [
              "<div>\n",
              "<style scoped>\n",
              "    .dataframe tbody tr th:only-of-type {\n",
              "        vertical-align: middle;\n",
              "    }\n",
              "\n",
              "    .dataframe tbody tr th {\n",
              "        vertical-align: top;\n",
              "    }\n",
              "\n",
              "    .dataframe thead th {\n",
              "        text-align: right;\n",
              "    }\n",
              "</style>\n",
              "<table border=\"1\" class=\"dataframe\">\n",
              "  <thead>\n",
              "    <tr style=\"text-align: right;\">\n",
              "      <th></th>\n",
              "      <th>AAPL</th>\n",
              "      <th>half_price</th>\n",
              "    </tr>\n",
              "    <tr>\n",
              "      <th>Date</th>\n",
              "      <th></th>\n",
              "      <th></th>\n",
              "    </tr>\n",
              "  </thead>\n",
              "  <tbody>\n",
              "    <tr>\n",
              "      <th>2020-12-31</th>\n",
              "      <td>129.751572</td>\n",
              "      <td>64.875786</td>\n",
              "    </tr>\n",
              "    <tr>\n",
              "      <th>2021-01-04</th>\n",
              "      <td>126.544212</td>\n",
              "      <td>63.272106</td>\n",
              "    </tr>\n",
              "    <tr>\n",
              "      <th>2021-01-05</th>\n",
              "      <td>128.108780</td>\n",
              "      <td>64.054390</td>\n",
              "    </tr>\n",
              "    <tr>\n",
              "      <th>2021-01-06</th>\n",
              "      <td>123.796440</td>\n",
              "      <td>61.898220</td>\n",
              "    </tr>\n",
              "    <tr>\n",
              "      <th>2021-01-07</th>\n",
              "      <td>128.020767</td>\n",
              "      <td>64.010384</td>\n",
              "    </tr>\n",
              "  </tbody>\n",
              "</table>\n",
              "</div>"
            ],
            "text/plain": [
              "                  AAPL  half_price\n",
              "Date                              \n",
              "2020-12-31  129.751572   64.875786\n",
              "2021-01-04  126.544212   63.272106\n",
              "2021-01-05  128.108780   64.054390\n",
              "2021-01-06  123.796440   61.898220\n",
              "2021-01-07  128.020767   64.010384"
            ]
          },
          "execution_count": 104,
          "metadata": {},
          "output_type": "execute_result"
        }
      ],
      "source": [
        "# add a calculated price column to the df\n",
        "aapl_prices_copy['half_price'] = aapl_prices_copy['AAPL']/2\n",
        "aapl_prices_copy.head()\n"
      ]
    },
    {
      "cell_type": "markdown",
      "metadata": {
        "nteract": {
          "transient": {
            "deleting": false
          }
        }
      },
      "source": [
        "**Ex Q3. Change the name and formula  the calculated column**\n",
        "\n",
        "- Rename the 'half_price' column to be 'quarter_price' and recalculate the column values to be 1/4 the APPL column values<BR>\n",
        "*Hint: you can directly assign the new values to replace existing column values*\n",
        "\n",
        "- Copy the column headings and the first two rows of your resulting dataframe to padlet"
      ]
    },
    {
      "cell_type": "code",
      "execution_count": 105,
      "metadata": {},
      "outputs": [
        {
          "data": {
            "text/html": [
              "<div>\n",
              "<style scoped>\n",
              "    .dataframe tbody tr th:only-of-type {\n",
              "        vertical-align: middle;\n",
              "    }\n",
              "\n",
              "    .dataframe tbody tr th {\n",
              "        vertical-align: top;\n",
              "    }\n",
              "\n",
              "    .dataframe thead th {\n",
              "        text-align: right;\n",
              "    }\n",
              "</style>\n",
              "<table border=\"1\" class=\"dataframe\">\n",
              "  <thead>\n",
              "    <tr style=\"text-align: right;\">\n",
              "      <th></th>\n",
              "      <th>AAPL</th>\n",
              "      <th>half_price</th>\n",
              "      <th>quarter_price</th>\n",
              "    </tr>\n",
              "    <tr>\n",
              "      <th>Date</th>\n",
              "      <th></th>\n",
              "      <th></th>\n",
              "      <th></th>\n",
              "    </tr>\n",
              "  </thead>\n",
              "  <tbody>\n",
              "    <tr>\n",
              "      <th>2020-12-31</th>\n",
              "      <td>129.751572</td>\n",
              "      <td>64.875786</td>\n",
              "      <td>32.437893</td>\n",
              "    </tr>\n",
              "    <tr>\n",
              "      <th>2021-01-04</th>\n",
              "      <td>126.544212</td>\n",
              "      <td>63.272106</td>\n",
              "      <td>31.636053</td>\n",
              "    </tr>\n",
              "    <tr>\n",
              "      <th>2021-01-05</th>\n",
              "      <td>128.108780</td>\n",
              "      <td>64.054390</td>\n",
              "      <td>32.027195</td>\n",
              "    </tr>\n",
              "    <tr>\n",
              "      <th>2021-01-06</th>\n",
              "      <td>123.796440</td>\n",
              "      <td>61.898220</td>\n",
              "      <td>30.949110</td>\n",
              "    </tr>\n",
              "    <tr>\n",
              "      <th>2021-01-07</th>\n",
              "      <td>128.020767</td>\n",
              "      <td>64.010384</td>\n",
              "      <td>32.005192</td>\n",
              "    </tr>\n",
              "  </tbody>\n",
              "</table>\n",
              "</div>"
            ],
            "text/plain": [
              "                  AAPL  half_price  quarter_price\n",
              "Date                                             \n",
              "2020-12-31  129.751572   64.875786      32.437893\n",
              "2021-01-04  126.544212   63.272106      31.636053\n",
              "2021-01-05  128.108780   64.054390      32.027195\n",
              "2021-01-06  123.796440   61.898220      30.949110\n",
              "2021-01-07  128.020767   64.010384      32.005192"
            ]
          },
          "execution_count": 105,
          "metadata": {},
          "output_type": "execute_result"
        }
      ],
      "source": [
        "# your code here\n",
        "aapl_prices_copy['quarter_price'] = aapl_prices_copy['AAPL']/4\n",
        "aapl_prices_copy.head()"
      ]
    },
    {
      "cell_type": "code",
      "execution_count": 106,
      "metadata": {},
      "outputs": [],
      "source": [
        "# aapl_prices_copy.rename(columns={'half_price':'quarter_price'}, inplace=True)\n",
        "# aapl_prices_copy['quarter_price'] = aapl_prices_copy['AAPL']/4\n",
        "# aapl_prices_copy.head()"
      ]
    },
    {
      "cell_type": "markdown",
      "metadata": {},
      "source": [
        "***Plot the price time series***\n",
        "\n",
        "reference: https://pandas.pydata.org/docs/reference/api/pandas.DataFrame.plot.html\n"
      ]
    },
    {
      "cell_type": "code",
      "execution_count": 107,
      "metadata": {},
      "outputs": [
        {
          "data": {
            "text/plain": [
              "<Axes: title={'center': 'Stock Prices'}, xlabel='Date'>"
            ]
          },
          "execution_count": 107,
          "metadata": {},
          "output_type": "execute_result"
        },
        {
          "data": {
            "image/png": "[encoded data removed]",
            "text/plain": [
              "<Figure size 1600x900 with 1 Axes>"
            ]
          },
          "metadata": {},
          "output_type": "display_data"
        }
      ],
      "source": [
        "# plot the time series\n",
        "aapl_prices_copy.plot(figsize=(16,9), title = 'Stock Prices')"
      ]
    },
    {
      "cell_type": "markdown",
      "metadata": {},
      "source": [
        "# DYI"
      ]
    },
    {
      "cell_type": "markdown",
      "metadata": {},
      "source": [
        "**DYI Q1:**\n",
        "\n",
        "From aapl_prices find the average 'Adj Close' prices rounded to two decimal places for AAPL in the last quarter of 2021.\n",
        "\n",
        "*Hint: be sure to start with the price from the close of the previous quarter*"
      ]
    },
    {
      "cell_type": "code",
      "execution_count": 108,
      "metadata": {},
      "outputs": [
        {
          "data": {
            "text/plain": [
              "Adj Close    155.16\n",
              "dtype: float64"
            ]
          },
          "execution_count": 108,
          "metadata": {},
          "output_type": "execute_result"
        }
      ],
      "source": [
        "# your code here\n",
        "aapl_prices_copy_last_quarter = stocks_df.loc['09-30-2021':'01-01-2022', ['Adj Close']].copy()\n",
        "aapl_prices_copy_last_quarter.mean().round(2)\n"
      ]
    },
    {
      "cell_type": "markdown",
      "metadata": {},
      "source": [
        "Your answer"
      ]
    },
    {
      "cell_type": "markdown",
      "metadata": {},
      "source": [
        "**DYI Q2:** \n",
        "\n",
        "Retreive the same date range of 2021 data as before for both 'AAPL' and 'SPY' and compare their Adj Close prices on the same chart.\n",
        "\n",
        "Note : SPY is a fund(ETF) that tracks the Standard & Poor’s 500 Index which is comprised of 500 large-cap U.S. stocks."
      ]
    },
    {
      "cell_type": "code",
      "execution_count": 109,
      "metadata": {},
      "outputs": [
        {
          "name": "stdout",
          "output_type": "stream",
          "text": [
            "[*********************100%%**********************]  2 of 2 completed\n"
          ]
        }
      ],
      "source": [
        "# your code here\n",
        "\n",
        "tickers = ['AAPL', 'SPY']\n",
        "# specify the time period - 1 year\n",
        "start_date = '2021-01-01'\n",
        "end_date = '2022-01-01'\n",
        "\n",
        "# download the stock price data\n",
        "stocks_df = yf.download(tickers, start=start_date, end=end_date)"
      ]
    },
    {
      "cell_type": "code",
      "execution_count": 110,
      "metadata": {},
      "outputs": [
        {
          "data": {
            "text/html": [
              "<div>\n",
              "<style scoped>\n",
              "    .dataframe tbody tr th:only-of-type {\n",
              "        vertical-align: middle;\n",
              "    }\n",
              "\n",
              "    .dataframe tbody tr th {\n",
              "        vertical-align: top;\n",
              "    }\n",
              "\n",
              "    .dataframe thead tr th {\n",
              "        text-align: left;\n",
              "    }\n",
              "\n",
              "    .dataframe thead tr:last-of-type th {\n",
              "        text-align: right;\n",
              "    }\n",
              "</style>\n",
              "<table border=\"1\" class=\"dataframe\">\n",
              "  <thead>\n",
              "    <tr>\n",
              "      <th></th>\n",
              "      <th colspan=\"2\" halign=\"left\">Adj Close</th>\n",
              "    </tr>\n",
              "    <tr>\n",
              "      <th></th>\n",
              "      <th>AAPL</th>\n",
              "      <th>SPY</th>\n",
              "    </tr>\n",
              "    <tr>\n",
              "      <th>Date</th>\n",
              "      <th></th>\n",
              "      <th></th>\n",
              "    </tr>\n",
              "  </thead>\n",
              "  <tbody>\n",
              "    <tr>\n",
              "      <th>2021-01-04</th>\n",
              "      <td>126.544228</td>\n",
              "      <td>348.299438</td>\n",
              "    </tr>\n",
              "    <tr>\n",
              "      <th>2021-01-05</th>\n",
              "      <td>128.108780</td>\n",
              "      <td>350.698242</td>\n",
              "    </tr>\n",
              "    <tr>\n",
              "      <th>2021-01-06</th>\n",
              "      <td>123.796448</td>\n",
              "      <td>352.794922</td>\n",
              "    </tr>\n",
              "    <tr>\n",
              "      <th>2021-01-07</th>\n",
              "      <td>128.020752</td>\n",
              "      <td>358.036591</td>\n",
              "    </tr>\n",
              "    <tr>\n",
              "      <th>2021-01-08</th>\n",
              "      <td>129.125748</td>\n",
              "      <td>360.076569</td>\n",
              "    </tr>\n",
              "  </tbody>\n",
              "</table>\n",
              "</div>"
            ],
            "text/plain": [
              "             Adj Close            \n",
              "                  AAPL         SPY\n",
              "Date                              \n",
              "2021-01-04  126.544228  348.299438\n",
              "2021-01-05  128.108780  350.698242\n",
              "2021-01-06  123.796448  352.794922\n",
              "2021-01-07  128.020752  358.036591\n",
              "2021-01-08  129.125748  360.076569"
            ]
          },
          "execution_count": 110,
          "metadata": {},
          "output_type": "execute_result"
        }
      ],
      "source": [
        "stocks_df.loc[:,['Adj Close']].head()"
      ]
    },
    {
      "cell_type": "markdown",
      "metadata": {},
      "source": [
        "**DYI Q3:**\n",
        "\n",
        "In the aapl_prices_copy dataframe, add a new calculated column.\n",
        "\n",
        "- Create a new column called 'daily_returns' that contains the percent return of daily price movements.<br>\n",
        "- Use the pct_change() method from pandas. Apply this method to the prices column 'AAPL'.\n",
        "\n",
        "*Hint: The first row value of daily_returns should be NaN*"
      ]
    },
    {
      "cell_type": "code",
      "execution_count": 116,
      "metadata": {},
      "outputs": [
        {
          "data": {
            "text/html": [
              "<div>\n",
              "<style scoped>\n",
              "    .dataframe tbody tr th:only-of-type {\n",
              "        vertical-align: middle;\n",
              "    }\n",
              "\n",
              "    .dataframe tbody tr th {\n",
              "        vertical-align: top;\n",
              "    }\n",
              "\n",
              "    .dataframe thead th {\n",
              "        text-align: right;\n",
              "    }\n",
              "</style>\n",
              "<table border=\"1\" class=\"dataframe\">\n",
              "  <thead>\n",
              "    <tr style=\"text-align: right;\">\n",
              "      <th></th>\n",
              "      <th>AAPL</th>\n",
              "      <th>half_price</th>\n",
              "      <th>quarter_price</th>\n",
              "      <th>daily_returns</th>\n",
              "    </tr>\n",
              "    <tr>\n",
              "      <th>Date</th>\n",
              "      <th></th>\n",
              "      <th></th>\n",
              "      <th></th>\n",
              "      <th></th>\n",
              "    </tr>\n",
              "  </thead>\n",
              "  <tbody>\n",
              "    <tr>\n",
              "      <th>2020-12-31</th>\n",
              "      <td>129.751572</td>\n",
              "      <td>64.875786</td>\n",
              "      <td>32.437893</td>\n",
              "      <td>NaN</td>\n",
              "    </tr>\n",
              "    <tr>\n",
              "      <th>2021-01-04</th>\n",
              "      <td>126.544212</td>\n",
              "      <td>63.272106</td>\n",
              "      <td>31.636053</td>\n",
              "      <td>-0.024719</td>\n",
              "    </tr>\n",
              "    <tr>\n",
              "      <th>2021-01-05</th>\n",
              "      <td>128.108780</td>\n",
              "      <td>64.054390</td>\n",
              "      <td>32.027195</td>\n",
              "      <td>0.012364</td>\n",
              "    </tr>\n",
              "    <tr>\n",
              "      <th>2021-01-06</th>\n",
              "      <td>123.796440</td>\n",
              "      <td>61.898220</td>\n",
              "      <td>30.949110</td>\n",
              "      <td>-0.033662</td>\n",
              "    </tr>\n",
              "    <tr>\n",
              "      <th>2021-01-07</th>\n",
              "      <td>128.020767</td>\n",
              "      <td>64.010384</td>\n",
              "      <td>32.005192</td>\n",
              "      <td>0.034123</td>\n",
              "    </tr>\n",
              "    <tr>\n",
              "      <th>...</th>\n",
              "      <td>...</td>\n",
              "      <td>...</td>\n",
              "      <td>...</td>\n",
              "      <td>...</td>\n",
              "    </tr>\n",
              "    <tr>\n",
              "      <th>2021-12-27</th>\n",
              "      <td>177.423676</td>\n",
              "      <td>88.711838</td>\n",
              "      <td>44.355919</td>\n",
              "      <td>0.022975</td>\n",
              "    </tr>\n",
              "    <tr>\n",
              "      <th>2021-12-28</th>\n",
              "      <td>176.400406</td>\n",
              "      <td>88.200203</td>\n",
              "      <td>44.100101</td>\n",
              "      <td>-0.005767</td>\n",
              "    </tr>\n",
              "    <tr>\n",
              "      <th>2021-12-29</th>\n",
              "      <td>176.488983</td>\n",
              "      <td>88.244492</td>\n",
              "      <td>44.122246</td>\n",
              "      <td>0.000502</td>\n",
              "    </tr>\n",
              "    <tr>\n",
              "      <th>2021-12-30</th>\n",
              "      <td>175.328003</td>\n",
              "      <td>87.664001</td>\n",
              "      <td>43.832001</td>\n",
              "      <td>-0.006578</td>\n",
              "    </tr>\n",
              "    <tr>\n",
              "      <th>2021-12-31</th>\n",
              "      <td>174.708160</td>\n",
              "      <td>87.354080</td>\n",
              "      <td>43.677040</td>\n",
              "      <td>-0.003535</td>\n",
              "    </tr>\n",
              "  </tbody>\n",
              "</table>\n",
              "<p>253 rows × 4 columns</p>\n",
              "</div>"
            ],
            "text/plain": [
              "                  AAPL  half_price  quarter_price  daily_returns\n",
              "Date                                                            \n",
              "2020-12-31  129.751572   64.875786      32.437893            NaN\n",
              "2021-01-04  126.544212   63.272106      31.636053      -0.024719\n",
              "2021-01-05  128.108780   64.054390      32.027195       0.012364\n",
              "2021-01-06  123.796440   61.898220      30.949110      -0.033662\n",
              "2021-01-07  128.020767   64.010384      32.005192       0.034123\n",
              "...                ...         ...            ...            ...\n",
              "2021-12-27  177.423676   88.711838      44.355919       0.022975\n",
              "2021-12-28  176.400406   88.200203      44.100101      -0.005767\n",
              "2021-12-29  176.488983   88.244492      44.122246       0.000502\n",
              "2021-12-30  175.328003   87.664001      43.832001      -0.006578\n",
              "2021-12-31  174.708160   87.354080      43.677040      -0.003535\n",
              "\n",
              "[253 rows x 4 columns]"
            ]
          },
          "execution_count": 116,
          "metadata": {},
          "output_type": "execute_result"
        }
      ],
      "source": [
        "# your code here\n",
        "aapl_prices_copy['daily_returns'] = aapl_prices_copy['AAPL'].pct_change()\n",
        "aapl_prices_copy\n"
      ]
    },
    {
      "cell_type": "markdown",
      "metadata": {},
      "source": [
        "**DYI Q4:**\n",
        "\n",
        "In the data retreived, prices are missing for 1-3 Jan. <BR>Is there a problem with yfinance or is the data correct? Are the 2nd and 3rd of January weekend days?<BR>\n",
        "Let's find out.\n",
        "\n",
        "Use Generative AI to help you write the Python code to list the day of week associated with each row in the dataframe.<br> \n",
        "Your ouput should look like this:<br>\n",
        "Date<br>\n",
        "2021-12-27       Monday<br>\n",
        "2021-12-28      Tuesday<br>\n",
        "2021-12-29    Wednesday<br>\n",
        "2021-12-30     Thursday<br>\n",
        "2021-12-31       Friday<br>\n",
        "\n",
        "Then check which day of the week the 4th of January occurred on to determine which days the 2nd and 3rd were."
      ]
    },
    {
      "cell_type": "code",
      "execution_count": 112,
      "metadata": {},
      "outputs": [
        {
          "name": "stderr",
          "output_type": "stream",
          "text": [
            "UsageError: Line magic function `%` not found.\n"
          ]
        }
      ],
      "source": [
        "# your successful GenAI prompts here:\n",
        "\n",
        "% you are an assistant to a Python software developer\n",
        "%\tAAPL\thalf_price\tquarter_price\tdaily_returns\n",
        "% Date\t\t\t\t\n",
        "% 2020-12-31\t129.751572\t64.875786\t32.437893\tNaN\n",
        "% 2021-01-04\t126.544212\t63.272106\t31.636053\t-0.024719\n",
        "% 2021-01-05\t128.108780\t64.054390\t32.027195\t0.012364\n",
        "% in the data retrieved, prices are missing for 1-3 January. \n",
        "% Help me to write a code to list the day of the week associated with each row in the dataframe like this\n",
        "% Date\n",
        "% 2021-12-31 Friday\n",
        "% Check the day of the week of 4th January 2021 to determine which days the 2nd and 3rd were."
      ]
    },
    {
      "cell_type": "code",
      "execution_count": 119,
      "metadata": {},
      "outputs": [
        {
          "name": "stdout",
          "output_type": "stream",
          "text": [
            "           day_of_week\n",
            "2020-12-31    Thursday\n",
            "2021-01-01      Friday\n",
            "2021-01-02    Saturday\n",
            "2021-01-03      Sunday\n",
            "2021-01-04      Monday\n",
            "2021-01-05     Tuesday\n"
          ]
        }
      ],
      "source": [
        "import pandas as pd\n",
        "\n",
        "# Sample data\n",
        "data = {\n",
        "    \"AAPL\": [129.751572, 126.544212, 128.108780],\n",
        "    \"half_price\": [64.875786, 63.272106, 64.054390],\n",
        "    \"quarter_price\": [32.437893, 31.636053, 32.027195],\n",
        "    \"daily_returns\": [None, -0.024719, 0.012364]\n",
        "}\n",
        "index = [\"2020-12-31\", \"2021-01-04\", \"2021-01-05\"]\n",
        "\n",
        "# Create DataFrame\n",
        "df = pd.DataFrame(data, index=pd.to_datetime(index))\n",
        "\n",
        "# Generate a complete range of dates\n",
        "full_date_range = pd.date_range(start=\"2020-12-31\", end=\"2021-01-05\")\n",
        "\n",
        "# Reindex to include all dates\n",
        "df = df.reindex(full_date_range)\n",
        "\n",
        "# Add the day of the week\n",
        "df[\"day_of_week\"] = df.index.day_name()\n",
        "\n",
        "# Print the missing dates with their corresponding days of the week\n",
        "print(df[[\"day_of_week\"]])\n"
      ]
    },
    {
      "cell_type": "markdown",
      "metadata": {},
      "source": [
        "Your answer"
      ]
    }
  ],
  "metadata": {
    "kernelspec": {
      "display_name": "base",
      "language": "python",
      "name": "python3"
    },
    "language_info": {
      "codemirror_mode": {
        "name": "ipython",
        "version": 3
      },
      "file_extension": ".py",
      "mimetype": "text/x-python",
      "name": "python",
      "nbconvert_exporter": "python",
      "pygments_lexer": "ipython3",
      "version": "3.11.5"
    },
    "nteract": {
      "version": "0.28.0"
    }
  },
  "nbformat": 4,
  "nbformat_minor": 4
}
